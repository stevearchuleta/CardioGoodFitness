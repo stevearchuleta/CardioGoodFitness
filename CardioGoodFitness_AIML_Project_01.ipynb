{
 "cells": [
  {
   "cell_type": "markdown",
   "metadata": {},
   "source": [
    "###  <span style=\"font-family: Arial; font-weight:bold;font-size:1.9em;color:#0e92ea\"> Steven Gilbert Archuleta\n",
    "\n",
    "<font color=darkblue>\n",
    "&nbsp;\n",
    "    \n",
    "\n",
    "\n",
    "###  <span style=\"font-family: Arial; font-weight:bold;font-size:1.9em;color:#0e92ea\"> Cardio Good Fitness (AIML Project 01)\n",
    "  \n",
    "<font color=darkblue>\n",
    "\n",
    "&nbsp;\n",
    "\n",
    "Due: 18JUN2021 19:30 local time, \n",
    "\n",
    "Sacramento, California (PDT)\n",
    "\n",
    "&nbsp;\n",
    "[My GitHub Link for Project 1](https://github.com/GL-AIML-International/gl-pgp-aiml-ba-uta-intl-may21-stevearchuleta)"
   ]
  },
  {
   "cell_type": "markdown",
   "metadata": {},
   "source": [
    "****"
   ]
  },
  {
   "cell_type": "markdown",
   "metadata": {},
   "source": [
    "*****"
   ]
  },
  {
   "cell_type": "markdown",
   "metadata": {},
   "source": [
    "*****"
   ]
  },
  {
   "cell_type": "markdown",
   "metadata": {},
   "source": [
    "###  <span style=\"font-family: Arial; font-weight:bold;font-size:1m;color:#0e92ea\"> Objective:\n",
    "\n",
    "<font color=darkblue>\n",
    "&nbsp;\n",
    "    \n",
    "Explore the dataset and practice extracting basic observations about the data.\n",
    "\n",
    "\n",
    "###  <span style=\"font-family: Arial; font-weight:bold;font-size:1em;color:#0e92ea\"> Do the following :\n",
    "  \n",
    "<font color=darkblue>\n",
    "\n",
    "&nbsp;\n",
    "\n",
    "1. Come up with a customer profile (characteristics of a customer) for the different products.\n",
    "2. Perform uni-variate and multi-variate analyses.\n",
    "3. Generate a set of insights and recommendations that will help the company target new customers.\n",
    "\n"
   ]
  },
  {
   "cell_type": "markdown",
   "metadata": {},
   "source": [
    "###  <span style=\"font-family: Arial; font-weight:bold;font-size:1em;color:#0e92ea\"> Context:\n",
    "\n",
    "<font color=darkblue>\n",
    "&nbsp;\n",
    "    \n",
    "This dataset represents customers of a retail store called Cardio Good Fitness which sells treadmill products. It contains the following variables:\n",
    "\n",
    "\n",
    "###  <span style=\"font-family: Arial; font-weight:bold;font-size:1em;color:#0e92ea\"> Attributes/Series/Features:\n",
    "  \n",
    "<font color=darkblue>\n",
    "\n",
    "&nbsp;\n",
    "\n",
    "1.\tProduct        - the model number of the treadmill (TM195, TM498, TM798)\n",
    "2.\tAge            - of customer (in number of years)\n",
    "3.\tGender         - of the customer\n",
    "4.\tEducation      - of the customer (in number of years)\n",
    "5.\tMarital Status - of the customer\n",
    "6.\tUsage          - average number of times the customer intends to use the treadmill each week\n",
    "7.\tFitness        - self-rated fitness score of the customer (5 - very fit, 1 - poorly fit)\n",
    "8.\tIncome         - of the customer\n",
    "9.\tMiles          - expected to run on the treadmill each week\n",
    "\n"
   ]
  },
  {
   "cell_type": "markdown",
   "metadata": {},
   "source": [
    "****"
   ]
  },
  {
   "cell_type": "markdown",
   "metadata": {},
   "source": [
    "*****"
   ]
  },
  {
   "cell_type": "markdown",
   "metadata": {},
   "source": [
    "****"
   ]
  },
  {
   "cell_type": "markdown",
   "metadata": {},
   "source": [
    "<font color=darkblue>\n",
    "    \n",
    "### 1. Import libraries and packages"
   ]
  },
  {
   "cell_type": "code",
   "execution_count": 1,
   "metadata": {},
   "outputs": [],
   "source": [
    "import numpy as np\n",
    "import pandas as pd\n",
    "\n",
    "import matplotlib.pyplot as plt\n",
    "import seaborn as sns\n",
    "%matplotlib inline\n",
    "plt.style.use(\"ggplot\")\n",
    "sns.set_style('darkgrid')\n",
    "\n",
    "import warnings\n",
    "warnings.filterwarnings(\"ignore\")"
   ]
  },
  {
   "cell_type": "markdown",
   "metadata": {},
   "source": [
    "****"
   ]
  },
  {
   "cell_type": "markdown",
   "metadata": {},
   "source": [
    "<font color=darkblue>\n",
    "\n",
    "### 2. Read the dataset into Jupyter Notebook"
   ]
  },
  {
   "cell_type": "code",
   "execution_count": 2,
   "metadata": {},
   "outputs": [],
   "source": [
    "df = pd.read_csv('CardioGoodFitness.csv')"
   ]
  },
  {
   "cell_type": "code",
   "execution_count": 3,
   "metadata": {},
   "outputs": [],
   "source": [
    "# To avoid making any changes to the original dataset, copy the data to another variable\n",
    "cardio = df.copy()"
   ]
  },
  {
   "cell_type": "markdown",
   "metadata": {},
   "source": [
    "****"
   ]
  },
  {
   "cell_type": "markdown",
   "metadata": {},
   "source": [
    "****"
   ]
  },
  {
   "cell_type": "markdown",
   "metadata": {},
   "source": [
    "****"
   ]
  },
  {
   "cell_type": "markdown",
   "metadata": {},
   "source": [
    "###  <span style=\"font-family: Arial; font-weight:bold;font-size:1.5em;color:#0e92ea\"> Overview of Dataset\n",
    "\n",
    "<font color=darkblue>\n",
    "&nbsp;\n",
    "\n",
    "3.  df Data Type     - pandas core frame dataframe\n",
    "4.\tLength        - number of data objects\n",
    "5.\tShape           - (rows, columns) (data objects, attributes)\n",
    "6.\tColumns         - list of variable attributes\n",
    "7.\tList Comprehension  - column-based indexing integers for iloc() function\n",
    "8.  Dictionary Comprehension - column-based key-value pairs\n",
    "9.\tData Types   - value count of datatypes\n",
    "10.\tInfo          - class, range index, data columns, data types, memory usage    \n",
    "11.\tNull         - sum of missing values\n",
    "12.  Head          - first 5 data objects\n",
    "13.  Tail         - last 5 data objets\n",
    "14. Sample(10)   - 10 random data objects  \n",
    "15.\tDescribe        - five number summary of descriptive statistics\n"
   ]
  },
  {
   "cell_type": "markdown",
   "metadata": {},
   "source": [
    "<font color=darkblue>\n",
    "\n",
    "### 3. Return the Pandas datatype for the dataframe named \"df\""
   ]
  },
  {
   "cell_type": "code",
   "execution_count": 4,
   "metadata": {},
   "outputs": [
    {
     "data": {
      "text/plain": [
       "pandas.core.frame.DataFrame"
      ]
     },
     "execution_count": 4,
     "metadata": {},
     "output_type": "execute_result"
    }
   ],
   "source": [
    "type(df)"
   ]
  },
  {
   "cell_type": "code",
   "execution_count": 5,
   "metadata": {},
   "outputs": [
    {
     "data": {
      "text/plain": [
       "pandas.core.frame.DataFrame"
      ]
     },
     "execution_count": 5,
     "metadata": {},
     "output_type": "execute_result"
    }
   ],
   "source": [
    "type(cardio)"
   ]
  },
  {
   "cell_type": "markdown",
   "metadata": {},
   "source": [
    "****"
   ]
  },
  {
   "cell_type": "markdown",
   "metadata": {},
   "source": [
    "<font color=darkblue>\n",
    "\n",
    "### 4. Return the length of the Pandas dataframe named \"df\""
   ]
  },
  {
   "cell_type": "code",
   "execution_count": 6,
   "metadata": {},
   "outputs": [
    {
     "data": {
      "text/plain": [
       "180"
      ]
     },
     "execution_count": 6,
     "metadata": {},
     "output_type": "execute_result"
    }
   ],
   "source": [
    "len(df)"
   ]
  },
  {
   "cell_type": "code",
   "execution_count": 7,
   "metadata": {},
   "outputs": [
    {
     "data": {
      "text/plain": [
       "180"
      ]
     },
     "execution_count": 7,
     "metadata": {},
     "output_type": "execute_result"
    }
   ],
   "source": [
    "len(cardio)"
   ]
  },
  {
   "cell_type": "markdown",
   "metadata": {},
   "source": [
    "****"
   ]
  },
  {
   "cell_type": "markdown",
   "metadata": {},
   "source": [
    "<font color=darkblue>\n",
    "\n",
    "### 5. Return the shape of the Pandas dataframe named \"df\""
   ]
  },
  {
   "cell_type": "code",
   "execution_count": 8,
   "metadata": {},
   "outputs": [
    {
     "data": {
      "text/plain": [
       "(180, 9)"
      ]
     },
     "execution_count": 8,
     "metadata": {},
     "output_type": "execute_result"
    }
   ],
   "source": [
    "df.shape"
   ]
  },
  {
   "cell_type": "code",
   "execution_count": 9,
   "metadata": {},
   "outputs": [
    {
     "data": {
      "text/plain": [
       "(180, 9)"
      ]
     },
     "execution_count": 9,
     "metadata": {},
     "output_type": "execute_result"
    }
   ],
   "source": [
    "cardio.shape"
   ]
  },
  {
   "cell_type": "markdown",
   "metadata": {},
   "source": [
    "****"
   ]
  },
  {
   "cell_type": "markdown",
   "metadata": {},
   "source": [
    "<font color=darkblue>\n",
    "\n",
    "### 6. Return the column label values for the Pandas dataframe named \"df\""
   ]
  },
  {
   "cell_type": "code",
   "execution_count": 10,
   "metadata": {},
   "outputs": [
    {
     "data": {
      "text/plain": [
       "Index(['Product', 'Age', 'Gender', 'Education', 'MaritalStatus', 'Usage',\n",
       "       'Fitness', 'Income', 'Miles'],\n",
       "      dtype='object')"
      ]
     },
     "execution_count": 10,
     "metadata": {},
     "output_type": "execute_result"
    }
   ],
   "source": [
    "df.columns"
   ]
  },
  {
   "cell_type": "code",
   "execution_count": 11,
   "metadata": {},
   "outputs": [
    {
     "data": {
      "text/plain": [
       "Index(['Product', 'Age', 'Gender', 'Education', 'MaritalStatus', 'Usage',\n",
       "       'Fitness', 'Income', 'Miles'],\n",
       "      dtype='object')"
      ]
     },
     "execution_count": 11,
     "metadata": {},
     "output_type": "execute_result"
    }
   ],
   "source": [
    "cardio.columns"
   ]
  },
  {
   "cell_type": "markdown",
   "metadata": {},
   "source": [
    "****"
   ]
  },
  {
   "cell_type": "markdown",
   "metadata": {},
   "source": [
    "<font color=darkblue>\n",
    "\n",
    "### 7. Return a LIST COMPREHENSION that maps an index integer to the column label values for the Pandas dataframe named \"df\"   NOTE: These index numbers may be used in the iloc() function if/when referencing multiple columns "
   ]
  },
  {
   "cell_type": "code",
   "execution_count": 12,
   "metadata": {},
   "outputs": [
    {
     "name": "stdout",
     "output_type": "stream",
     "text": [
      "['0:Product', '1:Age', '2:Gender', '3:Education', '4:MaritalStatus', '5:Usage', '6:Fitness', '7:Income', '8:Miles']\n"
     ]
    }
   ],
   "source": [
    "# LIST COMPREHENSION - build a reference list of all columns and their indexes  (identify column name by index)\n",
    "\n",
    "df_col_mapping_list = [f\"{c[0]}:{c[1]}\" for c in enumerate(df.columns)]\n",
    "print(df_col_mapping_list)"
   ]
  },
  {
   "cell_type": "code",
   "execution_count": 10,
   "metadata": {},
   "outputs": [
    {
     "name": "stdout",
     "output_type": "stream",
     "text": [
      "['0:Product', '1:Age', '2:Gender', '3:Education', '4:MaritalStatus', '5:Usage', '6:Fitness', '7:Income', '8:Miles']\n"
     ]
    }
   ],
   "source": [
    "df_col_mapping_list = [f\"{c[0]}:{c[1]}\" for c in enumerate(cardio.columns)]\n",
    "print(df_col_mapping_list)"
   ]
  },
  {
   "cell_type": "markdown",
   "metadata": {},
   "source": [
    "****"
   ]
  },
  {
   "cell_type": "markdown",
   "metadata": {},
   "source": [
    "<font color=darkblue>\n",
    "\n",
    "### 8. Return a DICTIONARY COMPREHENSION that maps a key integer to the column label values for the Pandas dataframe named \"df\"   NOTE: These key numbers may be used to reference/access particular columns "
   ]
  },
  {
   "cell_type": "code",
   "execution_count": 332,
   "metadata": {},
   "outputs": [
    {
     "name": "stdout",
     "output_type": "stream",
     "text": [
      "{0: 'Product', 1: 'Age', 2: 'Gender', 3: 'Education', 4: 'MaritalStatus', 5: 'Usage', 6: 'Fitness', 7: 'Income', 8: 'Miles'}\n"
     ]
    }
   ],
   "source": [
    "# DICTIONARY COMPREHENSION - build a dictionary view of all columns and their indexes  (tool to rename columns, when needed)\n",
    "df_col_mapping_dict = {c[0]:c[1] for c in enumerate(df.columns)}\n",
    "print(df_col_mapping_dict)"
   ]
  },
  {
   "cell_type": "code",
   "execution_count": 11,
   "metadata": {},
   "outputs": [
    {
     "name": "stdout",
     "output_type": "stream",
     "text": [
      "{0: 'Product', 1: 'Age', 2: 'Gender', 3: 'Education', 4: 'MaritalStatus', 5: 'Usage', 6: 'Fitness', 7: 'Income', 8: 'Miles'}\n"
     ]
    }
   ],
   "source": [
    "df_col_mapping_dict = {c[0]:c[1] for c in enumerate(cardio.columns)}\n",
    "print(df_col_mapping_dict)"
   ]
  },
  {
   "cell_type": "markdown",
   "metadata": {},
   "source": [
    "****"
   ]
  },
  {
   "cell_type": "markdown",
   "metadata": {},
   "source": [
    "<font color=darkblue>\n",
    "\n",
    "### 9. Return the datatypes for each of the column label values for the Pandas dataframe named \"df\""
   ]
  },
  {
   "cell_type": "code",
   "execution_count": 333,
   "metadata": {},
   "outputs": [
    {
     "data": {
      "text/plain": [
       "int64     6\n",
       "object    3\n",
       "dtype: int64"
      ]
     },
     "execution_count": 333,
     "metadata": {},
     "output_type": "execute_result"
    }
   ],
   "source": [
    "df.dtypes.value_counts()"
   ]
  },
  {
   "cell_type": "code",
   "execution_count": 12,
   "metadata": {},
   "outputs": [
    {
     "data": {
      "text/plain": [
       "int64     6\n",
       "object    3\n",
       "dtype: int64"
      ]
     },
     "execution_count": 12,
     "metadata": {},
     "output_type": "execute_result"
    }
   ],
   "source": [
    "cardio.dtypes.value_counts()"
   ]
  },
  {
   "cell_type": "markdown",
   "metadata": {},
   "source": [
    "****"
   ]
  },
  {
   "cell_type": "markdown",
   "metadata": {},
   "source": [
    "<font color=darkblue>\n",
    "\n",
    "### 10. Return a table that identifies the following \"INFORMATION\" about the Pandas dataframe named \"df\"\n",
    "#### OBSERVABLE return:\n",
    "######  10a: type of data structure, \n",
    "######  10b: range of data objects, \n",
    "######  10c: number of column label values, \n",
    "######  10d: column index number, \n",
    "######  10e: column label value, \n",
    "######  10f: non-null count, \n",
    "######  10g: datatype for each column label value, \n",
    "######  10h: count of series datatypes, \n",
    "######  10i: memory usage"
   ]
  },
  {
   "cell_type": "code",
   "execution_count": 334,
   "metadata": {},
   "outputs": [
    {
     "name": "stdout",
     "output_type": "stream",
     "text": [
      "<class 'pandas.core.frame.DataFrame'>\n",
      "RangeIndex: 180 entries, 0 to 179\n",
      "Data columns (total 9 columns):\n",
      " #   Column         Non-Null Count  Dtype \n",
      "---  ------         --------------  ----- \n",
      " 0   Product        180 non-null    object\n",
      " 1   Age            180 non-null    int64 \n",
      " 2   Gender         180 non-null    object\n",
      " 3   Education      180 non-null    int64 \n",
      " 4   MaritalStatus  180 non-null    object\n",
      " 5   Usage          180 non-null    int64 \n",
      " 6   Fitness        180 non-null    int64 \n",
      " 7   Income         180 non-null    int64 \n",
      " 8   Miles          180 non-null    int64 \n",
      "dtypes: int64(6), object(3)\n",
      "memory usage: 12.8+ KB\n"
     ]
    }
   ],
   "source": [
    "df.info()"
   ]
  },
  {
   "cell_type": "code",
   "execution_count": 13,
   "metadata": {},
   "outputs": [
    {
     "name": "stdout",
     "output_type": "stream",
     "text": [
      "<class 'pandas.core.frame.DataFrame'>\n",
      "RangeIndex: 180 entries, 0 to 179\n",
      "Data columns (total 9 columns):\n",
      " #   Column         Non-Null Count  Dtype \n",
      "---  ------         --------------  ----- \n",
      " 0   Product        180 non-null    object\n",
      " 1   Age            180 non-null    int64 \n",
      " 2   Gender         180 non-null    object\n",
      " 3   Education      180 non-null    int64 \n",
      " 4   MaritalStatus  180 non-null    object\n",
      " 5   Usage          180 non-null    int64 \n",
      " 6   Fitness        180 non-null    int64 \n",
      " 7   Income         180 non-null    int64 \n",
      " 8   Miles          180 non-null    int64 \n",
      "dtypes: int64(6), object(3)\n",
      "memory usage: 12.8+ KB\n"
     ]
    }
   ],
   "source": [
    "cardio.info()"
   ]
  },
  {
   "cell_type": "markdown",
   "metadata": {},
   "source": [
    "****"
   ]
  },
  {
   "cell_type": "markdown",
   "metadata": {},
   "source": [
    "\n",
    "<font color=darkblue>\n",
    "\n",
    "### 11. Reassign data types -- \"astype() --  \"(notice how the memory usage becomes less for the dataset)\n",
    "#### Fitness int64 --> Fitness category\n",
    "#### Product object --> Product category\n",
    "#### Gender object --> Gender catagory\n",
    "#### MaritalStatus --> MaritalStatus category\n",
    "\n"
   ]
  },
  {
   "cell_type": "code",
   "execution_count": 21,
   "metadata": {},
   "outputs": [],
   "source": [
    "# Reassign data types to selected categorical series\n",
    "cardio['Fitness'] = cardio['Fitness'].astype('category')\n",
    "cardio['Product'] = cardio['Product'].astype('category')\n",
    "cardio['Gender'] = cardio['Gender'].astype('category')\n",
    "cardio['MaritalStatus'] = cardio['MaritalStatus'].astype('category')"
   ]
  },
  {
   "cell_type": "code",
   "execution_count": 23,
   "metadata": {},
   "outputs": [
    {
     "name": "stdout",
     "output_type": "stream",
     "text": [
      "<class 'pandas.core.frame.DataFrame'>\n",
      "RangeIndex: 180 entries, 0 to 179\n",
      "Data columns (total 9 columns):\n",
      " #   Column         Non-Null Count  Dtype   \n",
      "---  ------         --------------  -----   \n",
      " 0   Product        180 non-null    category\n",
      " 1   Age            180 non-null    int64   \n",
      " 2   Gender         180 non-null    category\n",
      " 3   Education      180 non-null    int64   \n",
      " 4   MaritalStatus  180 non-null    category\n",
      " 5   Usage          180 non-null    int64   \n",
      " 6   Fitness        180 non-null    category\n",
      " 7   Income         180 non-null    int64   \n",
      " 8   Miles          180 non-null    int64   \n",
      "dtypes: category(4), int64(5)\n",
      "memory usage: 8.3 KB\n"
     ]
    }
   ],
   "source": [
    "# memory usages down to 8.3KB from 12.8KN\n",
    "# note how the memory usage of a category is less than an object\n",
    "cardio.info()"
   ]
  },
  {
   "cell_type": "markdown",
   "metadata": {},
   "source": [
    "* Product,Gender, Marital Status and Fitness have been converted to categories\n",
    "\n",
    "`The memory usage has decreased from 12.8KB to 8.3KB`"
   ]
  },
  {
   "cell_type": "markdown",
   "metadata": {},
   "source": [
    "****"
   ]
  },
  {
   "cell_type": "markdown",
   "metadata": {},
   "source": [
    "<font color=darkblue>\n",
    "\n",
    "### 12. Return a table that identifies the sum of null values for each attribute in the Pandas dataframe named \"df\""
   ]
  },
  {
   "cell_type": "code",
   "execution_count": 335,
   "metadata": {},
   "outputs": [
    {
     "data": {
      "text/plain": [
       "Product          0\n",
       "Age              0\n",
       "Gender           0\n",
       "Education        0\n",
       "MaritalStatus    0\n",
       "Usage            0\n",
       "Fitness          0\n",
       "Income           0\n",
       "Miles            0\n",
       "dtype: int64"
      ]
     },
     "execution_count": 335,
     "metadata": {},
     "output_type": "execute_result"
    }
   ],
   "source": [
    "df.isnull().sum()"
   ]
  },
  {
   "cell_type": "code",
   "execution_count": 14,
   "metadata": {},
   "outputs": [
    {
     "data": {
      "text/plain": [
       "Product          0\n",
       "Age              0\n",
       "Gender           0\n",
       "Education        0\n",
       "MaritalStatus    0\n",
       "Usage            0\n",
       "Fitness          0\n",
       "Income           0\n",
       "Miles            0\n",
       "dtype: int64"
      ]
     },
     "execution_count": 14,
     "metadata": {},
     "output_type": "execute_result"
    }
   ],
   "source": [
    "cardio.isnull().sum()"
   ]
  },
  {
   "cell_type": "markdown",
   "metadata": {},
   "source": [
    "****"
   ]
  },
  {
   "cell_type": "markdown",
   "metadata": {},
   "source": [
    "<font color=darkblue>\n",
    "\n",
    "### 13. Return the first 5 data objects of the Pandas dataframe named \"df\""
   ]
  },
  {
   "cell_type": "code",
   "execution_count": 336,
   "metadata": {},
   "outputs": [
    {
     "data": {
      "text/html": [
       "<div>\n",
       "<style scoped>\n",
       "    .dataframe tbody tr th:only-of-type {\n",
       "        vertical-align: middle;\n",
       "    }\n",
       "\n",
       "    .dataframe tbody tr th {\n",
       "        vertical-align: top;\n",
       "    }\n",
       "\n",
       "    .dataframe thead th {\n",
       "        text-align: right;\n",
       "    }\n",
       "</style>\n",
       "<table border=\"1\" class=\"dataframe\">\n",
       "  <thead>\n",
       "    <tr style=\"text-align: right;\">\n",
       "      <th></th>\n",
       "      <th>Product</th>\n",
       "      <th>Age</th>\n",
       "      <th>Gender</th>\n",
       "      <th>Education</th>\n",
       "      <th>MaritalStatus</th>\n",
       "      <th>Usage</th>\n",
       "      <th>Fitness</th>\n",
       "      <th>Income</th>\n",
       "      <th>Miles</th>\n",
       "    </tr>\n",
       "  </thead>\n",
       "  <tbody>\n",
       "    <tr>\n",
       "      <th>0</th>\n",
       "      <td>TM195</td>\n",
       "      <td>18</td>\n",
       "      <td>Male</td>\n",
       "      <td>14</td>\n",
       "      <td>Single</td>\n",
       "      <td>3</td>\n",
       "      <td>4</td>\n",
       "      <td>29562</td>\n",
       "      <td>112</td>\n",
       "    </tr>\n",
       "    <tr>\n",
       "      <th>1</th>\n",
       "      <td>TM195</td>\n",
       "      <td>19</td>\n",
       "      <td>Male</td>\n",
       "      <td>15</td>\n",
       "      <td>Single</td>\n",
       "      <td>2</td>\n",
       "      <td>3</td>\n",
       "      <td>31836</td>\n",
       "      <td>75</td>\n",
       "    </tr>\n",
       "    <tr>\n",
       "      <th>2</th>\n",
       "      <td>TM195</td>\n",
       "      <td>19</td>\n",
       "      <td>Female</td>\n",
       "      <td>14</td>\n",
       "      <td>Partnered</td>\n",
       "      <td>4</td>\n",
       "      <td>3</td>\n",
       "      <td>30699</td>\n",
       "      <td>66</td>\n",
       "    </tr>\n",
       "    <tr>\n",
       "      <th>3</th>\n",
       "      <td>TM195</td>\n",
       "      <td>19</td>\n",
       "      <td>Male</td>\n",
       "      <td>12</td>\n",
       "      <td>Single</td>\n",
       "      <td>3</td>\n",
       "      <td>3</td>\n",
       "      <td>32973</td>\n",
       "      <td>85</td>\n",
       "    </tr>\n",
       "    <tr>\n",
       "      <th>4</th>\n",
       "      <td>TM195</td>\n",
       "      <td>20</td>\n",
       "      <td>Male</td>\n",
       "      <td>13</td>\n",
       "      <td>Partnered</td>\n",
       "      <td>4</td>\n",
       "      <td>2</td>\n",
       "      <td>35247</td>\n",
       "      <td>47</td>\n",
       "    </tr>\n",
       "  </tbody>\n",
       "</table>\n",
       "</div>"
      ],
      "text/plain": [
       "  Product  Age  Gender  Education MaritalStatus  Usage  Fitness  Income  Miles\n",
       "0   TM195   18    Male         14        Single      3        4   29562    112\n",
       "1   TM195   19    Male         15        Single      2        3   31836     75\n",
       "2   TM195   19  Female         14     Partnered      4        3   30699     66\n",
       "3   TM195   19    Male         12        Single      3        3   32973     85\n",
       "4   TM195   20    Male         13     Partnered      4        2   35247     47"
      ]
     },
     "execution_count": 336,
     "metadata": {},
     "output_type": "execute_result"
    }
   ],
   "source": [
    "df.head()"
   ]
  },
  {
   "cell_type": "code",
   "execution_count": 15,
   "metadata": {},
   "outputs": [
    {
     "data": {
      "text/html": [
       "<div>\n",
       "<style scoped>\n",
       "    .dataframe tbody tr th:only-of-type {\n",
       "        vertical-align: middle;\n",
       "    }\n",
       "\n",
       "    .dataframe tbody tr th {\n",
       "        vertical-align: top;\n",
       "    }\n",
       "\n",
       "    .dataframe thead th {\n",
       "        text-align: right;\n",
       "    }\n",
       "</style>\n",
       "<table border=\"1\" class=\"dataframe\">\n",
       "  <thead>\n",
       "    <tr style=\"text-align: right;\">\n",
       "      <th></th>\n",
       "      <th>Product</th>\n",
       "      <th>Age</th>\n",
       "      <th>Gender</th>\n",
       "      <th>Education</th>\n",
       "      <th>MaritalStatus</th>\n",
       "      <th>Usage</th>\n",
       "      <th>Fitness</th>\n",
       "      <th>Income</th>\n",
       "      <th>Miles</th>\n",
       "    </tr>\n",
       "  </thead>\n",
       "  <tbody>\n",
       "    <tr>\n",
       "      <th>0</th>\n",
       "      <td>TM195</td>\n",
       "      <td>18</td>\n",
       "      <td>Male</td>\n",
       "      <td>14</td>\n",
       "      <td>Single</td>\n",
       "      <td>3</td>\n",
       "      <td>4</td>\n",
       "      <td>29562</td>\n",
       "      <td>112</td>\n",
       "    </tr>\n",
       "    <tr>\n",
       "      <th>1</th>\n",
       "      <td>TM195</td>\n",
       "      <td>19</td>\n",
       "      <td>Male</td>\n",
       "      <td>15</td>\n",
       "      <td>Single</td>\n",
       "      <td>2</td>\n",
       "      <td>3</td>\n",
       "      <td>31836</td>\n",
       "      <td>75</td>\n",
       "    </tr>\n",
       "    <tr>\n",
       "      <th>2</th>\n",
       "      <td>TM195</td>\n",
       "      <td>19</td>\n",
       "      <td>Female</td>\n",
       "      <td>14</td>\n",
       "      <td>Partnered</td>\n",
       "      <td>4</td>\n",
       "      <td>3</td>\n",
       "      <td>30699</td>\n",
       "      <td>66</td>\n",
       "    </tr>\n",
       "    <tr>\n",
       "      <th>3</th>\n",
       "      <td>TM195</td>\n",
       "      <td>19</td>\n",
       "      <td>Male</td>\n",
       "      <td>12</td>\n",
       "      <td>Single</td>\n",
       "      <td>3</td>\n",
       "      <td>3</td>\n",
       "      <td>32973</td>\n",
       "      <td>85</td>\n",
       "    </tr>\n",
       "    <tr>\n",
       "      <th>4</th>\n",
       "      <td>TM195</td>\n",
       "      <td>20</td>\n",
       "      <td>Male</td>\n",
       "      <td>13</td>\n",
       "      <td>Partnered</td>\n",
       "      <td>4</td>\n",
       "      <td>2</td>\n",
       "      <td>35247</td>\n",
       "      <td>47</td>\n",
       "    </tr>\n",
       "  </tbody>\n",
       "</table>\n",
       "</div>"
      ],
      "text/plain": [
       "  Product  Age  Gender  Education MaritalStatus  Usage  Fitness  Income  Miles\n",
       "0   TM195   18    Male         14        Single      3        4   29562    112\n",
       "1   TM195   19    Male         15        Single      2        3   31836     75\n",
       "2   TM195   19  Female         14     Partnered      4        3   30699     66\n",
       "3   TM195   19    Male         12        Single      3        3   32973     85\n",
       "4   TM195   20    Male         13     Partnered      4        2   35247     47"
      ]
     },
     "execution_count": 15,
     "metadata": {},
     "output_type": "execute_result"
    }
   ],
   "source": [
    "cardio.head()"
   ]
  },
  {
   "cell_type": "markdown",
   "metadata": {},
   "source": [
    "****"
   ]
  },
  {
   "cell_type": "markdown",
   "metadata": {},
   "source": [
    "<font color=darkblue>\n",
    "\n",
    "### 14. Return the last 5 data objects of the Pandas dataframe named \"df\""
   ]
  },
  {
   "cell_type": "code",
   "execution_count": 337,
   "metadata": {},
   "outputs": [
    {
     "data": {
      "text/html": [
       "<div>\n",
       "<style scoped>\n",
       "    .dataframe tbody tr th:only-of-type {\n",
       "        vertical-align: middle;\n",
       "    }\n",
       "\n",
       "    .dataframe tbody tr th {\n",
       "        vertical-align: top;\n",
       "    }\n",
       "\n",
       "    .dataframe thead th {\n",
       "        text-align: right;\n",
       "    }\n",
       "</style>\n",
       "<table border=\"1\" class=\"dataframe\">\n",
       "  <thead>\n",
       "    <tr style=\"text-align: right;\">\n",
       "      <th></th>\n",
       "      <th>Product</th>\n",
       "      <th>Age</th>\n",
       "      <th>Gender</th>\n",
       "      <th>Education</th>\n",
       "      <th>MaritalStatus</th>\n",
       "      <th>Usage</th>\n",
       "      <th>Fitness</th>\n",
       "      <th>Income</th>\n",
       "      <th>Miles</th>\n",
       "    </tr>\n",
       "  </thead>\n",
       "  <tbody>\n",
       "    <tr>\n",
       "      <th>175</th>\n",
       "      <td>TM798</td>\n",
       "      <td>40</td>\n",
       "      <td>Male</td>\n",
       "      <td>21</td>\n",
       "      <td>Single</td>\n",
       "      <td>6</td>\n",
       "      <td>5</td>\n",
       "      <td>83416</td>\n",
       "      <td>200</td>\n",
       "    </tr>\n",
       "    <tr>\n",
       "      <th>176</th>\n",
       "      <td>TM798</td>\n",
       "      <td>42</td>\n",
       "      <td>Male</td>\n",
       "      <td>18</td>\n",
       "      <td>Single</td>\n",
       "      <td>5</td>\n",
       "      <td>4</td>\n",
       "      <td>89641</td>\n",
       "      <td>200</td>\n",
       "    </tr>\n",
       "    <tr>\n",
       "      <th>177</th>\n",
       "      <td>TM798</td>\n",
       "      <td>45</td>\n",
       "      <td>Male</td>\n",
       "      <td>16</td>\n",
       "      <td>Single</td>\n",
       "      <td>5</td>\n",
       "      <td>5</td>\n",
       "      <td>90886</td>\n",
       "      <td>160</td>\n",
       "    </tr>\n",
       "    <tr>\n",
       "      <th>178</th>\n",
       "      <td>TM798</td>\n",
       "      <td>47</td>\n",
       "      <td>Male</td>\n",
       "      <td>18</td>\n",
       "      <td>Partnered</td>\n",
       "      <td>4</td>\n",
       "      <td>5</td>\n",
       "      <td>104581</td>\n",
       "      <td>120</td>\n",
       "    </tr>\n",
       "    <tr>\n",
       "      <th>179</th>\n",
       "      <td>TM798</td>\n",
       "      <td>48</td>\n",
       "      <td>Male</td>\n",
       "      <td>18</td>\n",
       "      <td>Partnered</td>\n",
       "      <td>4</td>\n",
       "      <td>5</td>\n",
       "      <td>95508</td>\n",
       "      <td>180</td>\n",
       "    </tr>\n",
       "  </tbody>\n",
       "</table>\n",
       "</div>"
      ],
      "text/plain": [
       "    Product  Age Gender  Education MaritalStatus  Usage  Fitness  Income  \\\n",
       "175   TM798   40   Male         21        Single      6        5   83416   \n",
       "176   TM798   42   Male         18        Single      5        4   89641   \n",
       "177   TM798   45   Male         16        Single      5        5   90886   \n",
       "178   TM798   47   Male         18     Partnered      4        5  104581   \n",
       "179   TM798   48   Male         18     Partnered      4        5   95508   \n",
       "\n",
       "     Miles  \n",
       "175    200  \n",
       "176    200  \n",
       "177    160  \n",
       "178    120  \n",
       "179    180  "
      ]
     },
     "execution_count": 337,
     "metadata": {},
     "output_type": "execute_result"
    }
   ],
   "source": [
    "df.tail()"
   ]
  },
  {
   "cell_type": "code",
   "execution_count": 16,
   "metadata": {},
   "outputs": [
    {
     "data": {
      "text/html": [
       "<div>\n",
       "<style scoped>\n",
       "    .dataframe tbody tr th:only-of-type {\n",
       "        vertical-align: middle;\n",
       "    }\n",
       "\n",
       "    .dataframe tbody tr th {\n",
       "        vertical-align: top;\n",
       "    }\n",
       "\n",
       "    .dataframe thead th {\n",
       "        text-align: right;\n",
       "    }\n",
       "</style>\n",
       "<table border=\"1\" class=\"dataframe\">\n",
       "  <thead>\n",
       "    <tr style=\"text-align: right;\">\n",
       "      <th></th>\n",
       "      <th>Product</th>\n",
       "      <th>Age</th>\n",
       "      <th>Gender</th>\n",
       "      <th>Education</th>\n",
       "      <th>MaritalStatus</th>\n",
       "      <th>Usage</th>\n",
       "      <th>Fitness</th>\n",
       "      <th>Income</th>\n",
       "      <th>Miles</th>\n",
       "    </tr>\n",
       "  </thead>\n",
       "  <tbody>\n",
       "    <tr>\n",
       "      <th>175</th>\n",
       "      <td>TM798</td>\n",
       "      <td>40</td>\n",
       "      <td>Male</td>\n",
       "      <td>21</td>\n",
       "      <td>Single</td>\n",
       "      <td>6</td>\n",
       "      <td>5</td>\n",
       "      <td>83416</td>\n",
       "      <td>200</td>\n",
       "    </tr>\n",
       "    <tr>\n",
       "      <th>176</th>\n",
       "      <td>TM798</td>\n",
       "      <td>42</td>\n",
       "      <td>Male</td>\n",
       "      <td>18</td>\n",
       "      <td>Single</td>\n",
       "      <td>5</td>\n",
       "      <td>4</td>\n",
       "      <td>89641</td>\n",
       "      <td>200</td>\n",
       "    </tr>\n",
       "    <tr>\n",
       "      <th>177</th>\n",
       "      <td>TM798</td>\n",
       "      <td>45</td>\n",
       "      <td>Male</td>\n",
       "      <td>16</td>\n",
       "      <td>Single</td>\n",
       "      <td>5</td>\n",
       "      <td>5</td>\n",
       "      <td>90886</td>\n",
       "      <td>160</td>\n",
       "    </tr>\n",
       "    <tr>\n",
       "      <th>178</th>\n",
       "      <td>TM798</td>\n",
       "      <td>47</td>\n",
       "      <td>Male</td>\n",
       "      <td>18</td>\n",
       "      <td>Partnered</td>\n",
       "      <td>4</td>\n",
       "      <td>5</td>\n",
       "      <td>104581</td>\n",
       "      <td>120</td>\n",
       "    </tr>\n",
       "    <tr>\n",
       "      <th>179</th>\n",
       "      <td>TM798</td>\n",
       "      <td>48</td>\n",
       "      <td>Male</td>\n",
       "      <td>18</td>\n",
       "      <td>Partnered</td>\n",
       "      <td>4</td>\n",
       "      <td>5</td>\n",
       "      <td>95508</td>\n",
       "      <td>180</td>\n",
       "    </tr>\n",
       "  </tbody>\n",
       "</table>\n",
       "</div>"
      ],
      "text/plain": [
       "    Product  Age Gender  Education MaritalStatus  Usage  Fitness  Income  \\\n",
       "175   TM798   40   Male         21        Single      6        5   83416   \n",
       "176   TM798   42   Male         18        Single      5        4   89641   \n",
       "177   TM798   45   Male         16        Single      5        5   90886   \n",
       "178   TM798   47   Male         18     Partnered      4        5  104581   \n",
       "179   TM798   48   Male         18     Partnered      4        5   95508   \n",
       "\n",
       "     Miles  \n",
       "175    200  \n",
       "176    200  \n",
       "177    160  \n",
       "178    120  \n",
       "179    180  "
      ]
     },
     "execution_count": 16,
     "metadata": {},
     "output_type": "execute_result"
    }
   ],
   "source": [
    "cardio.tail()"
   ]
  },
  {
   "cell_type": "markdown",
   "metadata": {},
   "source": [
    "****"
   ]
  },
  {
   "cell_type": "markdown",
   "metadata": {},
   "source": [
    "<font color=darkblue>\n",
    "\n",
    "### 15. Return a random sample of 10 data objects of the Pandas dataframe named \"df\""
   ]
  },
  {
   "cell_type": "code",
   "execution_count": 338,
   "metadata": {},
   "outputs": [
    {
     "data": {
      "text/html": [
       "<div>\n",
       "<style scoped>\n",
       "    .dataframe tbody tr th:only-of-type {\n",
       "        vertical-align: middle;\n",
       "    }\n",
       "\n",
       "    .dataframe tbody tr th {\n",
       "        vertical-align: top;\n",
       "    }\n",
       "\n",
       "    .dataframe thead th {\n",
       "        text-align: right;\n",
       "    }\n",
       "</style>\n",
       "<table border=\"1\" class=\"dataframe\">\n",
       "  <thead>\n",
       "    <tr style=\"text-align: right;\">\n",
       "      <th></th>\n",
       "      <th>Product</th>\n",
       "      <th>Age</th>\n",
       "      <th>Gender</th>\n",
       "      <th>Education</th>\n",
       "      <th>MaritalStatus</th>\n",
       "      <th>Usage</th>\n",
       "      <th>Fitness</th>\n",
       "      <th>Income</th>\n",
       "      <th>Miles</th>\n",
       "    </tr>\n",
       "  </thead>\n",
       "  <tbody>\n",
       "    <tr>\n",
       "      <th>179</th>\n",
       "      <td>TM798</td>\n",
       "      <td>48</td>\n",
       "      <td>Male</td>\n",
       "      <td>18</td>\n",
       "      <td>Partnered</td>\n",
       "      <td>4</td>\n",
       "      <td>5</td>\n",
       "      <td>95508</td>\n",
       "      <td>180</td>\n",
       "    </tr>\n",
       "    <tr>\n",
       "      <th>109</th>\n",
       "      <td>TM498</td>\n",
       "      <td>26</td>\n",
       "      <td>Female</td>\n",
       "      <td>16</td>\n",
       "      <td>Single</td>\n",
       "      <td>4</td>\n",
       "      <td>4</td>\n",
       "      <td>50028</td>\n",
       "      <td>127</td>\n",
       "    </tr>\n",
       "    <tr>\n",
       "      <th>39</th>\n",
       "      <td>TM195</td>\n",
       "      <td>26</td>\n",
       "      <td>Male</td>\n",
       "      <td>16</td>\n",
       "      <td>Partnered</td>\n",
       "      <td>4</td>\n",
       "      <td>4</td>\n",
       "      <td>44343</td>\n",
       "      <td>132</td>\n",
       "    </tr>\n",
       "    <tr>\n",
       "      <th>79</th>\n",
       "      <td>TM195</td>\n",
       "      <td>50</td>\n",
       "      <td>Female</td>\n",
       "      <td>16</td>\n",
       "      <td>Partnered</td>\n",
       "      <td>3</td>\n",
       "      <td>3</td>\n",
       "      <td>64809</td>\n",
       "      <td>66</td>\n",
       "    </tr>\n",
       "    <tr>\n",
       "      <th>126</th>\n",
       "      <td>TM498</td>\n",
       "      <td>34</td>\n",
       "      <td>Male</td>\n",
       "      <td>16</td>\n",
       "      <td>Partnered</td>\n",
       "      <td>3</td>\n",
       "      <td>4</td>\n",
       "      <td>59124</td>\n",
       "      <td>85</td>\n",
       "    </tr>\n",
       "    <tr>\n",
       "      <th>69</th>\n",
       "      <td>TM195</td>\n",
       "      <td>38</td>\n",
       "      <td>Female</td>\n",
       "      <td>14</td>\n",
       "      <td>Partnered</td>\n",
       "      <td>2</td>\n",
       "      <td>3</td>\n",
       "      <td>54576</td>\n",
       "      <td>56</td>\n",
       "    </tr>\n",
       "    <tr>\n",
       "      <th>125</th>\n",
       "      <td>TM498</td>\n",
       "      <td>34</td>\n",
       "      <td>Female</td>\n",
       "      <td>16</td>\n",
       "      <td>Partnered</td>\n",
       "      <td>4</td>\n",
       "      <td>3</td>\n",
       "      <td>64809</td>\n",
       "      <td>95</td>\n",
       "    </tr>\n",
       "    <tr>\n",
       "      <th>86</th>\n",
       "      <td>TM498</td>\n",
       "      <td>21</td>\n",
       "      <td>Male</td>\n",
       "      <td>12</td>\n",
       "      <td>Partnered</td>\n",
       "      <td>2</td>\n",
       "      <td>2</td>\n",
       "      <td>32973</td>\n",
       "      <td>53</td>\n",
       "    </tr>\n",
       "    <tr>\n",
       "      <th>95</th>\n",
       "      <td>TM498</td>\n",
       "      <td>24</td>\n",
       "      <td>Male</td>\n",
       "      <td>14</td>\n",
       "      <td>Single</td>\n",
       "      <td>3</td>\n",
       "      <td>4</td>\n",
       "      <td>48891</td>\n",
       "      <td>106</td>\n",
       "    </tr>\n",
       "    <tr>\n",
       "      <th>138</th>\n",
       "      <td>TM498</td>\n",
       "      <td>45</td>\n",
       "      <td>Male</td>\n",
       "      <td>16</td>\n",
       "      <td>Partnered</td>\n",
       "      <td>2</td>\n",
       "      <td>2</td>\n",
       "      <td>54576</td>\n",
       "      <td>42</td>\n",
       "    </tr>\n",
       "  </tbody>\n",
       "</table>\n",
       "</div>"
      ],
      "text/plain": [
       "    Product  Age  Gender  Education MaritalStatus  Usage  Fitness  Income  \\\n",
       "179   TM798   48    Male         18     Partnered      4        5   95508   \n",
       "109   TM498   26  Female         16        Single      4        4   50028   \n",
       "39    TM195   26    Male         16     Partnered      4        4   44343   \n",
       "79    TM195   50  Female         16     Partnered      3        3   64809   \n",
       "126   TM498   34    Male         16     Partnered      3        4   59124   \n",
       "69    TM195   38  Female         14     Partnered      2        3   54576   \n",
       "125   TM498   34  Female         16     Partnered      4        3   64809   \n",
       "86    TM498   21    Male         12     Partnered      2        2   32973   \n",
       "95    TM498   24    Male         14        Single      3        4   48891   \n",
       "138   TM498   45    Male         16     Partnered      2        2   54576   \n",
       "\n",
       "     Miles  \n",
       "179    180  \n",
       "109    127  \n",
       "39     132  \n",
       "79      66  \n",
       "126     85  \n",
       "69      56  \n",
       "125     95  \n",
       "86      53  \n",
       "95     106  \n",
       "138     42  "
      ]
     },
     "execution_count": 338,
     "metadata": {},
     "output_type": "execute_result"
    }
   ],
   "source": [
    "df.sample(10)"
   ]
  },
  {
   "cell_type": "code",
   "execution_count": 17,
   "metadata": {},
   "outputs": [
    {
     "data": {
      "text/html": [
       "<div>\n",
       "<style scoped>\n",
       "    .dataframe tbody tr th:only-of-type {\n",
       "        vertical-align: middle;\n",
       "    }\n",
       "\n",
       "    .dataframe tbody tr th {\n",
       "        vertical-align: top;\n",
       "    }\n",
       "\n",
       "    .dataframe thead th {\n",
       "        text-align: right;\n",
       "    }\n",
       "</style>\n",
       "<table border=\"1\" class=\"dataframe\">\n",
       "  <thead>\n",
       "    <tr style=\"text-align: right;\">\n",
       "      <th></th>\n",
       "      <th>Product</th>\n",
       "      <th>Age</th>\n",
       "      <th>Gender</th>\n",
       "      <th>Education</th>\n",
       "      <th>MaritalStatus</th>\n",
       "      <th>Usage</th>\n",
       "      <th>Fitness</th>\n",
       "      <th>Income</th>\n",
       "      <th>Miles</th>\n",
       "    </tr>\n",
       "  </thead>\n",
       "  <tbody>\n",
       "    <tr>\n",
       "      <th>171</th>\n",
       "      <td>TM798</td>\n",
       "      <td>33</td>\n",
       "      <td>Female</td>\n",
       "      <td>18</td>\n",
       "      <td>Partnered</td>\n",
       "      <td>4</td>\n",
       "      <td>5</td>\n",
       "      <td>95866</td>\n",
       "      <td>200</td>\n",
       "    </tr>\n",
       "    <tr>\n",
       "      <th>38</th>\n",
       "      <td>TM195</td>\n",
       "      <td>26</td>\n",
       "      <td>Female</td>\n",
       "      <td>16</td>\n",
       "      <td>Single</td>\n",
       "      <td>3</td>\n",
       "      <td>3</td>\n",
       "      <td>36384</td>\n",
       "      <td>66</td>\n",
       "    </tr>\n",
       "    <tr>\n",
       "      <th>179</th>\n",
       "      <td>TM798</td>\n",
       "      <td>48</td>\n",
       "      <td>Male</td>\n",
       "      <td>18</td>\n",
       "      <td>Partnered</td>\n",
       "      <td>4</td>\n",
       "      <td>5</td>\n",
       "      <td>95508</td>\n",
       "      <td>180</td>\n",
       "    </tr>\n",
       "    <tr>\n",
       "      <th>145</th>\n",
       "      <td>TM798</td>\n",
       "      <td>23</td>\n",
       "      <td>Male</td>\n",
       "      <td>16</td>\n",
       "      <td>Single</td>\n",
       "      <td>4</td>\n",
       "      <td>5</td>\n",
       "      <td>48556</td>\n",
       "      <td>100</td>\n",
       "    </tr>\n",
       "    <tr>\n",
       "      <th>22</th>\n",
       "      <td>TM195</td>\n",
       "      <td>24</td>\n",
       "      <td>Female</td>\n",
       "      <td>16</td>\n",
       "      <td>Single</td>\n",
       "      <td>4</td>\n",
       "      <td>3</td>\n",
       "      <td>42069</td>\n",
       "      <td>94</td>\n",
       "    </tr>\n",
       "    <tr>\n",
       "      <th>99</th>\n",
       "      <td>TM498</td>\n",
       "      <td>25</td>\n",
       "      <td>Male</td>\n",
       "      <td>16</td>\n",
       "      <td>Partnered</td>\n",
       "      <td>2</td>\n",
       "      <td>2</td>\n",
       "      <td>52302</td>\n",
       "      <td>42</td>\n",
       "    </tr>\n",
       "    <tr>\n",
       "      <th>26</th>\n",
       "      <td>TM195</td>\n",
       "      <td>24</td>\n",
       "      <td>Female</td>\n",
       "      <td>16</td>\n",
       "      <td>Single</td>\n",
       "      <td>4</td>\n",
       "      <td>3</td>\n",
       "      <td>46617</td>\n",
       "      <td>75</td>\n",
       "    </tr>\n",
       "    <tr>\n",
       "      <th>27</th>\n",
       "      <td>TM195</td>\n",
       "      <td>25</td>\n",
       "      <td>Female</td>\n",
       "      <td>14</td>\n",
       "      <td>Partnered</td>\n",
       "      <td>3</td>\n",
       "      <td>3</td>\n",
       "      <td>48891</td>\n",
       "      <td>75</td>\n",
       "    </tr>\n",
       "    <tr>\n",
       "      <th>118</th>\n",
       "      <td>TM498</td>\n",
       "      <td>32</td>\n",
       "      <td>Male</td>\n",
       "      <td>16</td>\n",
       "      <td>Single</td>\n",
       "      <td>4</td>\n",
       "      <td>3</td>\n",
       "      <td>60261</td>\n",
       "      <td>127</td>\n",
       "    </tr>\n",
       "    <tr>\n",
       "      <th>76</th>\n",
       "      <td>TM195</td>\n",
       "      <td>44</td>\n",
       "      <td>Female</td>\n",
       "      <td>16</td>\n",
       "      <td>Single</td>\n",
       "      <td>3</td>\n",
       "      <td>4</td>\n",
       "      <td>57987</td>\n",
       "      <td>75</td>\n",
       "    </tr>\n",
       "  </tbody>\n",
       "</table>\n",
       "</div>"
      ],
      "text/plain": [
       "    Product  Age  Gender  Education MaritalStatus  Usage  Fitness  Income  \\\n",
       "171   TM798   33  Female         18     Partnered      4        5   95866   \n",
       "38    TM195   26  Female         16        Single      3        3   36384   \n",
       "179   TM798   48    Male         18     Partnered      4        5   95508   \n",
       "145   TM798   23    Male         16        Single      4        5   48556   \n",
       "22    TM195   24  Female         16        Single      4        3   42069   \n",
       "99    TM498   25    Male         16     Partnered      2        2   52302   \n",
       "26    TM195   24  Female         16        Single      4        3   46617   \n",
       "27    TM195   25  Female         14     Partnered      3        3   48891   \n",
       "118   TM498   32    Male         16        Single      4        3   60261   \n",
       "76    TM195   44  Female         16        Single      3        4   57987   \n",
       "\n",
       "     Miles  \n",
       "171    200  \n",
       "38      66  \n",
       "179    180  \n",
       "145    100  \n",
       "22      94  \n",
       "99      42  \n",
       "26      75  \n",
       "27      75  \n",
       "118    127  \n",
       "76      75  "
      ]
     },
     "execution_count": 17,
     "metadata": {},
     "output_type": "execute_result"
    }
   ],
   "source": [
    "cardio.sample(10)"
   ]
  },
  {
   "cell_type": "markdown",
   "metadata": {},
   "source": [
    "****"
   ]
  },
  {
   "cell_type": "markdown",
   "metadata": {},
   "source": [
    "<font color=darkblue>\n",
    "\n",
    "### 16. Return a table of aggragated \"five number summary\" values of the Pandas dataframe named \"df\""
   ]
  },
  {
   "cell_type": "code",
   "execution_count": 339,
   "metadata": {},
   "outputs": [
    {
     "data": {
      "text/html": [
       "<div>\n",
       "<style scoped>\n",
       "    .dataframe tbody tr th:only-of-type {\n",
       "        vertical-align: middle;\n",
       "    }\n",
       "\n",
       "    .dataframe tbody tr th {\n",
       "        vertical-align: top;\n",
       "    }\n",
       "\n",
       "    .dataframe thead th {\n",
       "        text-align: right;\n",
       "    }\n",
       "</style>\n",
       "<table border=\"1\" class=\"dataframe\">\n",
       "  <thead>\n",
       "    <tr style=\"text-align: right;\">\n",
       "      <th></th>\n",
       "      <th>Age</th>\n",
       "      <th>Education</th>\n",
       "      <th>Usage</th>\n",
       "      <th>Fitness</th>\n",
       "      <th>Income</th>\n",
       "      <th>Miles</th>\n",
       "    </tr>\n",
       "  </thead>\n",
       "  <tbody>\n",
       "    <tr>\n",
       "      <th>count</th>\n",
       "      <td>180.00</td>\n",
       "      <td>180.00</td>\n",
       "      <td>180.00</td>\n",
       "      <td>180.00</td>\n",
       "      <td>180.00</td>\n",
       "      <td>180.00</td>\n",
       "    </tr>\n",
       "    <tr>\n",
       "      <th>mean</th>\n",
       "      <td>28.79</td>\n",
       "      <td>15.57</td>\n",
       "      <td>3.46</td>\n",
       "      <td>3.31</td>\n",
       "      <td>53719.58</td>\n",
       "      <td>103.19</td>\n",
       "    </tr>\n",
       "    <tr>\n",
       "      <th>std</th>\n",
       "      <td>6.94</td>\n",
       "      <td>1.62</td>\n",
       "      <td>1.08</td>\n",
       "      <td>0.96</td>\n",
       "      <td>16506.68</td>\n",
       "      <td>51.86</td>\n",
       "    </tr>\n",
       "    <tr>\n",
       "      <th>min</th>\n",
       "      <td>18.00</td>\n",
       "      <td>12.00</td>\n",
       "      <td>2.00</td>\n",
       "      <td>1.00</td>\n",
       "      <td>29562.00</td>\n",
       "      <td>21.00</td>\n",
       "    </tr>\n",
       "    <tr>\n",
       "      <th>25%</th>\n",
       "      <td>24.00</td>\n",
       "      <td>14.00</td>\n",
       "      <td>3.00</td>\n",
       "      <td>3.00</td>\n",
       "      <td>44058.75</td>\n",
       "      <td>66.00</td>\n",
       "    </tr>\n",
       "    <tr>\n",
       "      <th>50%</th>\n",
       "      <td>26.00</td>\n",
       "      <td>16.00</td>\n",
       "      <td>3.00</td>\n",
       "      <td>3.00</td>\n",
       "      <td>50596.50</td>\n",
       "      <td>94.00</td>\n",
       "    </tr>\n",
       "    <tr>\n",
       "      <th>75%</th>\n",
       "      <td>33.00</td>\n",
       "      <td>16.00</td>\n",
       "      <td>4.00</td>\n",
       "      <td>4.00</td>\n",
       "      <td>58668.00</td>\n",
       "      <td>114.75</td>\n",
       "    </tr>\n",
       "    <tr>\n",
       "      <th>max</th>\n",
       "      <td>50.00</td>\n",
       "      <td>21.00</td>\n",
       "      <td>7.00</td>\n",
       "      <td>5.00</td>\n",
       "      <td>104581.00</td>\n",
       "      <td>360.00</td>\n",
       "    </tr>\n",
       "  </tbody>\n",
       "</table>\n",
       "</div>"
      ],
      "text/plain": [
       "          Age  Education   Usage  Fitness     Income   Miles\n",
       "count  180.00     180.00  180.00   180.00     180.00  180.00\n",
       "mean    28.79      15.57    3.46     3.31   53719.58  103.19\n",
       "std      6.94       1.62    1.08     0.96   16506.68   51.86\n",
       "min     18.00      12.00    2.00     1.00   29562.00   21.00\n",
       "25%     24.00      14.00    3.00     3.00   44058.75   66.00\n",
       "50%     26.00      16.00    3.00     3.00   50596.50   94.00\n",
       "75%     33.00      16.00    4.00     4.00   58668.00  114.75\n",
       "max     50.00      21.00    7.00     5.00  104581.00  360.00"
      ]
     },
     "execution_count": 339,
     "metadata": {},
     "output_type": "execute_result"
    }
   ],
   "source": [
    "df.describe().round(2)"
   ]
  },
  {
   "cell_type": "code",
   "execution_count": null,
   "metadata": {},
   "outputs": [],
   "source": [
    "cardio.describe(include=[\"category\"])"
   ]
  },
  {
   "cell_type": "code",
   "execution_count": 18,
   "metadata": {},
   "outputs": [
    {
     "data": {
      "text/html": [
       "<div>\n",
       "<style scoped>\n",
       "    .dataframe tbody tr th:only-of-type {\n",
       "        vertical-align: middle;\n",
       "    }\n",
       "\n",
       "    .dataframe tbody tr th {\n",
       "        vertical-align: top;\n",
       "    }\n",
       "\n",
       "    .dataframe thead th {\n",
       "        text-align: right;\n",
       "    }\n",
       "</style>\n",
       "<table border=\"1\" class=\"dataframe\">\n",
       "  <thead>\n",
       "    <tr style=\"text-align: right;\">\n",
       "      <th></th>\n",
       "      <th>Age</th>\n",
       "      <th>Education</th>\n",
       "      <th>Usage</th>\n",
       "      <th>Fitness</th>\n",
       "      <th>Income</th>\n",
       "      <th>Miles</th>\n",
       "    </tr>\n",
       "  </thead>\n",
       "  <tbody>\n",
       "    <tr>\n",
       "      <th>count</th>\n",
       "      <td>180.00</td>\n",
       "      <td>180.00</td>\n",
       "      <td>180.00</td>\n",
       "      <td>180.00</td>\n",
       "      <td>180.00</td>\n",
       "      <td>180.00</td>\n",
       "    </tr>\n",
       "    <tr>\n",
       "      <th>mean</th>\n",
       "      <td>28.79</td>\n",
       "      <td>15.57</td>\n",
       "      <td>3.46</td>\n",
       "      <td>3.31</td>\n",
       "      <td>53719.58</td>\n",
       "      <td>103.19</td>\n",
       "    </tr>\n",
       "    <tr>\n",
       "      <th>std</th>\n",
       "      <td>6.94</td>\n",
       "      <td>1.62</td>\n",
       "      <td>1.08</td>\n",
       "      <td>0.96</td>\n",
       "      <td>16506.68</td>\n",
       "      <td>51.86</td>\n",
       "    </tr>\n",
       "    <tr>\n",
       "      <th>min</th>\n",
       "      <td>18.00</td>\n",
       "      <td>12.00</td>\n",
       "      <td>2.00</td>\n",
       "      <td>1.00</td>\n",
       "      <td>29562.00</td>\n",
       "      <td>21.00</td>\n",
       "    </tr>\n",
       "    <tr>\n",
       "      <th>25%</th>\n",
       "      <td>24.00</td>\n",
       "      <td>14.00</td>\n",
       "      <td>3.00</td>\n",
       "      <td>3.00</td>\n",
       "      <td>44058.75</td>\n",
       "      <td>66.00</td>\n",
       "    </tr>\n",
       "    <tr>\n",
       "      <th>50%</th>\n",
       "      <td>26.00</td>\n",
       "      <td>16.00</td>\n",
       "      <td>3.00</td>\n",
       "      <td>3.00</td>\n",
       "      <td>50596.50</td>\n",
       "      <td>94.00</td>\n",
       "    </tr>\n",
       "    <tr>\n",
       "      <th>75%</th>\n",
       "      <td>33.00</td>\n",
       "      <td>16.00</td>\n",
       "      <td>4.00</td>\n",
       "      <td>4.00</td>\n",
       "      <td>58668.00</td>\n",
       "      <td>114.75</td>\n",
       "    </tr>\n",
       "    <tr>\n",
       "      <th>max</th>\n",
       "      <td>50.00</td>\n",
       "      <td>21.00</td>\n",
       "      <td>7.00</td>\n",
       "      <td>5.00</td>\n",
       "      <td>104581.00</td>\n",
       "      <td>360.00</td>\n",
       "    </tr>\n",
       "  </tbody>\n",
       "</table>\n",
       "</div>"
      ],
      "text/plain": [
       "          Age  Education   Usage  Fitness     Income   Miles\n",
       "count  180.00     180.00  180.00   180.00     180.00  180.00\n",
       "mean    28.79      15.57    3.46     3.31   53719.58  103.19\n",
       "std      6.94       1.62    1.08     0.96   16506.68   51.86\n",
       "min     18.00      12.00    2.00     1.00   29562.00   21.00\n",
       "25%     24.00      14.00    3.00     3.00   44058.75   66.00\n",
       "50%     26.00      16.00    3.00     3.00   50596.50   94.00\n",
       "75%     33.00      16.00    4.00     4.00   58668.00  114.75\n",
       "max     50.00      21.00    7.00     5.00  104581.00  360.00"
      ]
     },
     "execution_count": 18,
     "metadata": {},
     "output_type": "execute_result"
    }
   ],
   "source": [
    "cardio.describe().round(2)"
   ]
  },
  {
   "cell_type": "markdown",
   "metadata": {},
   "source": [
    "* Mean Age is greater than the median; this suggests that Age is right skewed.\n",
    "* The mean and median are approximately the same for each of the following: Education, Usage, and Fitness.\n",
    "* Mean is greater than the median for Income and Miles variable, which suggests that these variables are right skewed."
   ]
  },
  {
   "cell_type": "markdown",
   "metadata": {},
   "source": [
    "*****"
   ]
  },
  {
   "cell_type": "markdown",
   "metadata": {},
   "source": [
    "****"
   ]
  },
  {
   "cell_type": "markdown",
   "metadata": {},
   "source": [
    "*****"
   ]
  },
  {
   "cell_type": "markdown",
   "metadata": {},
   "source": [
    "###  <span style=\"font-family: Arial; font-weight:bold;font-size:1.5em;color:#0e92ea\"> Exploratory Data Analysis (EDA)"
   ]
  },
  {
   "cell_type": "markdown",
   "metadata": {},
   "source": [
    "###  <span style=\"font-family: Arial; font-weight:bold;font-size:1.5em;color:#0e92ea\"> Univariate Analysis - Central Tendencies and Dispersions\n",
    "\n",
    "<font color=darkblue>\n",
    "&nbsp;\n",
    "    \n",
    "17. Unique Attributes -- find by count and by value\n",
    "18. Histogram -- plot basic distribution count of six (6) numeric series attributes\n",
    "19. KDE -- kernel density estimate (atop a histogram for age)\n",
    "20. Boxplot -- explore univariate outliers (education)\n",
    "21. Boxplot -- explore univariate outliers (income)"
   ]
  },
  {
   "cell_type": "markdown",
   "metadata": {},
   "source": [
    "<font color=darkblue>\n",
    "\n",
    "### 17. Return the unique count and values for all the series atrributes for the Pandas dataframe named \"df\" "
   ]
  },
  {
   "cell_type": "code",
   "execution_count": 340,
   "metadata": {},
   "outputs": [
    {
     "name": "stdout",
     "output_type": "stream",
     "text": [
      "Product  (total unique count): 3\n",
      "Product values: ['TM195' 'TM498' 'TM798']\n",
      "\n",
      "Age  (total unique count): 32\n",
      "Age values: [18 19 20 21 22 23 24 25 26 27 28 29 30 31 32 33 34 35 36 37 38 39 40 41\n",
      " 43 44 46 47 50 45 48 42]\n",
      "\n",
      "Gender  (total unique count): 2\n",
      "Gender values: ['Male' 'Female']\n",
      "\n",
      "Education  (total unique count): 8\n",
      "Education values: [14 15 12 13 16 18 20 21]\n",
      "\n",
      "Marital status (total unique count): 2\n",
      "Marital Status values: ['Single' 'Partnered']\n",
      "\n",
      "Usage  (total unique count): 6\n",
      "Usage values: [3 2 4 5 6 7]\n",
      "\n",
      "Fitness  (total unique count): 5\n",
      "Fitness values: [4 3 2 1 5]\n",
      "\n",
      "Income  (total unique count): 62\n",
      "Income values: [ 29562  31836  30699  32973  35247  37521  36384  38658  40932  34110\n",
      "  39795  42069  44343  45480  46617  48891  53439  43206  52302  51165\n",
      "  50028  54576  68220  55713  60261  67083  56850  59124  61398  57987\n",
      "  64809  47754  65220  62535  48658  54781  48556  58516  53536  61006\n",
      "  57271  52291  49801  62251  64741  70966  75946  74701  69721  83416\n",
      "  88396  90886  92131  77191  52290  85906 103336  99601  89641  95866\n",
      " 104581  95508]\n",
      "\n",
      "Miles  (total unique count): 37\n",
      "Miles values: [112  75  66  85  47 141 103  94 113  38 188  56 132 169  64  53 106  95\n",
      " 212  42 127  74 170  21 120 200 140 100  80 160 180 240 150 300 280 260\n",
      " 360]\n",
      "\n"
     ]
    }
   ],
   "source": [
    "print('Product  (total unique count):',df['Product'].nunique())\n",
    "print('Product values:', df['Product'].unique())\n",
    "print(\"\")\n",
    "print('Age  (total unique count):',df['Age'].nunique())\n",
    "print('Age values:', df['Age'].unique())\n",
    "print(\"\")\n",
    "print('Gender  (total unique count):',df['Gender'].nunique())\n",
    "print('Gender values:', df['Gender'].unique())\n",
    "print(\"\")\n",
    "print('Education  (total unique count):', df['Education'].nunique())\n",
    "print('Education values:', df['Education'].unique())\n",
    "print(\"\")\n",
    "print('Marital status (total unique count):',df['MaritalStatus'].nunique())\n",
    "print('Marital Status values:', df['MaritalStatus'].unique())\n",
    "print(\"\")\n",
    "print('Usage  (total unique count):',df['Usage'].nunique())\n",
    "print('Usage values:', df['Usage'].unique())\n",
    "print(\"\")\n",
    "print('Fitness  (total unique count):',df['Fitness'].nunique())\n",
    "print('Fitness values:', df['Fitness'].unique())\n",
    "print(\"\")\n",
    "print('Income  (total unique count):',df['Income'].nunique())\n",
    "print('Income values:', df['Income'].unique())\n",
    "print(\"\")\n",
    "print('Miles  (total unique count):',df['Miles'].nunique())\n",
    "print('Miles values:', df['Miles'].unique())\n",
    "print(\"\")"
   ]
  },
  {
   "cell_type": "code",
   "execution_count": 19,
   "metadata": {},
   "outputs": [
    {
     "name": "stdout",
     "output_type": "stream",
     "text": [
      "Product  (total unique count): 3\n",
      "Product values: ['TM195' 'TM498' 'TM798']\n",
      "\n",
      "Age  (total unique count): 32\n",
      "Age values: [18 19 20 21 22 23 24 25 26 27 28 29 30 31 32 33 34 35 36 37 38 39 40 41\n",
      " 43 44 46 47 50 45 48 42]\n",
      "\n",
      "Gender  (total unique count): 2\n",
      "Gender values: ['Male' 'Female']\n",
      "\n",
      "Education  (total unique count): 8\n",
      "Education values: [14 15 12 13 16 18 20 21]\n",
      "\n",
      "Marital status (total unique count): 2\n",
      "Marital Status values: ['Single' 'Partnered']\n",
      "\n",
      "Usage  (total unique count): 6\n",
      "Usage values: [3 2 4 5 6 7]\n",
      "\n",
      "Fitness  (total unique count): 5\n",
      "Fitness values: [4 3 2 1 5]\n",
      "\n",
      "Income  (total unique count): 62\n",
      "Income values: [ 29562  31836  30699  32973  35247  37521  36384  38658  40932  34110\n",
      "  39795  42069  44343  45480  46617  48891  53439  43206  52302  51165\n",
      "  50028  54576  68220  55713  60261  67083  56850  59124  61398  57987\n",
      "  64809  47754  65220  62535  48658  54781  48556  58516  53536  61006\n",
      "  57271  52291  49801  62251  64741  70966  75946  74701  69721  83416\n",
      "  88396  90886  92131  77191  52290  85906 103336  99601  89641  95866\n",
      " 104581  95508]\n",
      "\n",
      "Miles  (total unique count): 37\n",
      "Miles values: [112  75  66  85  47 141 103  94 113  38 188  56 132 169  64  53 106  95\n",
      " 212  42 127  74 170  21 120 200 140 100  80 160 180 240 150 300 280 260\n",
      " 360]\n",
      "\n"
     ]
    }
   ],
   "source": [
    "# REVISED VERSION\n",
    "print('Product  (total unique count):',cardio['Product'].nunique())\n",
    "print('Product values:', cardio['Product'].unique())\n",
    "print(\"\")\n",
    "print('Age  (total unique count):',cardio['Age'].nunique())\n",
    "print('Age values:', cardio['Age'].unique())\n",
    "print(\"\")\n",
    "print('Gender  (total unique count):',cardio['Gender'].nunique())\n",
    "print('Gender values:', cardio['Gender'].unique())\n",
    "print(\"\")\n",
    "print('Education  (total unique count):', cardio['Education'].nunique())\n",
    "print('Education values:', cardio['Education'].unique())\n",
    "print(\"\")\n",
    "print('Marital status (total unique count):',cardio['MaritalStatus'].nunique())\n",
    "print('Marital Status values:', cardio['MaritalStatus'].unique())\n",
    "print(\"\")\n",
    "print('Usage  (total unique count):',cardio['Usage'].nunique())\n",
    "print('Usage values:', cardio['Usage'].unique())\n",
    "print(\"\")\n",
    "print('Fitness  (total unique count):',cardio['Fitness'].nunique())\n",
    "print('Fitness values:', cardio['Fitness'].unique())\n",
    "print(\"\")\n",
    "print('Income  (total unique count):',cardio['Income'].nunique())\n",
    "print('Income values:', cardio['Income'].unique())\n",
    "print(\"\")\n",
    "print('Miles  (total unique count):',cardio['Miles'].nunique())\n",
    "print('Miles values:', cardio['Miles'].unique())\n",
    "print(\"\")"
   ]
  },
  {
   "cell_type": "markdown",
   "metadata": {},
   "source": [
    "****"
   ]
  },
  {
   "cell_type": "markdown",
   "metadata": {},
   "source": [
    "<font color=darkblue>\n",
    "\n",
    "### 18. Return a histogram for the six (6) numeric series attributes for the Pandas dataframe named \"df\"\n",
    "#### 18a. Age -- OBSERVATION: mean > median; positively skewed distribution; most customers are in thier 20's; min = 18, max = 50\n",
    "#### 18b. Education -- OBSERVATION: mean < median; discrete; low std; mode: 16; most customers are college educated\n",
    "#### 18c. Usage -- OBSERVATION: mean > median; ordinal; discrete; 75%of customers plan to use their treadmill at least 4 days per week\n",
    "#### 18d. Fitness -- OBSERVATION: mean > median; ordinal; discrete; most rank themselves a \"3\"; both the 25th percentile and the median = 2\n",
    "#### 18e. Income -- OBSERVATION: mean > median; continuous; bimodal; range...29.5K - 104.5K; majority of customers make less than 70K\n",
    "#### 18f. Miles -- OBSERVATION: mean > median; high std; IQR = 114.75 - 66.00 = 48.75; most expect 50-100 miles exercise per week on treadmill;"
   ]
  },
  {
   "cell_type": "code",
   "execution_count": 341,
   "metadata": {},
   "outputs": [
    {
     "data": {
      "image/png": "[encoded data removed]",
      "text/plain": [
       "<Figure size 1440x2160 with 6 Axes>"
      ]
     },
     "metadata": {
      "needs_background": "light"
     },
     "output_type": "display_data"
    }
   ],
   "source": [
    "# Histogram\n",
    "\n",
    "%matplotlib inline\n",
    "df.hist(figsize=(20,30), lw=.5);"
   ]
  },
  {
   "cell_type": "markdown",
   "metadata": {},
   "source": [
    "****"
   ]
  },
  {
   "cell_type": "markdown",
   "metadata": {},
   "source": [
    "<font color=darkblue>\n",
    "\n",
    "#### 18a. Return the number of customers whose age is above one standard deviation from the mean"
   ]
  },
  {
   "cell_type": "code",
   "execution_count": 342,
   "metadata": {},
   "outputs": [
    {
     "name": "stdout",
     "output_type": "stream",
     "text": [
      "27 of the 180 treadmill customers are above the age of 36\n",
      "Only 15.0 % of the treadmill customers are above the age 36\n"
     ]
    }
   ],
   "source": [
    "age_count_beyond_first_std = df.loc[df['Age'] > 36, 'Age']\n",
    "\n",
    "print(age_count_beyond_first_std.count(),'of the 180 treadmill customers are above the age of 36')\n",
    "print('Only',round(age_count_beyond_first_std.count()/len(df)*100,2),'%', 'of the treadmill customers are above the age 36')"
   ]
  },
  {
   "cell_type": "markdown",
   "metadata": {},
   "source": [
    "****"
   ]
  },
  {
   "cell_type": "markdown",
   "metadata": {},
   "source": [
    "<font color=darkblue>\n",
    "\n",
    "#### 18b. Return the number of customers who have not graduated from college (have less than 16 years of education)"
   ]
  },
  {
   "cell_type": "code",
   "execution_count": 343,
   "metadata": {},
   "outputs": [
    {
     "name": "stdout",
     "output_type": "stream",
     "text": [
      "68 of the 180 treadmill customers are not college educated\n",
      "37.78 % of the treadmill customers are not college educated\n"
     ]
    }
   ],
   "source": [
    "not_collegeEducated = df.loc[df['Education'] < 16, 'Education']\n",
    "\n",
    "print(not_collegeEducated.count(), 'of the 180 treadmill customers are not college educated')\n",
    "print(round(not_collegeEducated.count()/len(df)*100,2),'%', 'of the treadmill customers are not college educated')"
   ]
  },
  {
   "cell_type": "markdown",
   "metadata": {},
   "source": [
    "****"
   ]
  },
  {
   "cell_type": "markdown",
   "metadata": {},
   "source": [
    "<font color=darkblue>\n",
    "\n",
    "#### 18c. Return the number of customers who plan to use their treadmill either six (6) or seven (7) times per week"
   ]
  },
  {
   "cell_type": "code",
   "execution_count": 344,
   "metadata": {},
   "outputs": [
    {
     "name": "stdout",
     "output_type": "stream",
     "text": [
      "9 of the 180 treadmill customers intend to use the treadmill at least 6 or 7 times per week\n",
      "5.0 % of the treadmill customers intend to use the treadmill at least 6 or 7 times per week\n"
     ]
    }
   ],
   "source": [
    "very_ambitious = df.loc[df['Usage'] >= 6, 'Usage']\n",
    "\n",
    "print(very_ambitious.count(), 'of the 180 treadmill customers intend to use the treadmill at least 6 or 7 times per week')\n",
    "print(round(very_ambitious.count()/len(df)*100,2),'%', \"of the treadmill customers intend to use the treadmill at least 6 or 7 times per week\")"
   ]
  },
  {
   "cell_type": "markdown",
   "metadata": {},
   "source": [
    "****"
   ]
  },
  {
   "cell_type": "code",
   "execution_count": 14,
   "metadata": {},
   "outputs": [
    {
     "ename": "AttributeError",
     "evalue": "module 'numpy' has no attribute 'arr'",
     "output_type": "error",
     "traceback": [
      "\u001b[1;31m---------------------------------------------------------------------------\u001b[0m",
      "\u001b[1;31mAttributeError\u001b[0m                            Traceback (most recent call last)",
      "\u001b[1;32m~\\AppData\\Local\\Temp\\ipykernel_14888\\378023046.py\u001b[0m in \u001b[0;36m<cell line: 1>\u001b[1;34m()\u001b[0m\n\u001b[1;32m----> 1\u001b[1;33m \u001b[0marray\u001b[0m \u001b[1;33m=\u001b[0m \u001b[0mnp\u001b[0m\u001b[1;33m.\u001b[0m\u001b[0marr\u001b[0m\u001b[1;33m(\u001b[0m\u001b[1;33m[\u001b[0m\u001b[1;36m1\u001b[0m\u001b[1;33m]\u001b[0m\u001b[1;33m,\u001b[0m\u001b[1;33m[\u001b[0m\u001b[1;36m3\u001b[0m\u001b[1;33m]\u001b[0m\u001b[1;33m,\u001b[0m\u001b[1;33m[\u001b[0m\u001b[1;36m5\u001b[0m\u001b[1;33m]\u001b[0m\u001b[1;33m)\u001b[0m\u001b[1;33m\u001b[0m\u001b[1;33m\u001b[0m\u001b[0m\n\u001b[0m\u001b[0;32m      2\u001b[0m \u001b[0mprint\u001b[0m\u001b[1;33m(\u001b[0m\u001b[0marray\u001b[0m\u001b[1;33m)\u001b[0m\u001b[1;33m\u001b[0m\u001b[1;33m\u001b[0m\u001b[0m\n",
      "\u001b[1;32m~\\anaconda3\\lib\\site-packages\\numpy\\__init__.py\u001b[0m in \u001b[0;36m__getattr__\u001b[1;34m(attr)\u001b[0m\n\u001b[0;32m    311\u001b[0m                 \u001b[1;32mreturn\u001b[0m \u001b[0mTester\u001b[0m\u001b[1;33m\u001b[0m\u001b[1;33m\u001b[0m\u001b[0m\n\u001b[0;32m    312\u001b[0m \u001b[1;33m\u001b[0m\u001b[0m\n\u001b[1;32m--> 313\u001b[1;33m             raise AttributeError(\"module {!r} has no attribute \"\n\u001b[0m\u001b[0;32m    314\u001b[0m                                  \"{!r}\".format(__name__, attr))\n\u001b[0;32m    315\u001b[0m \u001b[1;33m\u001b[0m\u001b[0m\n",
      "\u001b[1;31mAttributeError\u001b[0m: module 'numpy' has no attribute 'arr'"
     ]
    }
   ],
   "source": [
    "array = np.arr([1],[3],[5])\n",
    "print(array)"
   ]
  },
  {
   "cell_type": "code",
   "execution_count": 17,
   "metadata": {},
   "outputs": [
    {
     "ename": "TypeError",
     "evalue": "'tuple' object does not support item assignment",
     "output_type": "error",
     "traceback": [
      "\u001b[1;31m---------------------------------------------------------------------------\u001b[0m",
      "\u001b[1;31mTypeError\u001b[0m                                 Traceback (most recent call last)",
      "\u001b[1;32m~\\AppData\\Local\\Temp\\ipykernel_14888\\3428750235.py\u001b[0m in \u001b[0;36m<cell line: 3>\u001b[1;34m()\u001b[0m\n\u001b[0;32m      1\u001b[0m \u001b[0ma\u001b[0m \u001b[1;33m=\u001b[0m \u001b[1;33m(\u001b[0m\u001b[1;34m'x'\u001b[0m\u001b[1;33m,\u001b[0m \u001b[1;34m'y'\u001b[0m\u001b[1;33m,\u001b[0m \u001b[1;34m'z'\u001b[0m\u001b[1;33m)\u001b[0m\u001b[1;33m\u001b[0m\u001b[1;33m\u001b[0m\u001b[0m\n\u001b[0;32m      2\u001b[0m \u001b[1;33m\u001b[0m\u001b[0m\n\u001b[1;32m----> 3\u001b[1;33m \u001b[0ma\u001b[0m\u001b[1;33m[\u001b[0m\u001b[1;36m0\u001b[0m\u001b[1;33m]\u001b[0m \u001b[1;33m=\u001b[0m \u001b[1;34m't'\u001b[0m\u001b[1;33m\u001b[0m\u001b[1;33m\u001b[0m\u001b[0m\n\u001b[0m\u001b[0;32m      4\u001b[0m \u001b[1;33m\u001b[0m\u001b[0m\n\u001b[0;32m      5\u001b[0m \u001b[0mprint\u001b[0m\u001b[1;33m(\u001b[0m\u001b[0ma\u001b[0m\u001b[1;33m)\u001b[0m\u001b[1;33m\u001b[0m\u001b[1;33m\u001b[0m\u001b[0m\n",
      "\u001b[1;31mTypeError\u001b[0m: 'tuple' object does not support item assignment"
     ]
    }
   ],
   "source": [
    " a = ('x', 'y', 'z')\n",
    "\n",
    "a[0] = 't'\n",
    "\n",
    "print(a)"
   ]
  },
  {
   "cell_type": "markdown",
   "metadata": {},
   "source": [
    "<font color=darkblue>\n",
    "\n",
    "#### 18d. Return the number of customers who rank their fitness at either a one (1) or a two (2)"
   ]
  },
  {
   "cell_type": "code",
   "execution_count": 345,
   "metadata": {},
   "outputs": [
    {
     "name": "stdout",
     "output_type": "stream",
     "text": [
      "28 of the 180 treadmill customers rank their fitness below at 2, so these folks may require encouragement and movtivation\n",
      "15.56 % of the treadmill customers rank their fitness below a 2, so these folks may require encouragement and motivation\n"
     ]
    }
   ],
   "source": [
    "need_motivation = df.loc[df['Fitness'] <= 2, 'Fitness']\n",
    "\n",
    "print(need_motivation.count(), 'of the 180 treadmill customers rank their fitness below at 2, so these folks may require encouragement and movtivation')\n",
    "print(round(need_motivation.count()/len(df)*100,2),'%', 'of the treadmill customers rank their fitness below a 2, so these folks may require encouragement and motivation')"
   ]
  },
  {
   "cell_type": "markdown",
   "metadata": {},
   "source": [
    "****"
   ]
  },
  {
   "cell_type": "markdown",
   "metadata": {},
   "source": [
    "<font color=darkblue>\n",
    "\n",
    "#### 18e. Return the number of customers who earn less than 70K dollars per year"
   ]
  },
  {
   "cell_type": "code",
   "execution_count": 346,
   "metadata": {},
   "outputs": [
    {
     "name": "stdout",
     "output_type": "stream",
     "text": [
      "157 of the 180 treadmill customers earn less than $70,000\n",
      "87.22 % of the treadmill customers earn less than $70,000\n"
     ]
    }
   ],
   "source": [
    "seventy_K_or_less = df.loc[df['Income'] < 70000, 'Income']\n",
    "\n",
    "print(seventy_K_or_less.count(), 'of the 180 treadmill customers earn less than $70,000')\n",
    "print(round(seventy_K_or_less.count()/len(df)*100,2), '%', 'of the treadmill customers earn less than $70,000')"
   ]
  },
  {
   "cell_type": "markdown",
   "metadata": {},
   "source": [
    "****"
   ]
  },
  {
   "cell_type": "markdown",
   "metadata": {},
   "source": [
    "<font color=darkblue>\n",
    "\n",
    "#### 18f. Return the number of customers who expect to run 94 miles or more per week (94 is the median miles value in the dataset)."
   ]
  },
  {
   "cell_type": "code",
   "execution_count": 347,
   "metadata": {},
   "outputs": [
    {
     "name": "stdout",
     "output_type": "stream",
     "text": [
      "93 of the 180 treadmill customers expect to run 94 miles or more per week\n",
      "51.67 % of the treadmill customers expect to run 94 miles or more per week\n"
     ]
    }
   ],
   "source": [
    "above_50th_percentile = df.loc[df['Miles'] >= 94, 'Miles']\n",
    "\n",
    "print(above_50th_percentile.count(), 'of the 180 treadmill customers expect to run 94 miles or more per week')\n",
    "print(round(above_50th_percentile.count()/len(df)*100,2), '%', 'of the treadmill customers expect to run 94 miles or more per week')"
   ]
  },
  {
   "cell_type": "markdown",
   "metadata": {},
   "source": [
    "****"
   ]
  },
  {
   "cell_type": "markdown",
   "metadata": {},
   "source": [
    "<font color=darkblue>\n",
    "\n",
    "### 19. FUNCTION THAT RETURNS A HISTOGRAM AND A BOXPLOT (given a numerical series as an input)"
   ]
  },
  {
   "cell_type": "code",
   "execution_count": 41,
   "metadata": {},
   "outputs": [],
   "source": [
    "def histogram_boxplot(attribute, figsize=(20,10), bins=None):\n",
    "    \"\"\"Herein, this function returns both a histogram and a boxplot for a specified attribute. \n",
    "      attribute: 1-d feature array\n",
    "      figsize: size of figure (default (9,8))\n",
    "      bins: number of bins (default None / auto)\n",
    "    \"\"\"\n",
    "   \n",
    "    # number of rows of the subplot grid = 2\n",
    "    # x-axis is shared among all subplots\n",
    "    f2, (ax_box2, ax_hist2) = plt.subplots(nrows=2, sharex=True, gridspec_kw={\"height_ratios\": (.25, .75)}, figsize=figsize)\n",
    "    \n",
    "    # create two (2) subplots (histogram & boxplot)\n",
    "    # first: the boxplot will be created and, via code, a small symbol will indicate the mean value of the attribute\n",
    "    # second: the histogram will have a mean (green dashed lines) and median (black straight line) applied to it via code\n",
    "    sns.boxplot(attribute, ax=ax_box2, showmeans=True, color='violet')\n",
    "    sns.distplot(attribute, kde=F, ax=ax_hist2, bins=bins, palette='winter') if bins else sns.distplot(attribute, kde=False, ax=ax_hist2)\n",
    "    ax_hist2.axvline(np.mean(attribute), color='green', linestyle='--')\n",
    "    ax_hist2.axvline(np.median(attribute), color='black', linestyle='-')\n",
    "    "
   ]
  },
  {
   "cell_type": "markdown",
   "metadata": {},
   "source": [
    "****"
   ]
  },
  {
   "cell_type": "markdown",
   "metadata": {},
   "source": [
    "<font color='darkblue'>\n",
    "\n",
    "### 19-1. AGE PLOTS\n",
    "#### 19-1a. OBSERVATION: Age mean > median; positively skewed distribution; most customers are in thier 20's\n",
    "#### 19-1b. OBSERVATION: There are three (3) outliers\n",
    "#### 19-1c. OBSERVATION: Q3 is at 33 y/o, which means that 75% of customers are below the age of 33"
   ]
  },
  {
   "cell_type": "code",
   "execution_count": 36,
   "metadata": {},
   "outputs": [
    {
     "data": {
      "image/png": "[encoded data removed]",
      "text/plain": [
       "<Figure size 1440x720 with 2 Axes>"
      ]
     },
     "metadata": {},
     "output_type": "display_data"
    }
   ],
   "source": [
    "# REVISED VERSION\n",
    "\n",
    "# cardio AGE\n",
    "histogram_boxplot(cardio['Age'])"
   ]
  },
  {
   "cell_type": "markdown",
   "metadata": {},
   "source": [
    "****"
   ]
  },
  {
   "cell_type": "markdown",
   "metadata": {},
   "source": [
    "<font color='darkblue'>\n",
    "\n",
    "### 19-2. EDUCATION PLOTS\n",
    "#### 19-2a. OBSERVATION: Age mean > median; mean = 15.57 years\n",
    "#### 19-2b. OBSERVATION: There are only two (2) outliers (of 180 customers, only 2 have over 18 years of education)"
   ]
  },
  {
   "cell_type": "code",
   "execution_count": 37,
   "metadata": {},
   "outputs": [
    {
     "data": {
      "image/png": "[encoded data removed]",
      "text/plain": [
       "<Figure size 1440x720 with 2 Axes>"
      ]
     },
     "metadata": {},
     "output_type": "display_data"
    }
   ],
   "source": [
    "# REVISED VERSION\n",
    "\n",
    "# cardio AGE\n",
    "histogram_boxplot(cardio['Education'])"
   ]
  },
  {
   "cell_type": "markdown",
   "metadata": {},
   "source": [
    "****"
   ]
  },
  {
   "cell_type": "markdown",
   "metadata": {},
   "source": [
    "<font color='darkblue'>\n",
    "\n",
    "### 19-3. USAGE PLOTS\n",
    "#### 19-3a. OBSERVATION: Usage mean > median; customers expect to use the treadmill 3 to 4 times per week (on average)\n",
    "#### 19-3b. OBSERVATION: There are only two (2) outliers (cutomers who want to use the treadmill 6 or 7 times per week)"
   ]
  },
  {
   "cell_type": "code",
   "execution_count": 38,
   "metadata": {},
   "outputs": [
    {
     "data": {
      "image/png": "[encoded data removed]",
      "text/plain": [
       "<Figure size 1440x720 with 2 Axes>"
      ]
     },
     "metadata": {},
     "output_type": "display_data"
    }
   ],
   "source": [
    "histogram_boxplot(cardio['Usage'])"
   ]
  },
  {
   "cell_type": "markdown",
   "metadata": {},
   "source": [
    "****"
   ]
  },
  {
   "cell_type": "markdown",
   "metadata": {},
   "source": [
    "<font color='darkblue'>\n",
    "\n",
    "### 19-4. INCOME PLOTS\n",
    "#### 19-4a. OBSERVATION: Income mean > median; income is skewed right\n",
    "#### 19-4b. OBSERVATION: mean= 53,719.58\n",
    "#### 19-4c. OBSERVATION: Eleven (11) outliers (income beyond Q3 + 1.5*IQR)"
   ]
  },
  {
   "cell_type": "code",
   "execution_count": 39,
   "metadata": {},
   "outputs": [
    {
     "data": {
      "image/png": "[encoded data removed]",
      "text/plain": [
       "<Figure size 1440x720 with 2 Axes>"
      ]
     },
     "metadata": {},
     "output_type": "display_data"
    }
   ],
   "source": [
    "histogram_boxplot(cardio['Income'])"
   ]
  },
  {
   "cell_type": "markdown",
   "metadata": {},
   "source": [
    "****"
   ]
  },
  {
   "cell_type": "markdown",
   "metadata": {},
   "source": [
    "<font color='darkblue'>\n",
    "\n",
    "### 19-5. MILES PLOTS\n",
    "#### 19-5a. OBSERVATION: Miles mean > median; miles skewed right\n",
    "#### 19-5b. OBSERVATION: Most customers expect to run 100 miles per week\n",
    "#### 19-5c. OBSERVATION: Eight (8) outliers (expected usage from up to 300 and 350 miles per week)"
   ]
  },
  {
   "cell_type": "code",
   "execution_count": 40,
   "metadata": {},
   "outputs": [
    {
     "data": {
      "image/png": "[encoded data removed]",
      "text/plain": [
       "<Figure size 1440x720 with 2 Axes>"
      ]
     },
     "metadata": {},
     "output_type": "display_data"
    }
   ],
   "source": [
    "histogram_boxplot(cardio['Miles'])"
   ]
  },
  {
   "cell_type": "markdown",
   "metadata": {},
   "source": [
    "****"
   ]
  },
  {
   "cell_type": "markdown",
   "metadata": {},
   "source": [
    "<font color=darkblue>\n",
    "\n",
    "### 20. Return a density estimate that approximates a curve for the attribute age\n",
    "#### 20a. Age -- OBSERVATION:  mean > median; positively skewed distribution; most customers are in thier 20's"
   ]
  },
  {
   "cell_type": "code",
   "execution_count": 348,
   "metadata": {},
   "outputs": [
    {
     "data": {
      "image/png": "[encoded data removed]",
      "text/plain": [
       "<Figure size 1440x720 with 1 Axes>"
      ]
     },
     "metadata": {
      "needs_background": "light"
     },
     "output_type": "display_data"
    }
   ],
   "source": [
    "# Kernel Density Estimate\n",
    "\n",
    "plt.figure(figsize=(20,10))\n",
    "sns.distplot(df['Age']);"
   ]
  },
  {
   "cell_type": "markdown",
   "metadata": {},
   "source": [
    "****"
   ]
  },
  {
   "cell_type": "markdown",
   "metadata": {},
   "source": [
    "<font color=darkblue>\n",
    "\n",
    "### 21. Return a boxplot for education and evaluate the five-number summary distribution and any outliers\n",
    "#### 21a. Education -- OBSERVATIONS: two (2) outlier data points exist beyond 1.5 times the interquartile range"
   ]
  },
  {
   "cell_type": "code",
   "execution_count": 349,
   "metadata": {},
   "outputs": [
    {
     "data": {
      "image/png": "[encoded data removed]",
      "text/plain": [
       "<Figure size 1440x720 with 1 Axes>"
      ]
     },
     "metadata": {
      "needs_background": "light"
     },
     "output_type": "display_data"
    }
   ],
   "source": [
    "# Boxplot\n",
    "\n",
    "plt.figure(figsize=(20,10))\n",
    "sns.boxplot(df['Education']);"
   ]
  },
  {
   "cell_type": "markdown",
   "metadata": {},
   "source": [
    "****"
   ]
  },
  {
   "cell_type": "markdown",
   "metadata": {},
   "source": [
    "<font color=darkblue>\n",
    "\n",
    "### 22. Return a boxplot for income and evaluate the five-number summary distribution and any outliers\n",
    "#### 22a. Income -- OBSERVATION: eleven (11) outlier data points exist beyond 1.5 times the interquartile range"
   ]
  },
  {
   "cell_type": "code",
   "execution_count": 350,
   "metadata": {},
   "outputs": [
    {
     "data": {
      "image/png": "[encoded data removed]",
      "text/plain": [
       "<Figure size 1440x720 with 1 Axes>"
      ]
     },
     "metadata": {
      "needs_background": "light"
     },
     "output_type": "display_data"
    }
   ],
   "source": [
    "# Boxplot\n",
    "\n",
    "plt.figure(figsize=(20,10))\n",
    "sns.boxplot(df['Income']);"
   ]
  },
  {
   "cell_type": "markdown",
   "metadata": {},
   "source": [
    "****"
   ]
  },
  {
   "cell_type": "markdown",
   "metadata": {},
   "source": [
    "<font color=darkblue>\n",
    "\n",
    "### 23. FUNCTION THAT RETURNS A BARPLOT (with percentages for each CATEGORICAL attribute)"
   ]
  },
  {
   "cell_type": "code",
   "execution_count": 47,
   "metadata": {},
   "outputs": [],
   "source": [
    "def percent_on_bar(plot, attribute):\n",
    "    '''\n",
    "    plot\n",
    "    feature: categorical feature\n",
    "    the function won't work if a column is passed in hue parameter\n",
    "    '''\n",
    "    # length of the column\n",
    "    total = len(attribute)\n",
    "\n",
    "    # percentage of each class of the category\n",
    "    for p in ax.patches:\n",
    "        percentage = '{:.1f}%'.format(100 * p.get_height()/total)\n",
    "        \n",
    "        # width of the plot\n",
    "        x = p.get_x() + p.get_width() / 2 - 0.05\n",
    "        # hieght of the plot\n",
    "        y = p.get_y() + p.get_height()           \n",
    "        \n",
    "        # annotate the percantage \n",
    "        ax.annotate(percentage, (x, y), size = 12) \n",
    "        \n",
    "    # show the plot\n",
    "    plt.show()"
   ]
  },
  {
   "cell_type": "markdown",
   "metadata": {},
   "source": [
    "*****"
   ]
  },
  {
   "cell_type": "markdown",
   "metadata": {},
   "source": [
    "<font color='darkblue'>\n",
    "\n",
    "### 23-1. PRODUCT PLOT\n",
    "#### 23-1a. OBSERVATION:\n",
    "#### 23-1b. OBSERVATION: TM195 is the highest selling product (44.4%), followed by TM498 (33.3%) and TM798 (22.2%)"
   ]
  },
  {
   "cell_type": "code",
   "execution_count": 48,
   "metadata": {},
   "outputs": [
    {
     "data": {
      "image/png": "[encoded data removed]",
      "text/plain": [
       "<Figure size 1440x720 with 1 Axes>"
      ]
     },
     "metadata": {},
     "output_type": "display_data"
    }
   ],
   "source": [
    "plt.figure(figsize=(20,10))\n",
    "ax = sns.countplot(cardio[\"Product\"],palette='winter')\n",
    "percent_on_bar(ax,cardio[\"Product\"])"
   ]
  },
  {
   "cell_type": "markdown",
   "metadata": {},
   "source": [
    "******\n"
   ]
  },
  {
   "cell_type": "markdown",
   "metadata": {},
   "source": [
    "<font color='darkblue'>\n",
    "\n",
    "### 23-2. GENDER PLOT\n",
    "#### 23-2a. OBSERVATION: There are more male customers (57.8%) than female customers (42.2%)"
   ]
  },
  {
   "cell_type": "code",
   "execution_count": 50,
   "metadata": {},
   "outputs": [
    {
     "data": {
      "image/png": "[encoded data removed]",
      "text/plain": [
       "<Figure size 1440x720 with 1 Axes>"
      ]
     },
     "metadata": {},
     "output_type": "display_data"
    }
   ],
   "source": [
    "plt.figure(figsize=(20,10))\n",
    "ax = sns.countplot(cardio['Gender'], palette='winter')\n",
    "percent_on_bar(ax,cardio['Gender'])"
   ]
  },
  {
   "cell_type": "markdown",
   "metadata": {},
   "source": [
    "*****"
   ]
  },
  {
   "cell_type": "markdown",
   "metadata": {},
   "source": [
    "<font color='darkblue'>\n",
    "\n",
    "### 23-3. MARITAL STATUS PLOT\n",
    "#### 23-3a. OBSERVATION:"
   ]
  },
  {
   "cell_type": "code",
   "execution_count": 52,
   "metadata": {},
   "outputs": [
    {
     "data": {
      "image/png": "[encoded data removed]",
      "text/plain": [
       "<Figure size 1440x720 with 1 Axes>"
      ]
     },
     "metadata": {},
     "output_type": "display_data"
    }
   ],
   "source": [
    "plt.figure(figsize=(20,10))\n",
    "ax = sns.countplot(cardio['MaritalStatus'],palette='winter')\n",
    "percent_on_bar(ax,cardio['MaritalStatus'])"
   ]
  },
  {
   "cell_type": "markdown",
   "metadata": {},
   "source": [
    "****"
   ]
  },
  {
   "cell_type": "markdown",
   "metadata": {},
   "source": [
    "<font color='darkblue'>\n",
    "\n",
    "### 23-4. FITNESS PLOT\n",
    "#### 23-4a. OBSERVATION: Most (53.9%) customers rank their fitness a 3 (on a scale of 1 to 5)."
   ]
  },
  {
   "cell_type": "code",
   "execution_count": 53,
   "metadata": {},
   "outputs": [
    {
     "data": {
      "image/png": "[encoded data removed]",
      "text/plain": [
       "<Figure size 1440x720 with 1 Axes>"
      ]
     },
     "metadata": {},
     "output_type": "display_data"
    }
   ],
   "source": [
    "plt.figure(figsize=(20,10))\n",
    "ax = sns.countplot(cardio['Fitness'], palette='winter')\n",
    "percent_on_bar(ax, cardio['Fitness'])"
   ]
  },
  {
   "cell_type": "markdown",
   "metadata": {},
   "source": [
    "****"
   ]
  },
  {
   "cell_type": "markdown",
   "metadata": {},
   "source": [
    "<font color='darkblue'>\n",
    "\n",
    "### 23-5. EDUCATION PLOT\n",
    "#### 23-5a. OBSERVATION: 47.2% of customers have 16 years of education (college graduates)"
   ]
  },
  {
   "cell_type": "code",
   "execution_count": 55,
   "metadata": {},
   "outputs": [
    {
     "data": {
      "image/png": "[encoded data removed]",
      "text/plain": [
       "<Figure size 1440x720 with 1 Axes>"
      ]
     },
     "metadata": {},
     "output_type": "display_data"
    }
   ],
   "source": [
    "plt.figure(figsize=(20,10))\n",
    "ax = sns.countplot(cardio['Education'], palette='winter')\n",
    "percent_on_bar(ax, cardio['Education'])"
   ]
  },
  {
   "cell_type": "markdown",
   "metadata": {},
   "source": [
    "<font color='darkblue'>\n",
    "\n",
    "### 23-6. USAGE PLOT\n",
    "#### 23-6a. OBSERVATION: 38.3% of customers intend to use their treadmill 3 times per week; 28.9% intend to use it 4 times per week"
   ]
  },
  {
   "cell_type": "code",
   "execution_count": 56,
   "metadata": {},
   "outputs": [
    {
     "data": {
      "image/png": "[encoded data removed]",
      "text/plain": [
       "<Figure size 1440x720 with 1 Axes>"
      ]
     },
     "metadata": {},
     "output_type": "display_data"
    }
   ],
   "source": [
    "plt.figure(figsize=(20,10))\n",
    "ax = sns.countplot(cardio['Usage'], palette='winter')\n",
    "percent_on_bar(ax, cardio['Usage'])"
   ]
  },
  {
   "cell_type": "markdown",
   "metadata": {},
   "source": [
    "###  <span style=\"font-family: Arial; font-weight:bold;font-size:1.5em;color:#0e92ea\"> Multivariate Analysis\n",
    "\n",
    "<font color=darkblue>\n",
    "&nbsp;\n",
    "    \n",
    "24. Pairplot -- Multivariate array of scatterplots and main-axis histograms for the Pandas dataframe named \"df\"\n",
    "25. Correlation Coefficient Matrix -- Multivariate normalized version of covariance for Pandas dataframe named \"df\"\n",
    "26. Heatmap -- Multivariate visualization of the correlation coefficient matrix\n",
    "&nbsp;\n",
    "\n",
    "###  <span style=\"font-family: Arial; font-weight:bold;font-size:1em;color:#0e92ea\"> Bivariate Analysis\n",
    "\n",
    "<font color=darkblue>\n",
    "&nbsp;\n",
    "    \n",
    "27. Boxplot -- Bivariate five-number summary image for two (2) series attributes, (categorical product & quantitative age)\n",
    "28. Boxplot -- Bivariate five-number summary image for two (2) series attributes, (categorical product & quantitative education)\n",
    "29. Boxplot -- Bivariate five-number summary image for two (2) series attributes, (categorical product & quantitative education)\n",
    "30. Boxplot -- Bivariate five-number summary image for two (2) series attributes, (categorical product & quantitative income)\n",
    "31. Boxplot -- Bivariate five-number summary image for two (2) series attributes, (categorical product & quantitative miles)\n",
    "32. Countplot -- Bivariate five-number summary image for two (2) series attributes, (categorical product & quantitative gender)\n",
    "33. Countplot -- Bivariate five-number summary image for two (2) series attributes, (categorical product & quantitative marital status)\n",
    "34. Countplot -- Bivariate five-number summary image for two (2) series attributes, (categorical product & quantitative fitness)\n",
    "35. Countplot -- Count categorical series attribute against another categorical series attribute (qualitative & qualitative)\n",
    "36. Crosstab -- Compute a frequency table of two (2) categorical attributes\n",
    "37. Boxplot -- Bivariate five-number summary image for two (2) series attributes, (categorical gender & quantitative age)\n",
    "38. Equality Operator and Arithmetic Operator -- Interquartile Range of the Age attribute for both males and females\n",
    "&nbsp;\n",
    "    \n",
    "###  <span style=\"font-family: Arial; font-weight:bold;font-size:1em;color:#0e92ea\"> Multivariate Analysis\n",
    "    \n",
    "<font color=darkblue>\n",
    "&nbsp;\n",
    "    \n",
    "39. Groupby -- Product value to describe the five-number summary for each numeric attribute\n",
    "40. Groupby -- Product value to compute the mean for each numeric attribute\n",
    "41. Groupby -- Product value and Gender to compute the total males and females per treadmill\n",
    "42. Groupby -- Product value and Gender to compute the mean Age per gender per treadmill\n",
    "43. Groupby -- Product value and Gender to compute the aggregated mean of customers' Income for each product\n",
    "44. Catplot -- Multivariate category plot that depicts Income vs. Gender vs. Product vs. Marital Status \n",
    "&nbsp;\n",
    "    \n",
    "###  <span style=\"font-family: Arial; font-weight:bold;font-size:1em;color:#0e92ea\"> Creating Bins\n",
    "    \n",
    "<font color=darkblue>\n",
    "&nbsp;\n",
    "    \n",
    "45. Bins -- Step-by-Step process on the Income attribute to understand qcut() vs. cut()"
   ]
  },
  {
   "cell_type": "markdown",
   "metadata": {},
   "source": [
    "<font color=darkblue>\n",
    "\n",
    "### 24. Return a pairplot depicting attribute relationships for the Pandas dataframe named \"df\"\n",
    "#### 24a. OBSERVATION: Income vs. Age --  in general, income values rise with age (positive relationship)\n",
    "#### 24b. OBSERVATION: Covariances --  at this stage of my development, I have difficulty seeing/interpreting any relationships in a scatterplot other than linear relationships"
   ]
  },
  {
   "cell_type": "code",
   "execution_count": 351,
   "metadata": {},
   "outputs": [
    {
     "data": {
      "image/png": "[encoded data removed]",
      "text/plain": [
       "<Figure size 1080x1080 with 42 Axes>"
      ]
     },
     "metadata": {
      "needs_background": "light"
     },
     "output_type": "display_data"
    }
   ],
   "source": [
    "# Multivariate array of scatterplot graphs and main diagonal histograms\n",
    "\n",
    "sns.pairplot(df);"
   ]
  },
  {
   "cell_type": "markdown",
   "metadata": {},
   "source": [
    "****"
   ]
  },
  {
   "cell_type": "markdown",
   "metadata": {},
   "source": [
    "<font color=darkblue>\n",
    "\n",
    "### 25. Return a correlation coefficient matrix for the Pandas dataframe named \"df\"\n",
    "#### 25a. OBSERVATION: Miles and Usage -- Strong (High) positive correlation -- exercising more miles means more usage\n",
    "#### 25b. OBSERVATION: Education and Incomve -- Strong (High) positive correlation -- more education means more income \n",
    "#### 25c. OBSERVATION: Income and Age, Usage, Miles -- positive correlation between income and age, usage, and miles"
   ]
  },
  {
   "cell_type": "code",
   "execution_count": 352,
   "metadata": {},
   "outputs": [
    {
     "data": {
      "text/html": [
       "<div>\n",
       "<style scoped>\n",
       "    .dataframe tbody tr th:only-of-type {\n",
       "        vertical-align: middle;\n",
       "    }\n",
       "\n",
       "    .dataframe tbody tr th {\n",
       "        vertical-align: top;\n",
       "    }\n",
       "\n",
       "    .dataframe thead th {\n",
       "        text-align: right;\n",
       "    }\n",
       "</style>\n",
       "<table border=\"1\" class=\"dataframe\">\n",
       "  <thead>\n",
       "    <tr style=\"text-align: right;\">\n",
       "      <th></th>\n",
       "      <th>Age</th>\n",
       "      <th>Education</th>\n",
       "      <th>Usage</th>\n",
       "      <th>Fitness</th>\n",
       "      <th>Income</th>\n",
       "      <th>Miles</th>\n",
       "    </tr>\n",
       "  </thead>\n",
       "  <tbody>\n",
       "    <tr>\n",
       "      <th>Age</th>\n",
       "      <td>1.000000</td>\n",
       "      <td>0.280496</td>\n",
       "      <td>0.015064</td>\n",
       "      <td>0.061105</td>\n",
       "      <td>0.513414</td>\n",
       "      <td>0.036618</td>\n",
       "    </tr>\n",
       "    <tr>\n",
       "      <th>Education</th>\n",
       "      <td>0.280496</td>\n",
       "      <td>1.000000</td>\n",
       "      <td>0.395155</td>\n",
       "      <td>0.410581</td>\n",
       "      <td>0.625827</td>\n",
       "      <td>0.307284</td>\n",
       "    </tr>\n",
       "    <tr>\n",
       "      <th>Usage</th>\n",
       "      <td>0.015064</td>\n",
       "      <td>0.395155</td>\n",
       "      <td>1.000000</td>\n",
       "      <td>0.668606</td>\n",
       "      <td>0.519537</td>\n",
       "      <td>0.759130</td>\n",
       "    </tr>\n",
       "    <tr>\n",
       "      <th>Fitness</th>\n",
       "      <td>0.061105</td>\n",
       "      <td>0.410581</td>\n",
       "      <td>0.668606</td>\n",
       "      <td>1.000000</td>\n",
       "      <td>0.535005</td>\n",
       "      <td>0.785702</td>\n",
       "    </tr>\n",
       "    <tr>\n",
       "      <th>Income</th>\n",
       "      <td>0.513414</td>\n",
       "      <td>0.625827</td>\n",
       "      <td>0.519537</td>\n",
       "      <td>0.535005</td>\n",
       "      <td>1.000000</td>\n",
       "      <td>0.543473</td>\n",
       "    </tr>\n",
       "    <tr>\n",
       "      <th>Miles</th>\n",
       "      <td>0.036618</td>\n",
       "      <td>0.307284</td>\n",
       "      <td>0.759130</td>\n",
       "      <td>0.785702</td>\n",
       "      <td>0.543473</td>\n",
       "      <td>1.000000</td>\n",
       "    </tr>\n",
       "  </tbody>\n",
       "</table>\n",
       "</div>"
      ],
      "text/plain": [
       "                Age  Education     Usage   Fitness    Income     Miles\n",
       "Age        1.000000   0.280496  0.015064  0.061105  0.513414  0.036618\n",
       "Education  0.280496   1.000000  0.395155  0.410581  0.625827  0.307284\n",
       "Usage      0.015064   0.395155  1.000000  0.668606  0.519537  0.759130\n",
       "Fitness    0.061105   0.410581  0.668606  1.000000  0.535005  0.785702\n",
       "Income     0.513414   0.625827  0.519537  0.535005  1.000000  0.543473\n",
       "Miles      0.036618   0.307284  0.759130  0.785702  0.543473  1.000000"
      ]
     },
     "execution_count": 352,
     "metadata": {},
     "output_type": "execute_result"
    }
   ],
   "source": [
    "# Multivariate pairwise correlation of numeric attributes in the dataframe\n",
    "correlation = df.corr()\n",
    "correlation"
   ]
  },
  {
   "cell_type": "markdown",
   "metadata": {},
   "source": [
    "****"
   ]
  },
  {
   "cell_type": "markdown",
   "metadata": {},
   "source": [
    "<font color=darkblue>\n",
    "\n",
    "### 26. Return a heatmap depicting correlations for the Pandas dataframe named \"df\"\n",
    "#### 26a. Normalization by the corr() function decreases the \"units of measurements\" bias by creating a correlation coefficient &nbsp; \n",
    "    \n",
    "OBSERVATIONS: listed in #22 above"
   ]
  },
  {
   "cell_type": "code",
   "execution_count": 353,
   "metadata": {},
   "outputs": [
    {
     "data": {
      "image/png": "[encoded data removed]",
      "text/plain": [
       "<Figure size 1440x720 with 2 Axes>"
      ]
     },
     "metadata": {
      "needs_background": "light"
     },
     "output_type": "display_data"
    }
   ],
   "source": [
    "# Multivariate Heatmap\n",
    "\n",
    "plt.figure(figsize=(20,10))\n",
    "sns.heatmap(correlation, annot=True);"
   ]
  },
  {
   "cell_type": "markdown",
   "metadata": {},
   "source": [
    "****"
   ]
  },
  {
   "cell_type": "markdown",
   "metadata": {},
   "source": [
    "###  <span style=\"font-family: Arial; font-weight:bold;font-size:1em;color:#0e92ea\"> Bivariate Analysis"
   ]
  },
  {
   "cell_type": "markdown",
   "metadata": {},
   "source": [
    "<font color=darkblue>\n",
    "\n",
    "### 27. Return a boxplot that depicts treadmill model vs. age\n",
    "#### 27a. OBSERVATION: Product vs. Age -- median age for TM195 & TM498 are similar (26 y/o), while median age for TM798 is slightly  higher.\n",
    "#### 27b. OBSERVATION:  Product vs. Age -- older folks tend to purchase treadmill model number TM798 (outliers are 1.5 times above the IQR)\n",
    "#### 27b. OBSERVATION: Product vs. Age -- longer whiskers above the 75th percentile for TM195 and TM498"
   ]
  },
  {
   "cell_type": "code",
   "execution_count": 354,
   "metadata": {},
   "outputs": [
    {
     "data": {
      "image/png": "[encoded data removed]",
      "text/plain": [
       "<Figure size 1440x720 with 1 Axes>"
      ]
     },
     "metadata": {
      "needs_background": "light"
     },
     "output_type": "display_data"
    }
   ],
   "source": [
    "# Bivariate Boxplot (categorical vs. continuous ratio-scaled)\n",
    "\n",
    "plt.figure(figsize=(20,10))\n",
    "sns.boxplot(cardio['Product'], cardio['Age']);"
   ]
  },
  {
   "cell_type": "markdown",
   "metadata": {},
   "source": [
    "****"
   ]
  },
  {
   "cell_type": "markdown",
   "metadata": {},
   "source": [
    "<font color=darkblue>\n",
    "\n",
    "### 28. Return a boxplot that depicts treadmill model vs. education\n",
    "#### 28a. OBSERVATION: Customers who purchased TM798 have higher education levels than customers who purchased TM195 and TM498"
   ]
  },
  {
   "cell_type": "code",
   "execution_count": 57,
   "metadata": {},
   "outputs": [
    {
     "data": {
      "image/png": "[encoded data removed]",
      "text/plain": [
       "<Figure size 1440x720 with 1 Axes>"
      ]
     },
     "metadata": {},
     "output_type": "display_data"
    }
   ],
   "source": [
    "# Bivariate Boxplot (categorical vs. continuous ratio-scaled)\n",
    "\n",
    "plt.figure(figsize=(20,10))\n",
    "sns.boxplot(cardio['Product'], cardio['Education']);"
   ]
  },
  {
   "cell_type": "markdown",
   "metadata": {},
   "source": [
    "****"
   ]
  },
  {
   "cell_type": "markdown",
   "metadata": {},
   "source": [
    "<font color=darkblue>\n",
    "\n",
    "### 29. Return a boxplot that depicts treadmill model vs. usage\n",
    "#### 29a. OBSERVATION: Expected usage for TM498 is substantially less than expected usage for TM195 and TM798. TM798 owners expect to use their tredmill much more often than the other two models"
   ]
  },
  {
   "cell_type": "code",
   "execution_count": 59,
   "metadata": {},
   "outputs": [
    {
     "data": {
      "image/png": "[encoded data removed]",
      "text/plain": [
       "<Figure size 1440x720 with 1 Axes>"
      ]
     },
     "metadata": {},
     "output_type": "display_data"
    }
   ],
   "source": [
    "# Bivariate Boxplot (categorical vs. continuous ratio-scaled)\n",
    "\n",
    "plt.figure(figsize=(20,10))\n",
    "sns.boxplot(cardio['Product'], cardio['Usage']);"
   ]
  },
  {
   "cell_type": "markdown",
   "metadata": {},
   "source": [
    "***"
   ]
  },
  {
   "cell_type": "markdown",
   "metadata": {},
   "source": [
    "<font color=darkblue>\n",
    "\n",
    "### 30. Return a boxplot that depicts treadmill model vs. income\n",
    "#### 30a. OBSERVATION: Customers with higher incomes prefer TM798. Moderate income customers prefer TM498 and TM195"
   ]
  },
  {
   "cell_type": "code",
   "execution_count": 60,
   "metadata": {},
   "outputs": [
    {
     "data": {
      "image/png": "[encoded data removed]",
      "text/plain": [
       "<Figure size 1440x720 with 1 Axes>"
      ]
     },
     "metadata": {},
     "output_type": "display_data"
    }
   ],
   "source": [
    "plt.figure(figsize=(20,10))\n",
    "sns.boxplot(cardio['Product'], cardio['Income']);"
   ]
  },
  {
   "cell_type": "markdown",
   "metadata": {},
   "source": [
    "****"
   ]
  },
  {
   "cell_type": "markdown",
   "metadata": {},
   "source": [
    "<font color=darkblue>\n",
    "\n",
    "### 31. Return a boxplot that depicts treadmill model vs. miles\n",
    "#### 31a. OBSERVATION: Customers expecting to run more miles prefer TM798 "
   ]
  },
  {
   "cell_type": "code",
   "execution_count": 65,
   "metadata": {},
   "outputs": [
    {
     "data": {
      "image/png": "[encoded data removed]",
      "text/plain": [
       "<Figure size 1440x720 with 1 Axes>"
      ]
     },
     "metadata": {},
     "output_type": "display_data"
    }
   ],
   "source": [
    "plt.figure(figsize=(20,10))\n",
    "sns.boxplot(cardio['Product'], cardio['Miles']);"
   ]
  },
  {
   "cell_type": "markdown",
   "metadata": {},
   "source": [
    "****"
   ]
  },
  {
   "cell_type": "markdown",
   "metadata": {},
   "source": [
    "<font color=darkblue>\n",
    "\n",
    "### 32. Return a countplot that depicts treadmill model vs. gender\n",
    "#### 32a. OBSERVATION: Relative to TM195 and TM498, female customers do not prefer TM798 "
   ]
  },
  {
   "cell_type": "code",
   "execution_count": 67,
   "metadata": {},
   "outputs": [
    {
     "data": {
      "image/png": "[encoded data removed]",
      "text/plain": [
       "<Figure size 1440x720 with 1 Axes>"
      ]
     },
     "metadata": {},
     "output_type": "display_data"
    }
   ],
   "source": [
    "plt.figure(figsize=(20,10))\n",
    "sns.countplot(cardio['Product'], hue=cardio['Gender']);\n",
    "plt.legend(bbox_to_anchor=(1.00,1))\n",
    "plt.show()"
   ]
  },
  {
   "cell_type": "markdown",
   "metadata": {},
   "source": [
    "****"
   ]
  },
  {
   "cell_type": "markdown",
   "metadata": {},
   "source": [
    "<font color=darkblue>\n",
    "\n",
    "### 33. Return a countplot that depicts treadmill model vs. marital status\n",
    "#### 33a. OBSERVATION: Partnered customers (male and female) purchase treadmills more than single customers -- no matter what model"
   ]
  },
  {
   "cell_type": "code",
   "execution_count": 68,
   "metadata": {},
   "outputs": [
    {
     "data": {
      "image/png": "[encoded data removed]",
      "text/plain": [
       "<Figure size 1440x720 with 1 Axes>"
      ]
     },
     "metadata": {},
     "output_type": "display_data"
    }
   ],
   "source": [
    "plt.figure(figsize=(20,10))\n",
    "sns.countplot(cardio['Product'], hue=cardio['MaritalStatus']);\n",
    "plt.legend(bbox_to_anchor=(1.00,1))\n",
    "plt.show()"
   ]
  },
  {
   "cell_type": "markdown",
   "metadata": {},
   "source": [
    "****"
   ]
  },
  {
   "cell_type": "markdown",
   "metadata": {},
   "source": [
    "<font color=darkblue>\n",
    "\n",
    "### 34. Return a countplot that depicts treadmill model vs. fitness\n",
    "#### 34a. OBSERVATION: Self-proclaimed fit customers (5 on a scale 1 to 5) purchase TM798. TM195 and TM498 are sold more to self-procaimed moderately fit customers"
   ]
  },
  {
   "cell_type": "code",
   "execution_count": 69,
   "metadata": {},
   "outputs": [
    {
     "data": {
      "image/png": "[encoded data removed]",
      "text/plain": [
       "<Figure size 1440x720 with 1 Axes>"
      ]
     },
     "metadata": {},
     "output_type": "display_data"
    }
   ],
   "source": [
    "plt.figure(figsize=(20,10))\n",
    "sns.countplot(cardio['Product'], hue=cardio['Fitness']);\n",
    "plt.legend(bbox_to_anchor=(1.00,1))\n",
    "plt.show()"
   ]
  },
  {
   "cell_type": "markdown",
   "metadata": {},
   "source": [
    "****"
   ]
  },
  {
   "cell_type": "markdown",
   "metadata": {},
   "source": [
    "<font color=darkblue>\n",
    "\n",
    "### 35. Return a countplot that depicts customer gender by product\n",
    "\n",
    "#### 35a. OBSERVATION: Gender by Product -- few women have purchased TM798 (the treadmill favored by older customers).\n",
    "#### 35b. OBSERVATION: Gender by Product -- TM195 is the most popular treadmill, and it is evenly favored by both genders\n",
    "#### 35b. OBSERVATION: Gender by Product -- from a sales/marketing perspective, TM498 is basically favored equally by both genders"
   ]
  },
  {
   "cell_type": "code",
   "execution_count": 355,
   "metadata": {},
   "outputs": [
    {
     "data": {
      "image/png": "[encoded data removed]",
      "text/plain": [
       "<Figure size 1440x720 with 1 Axes>"
      ]
     },
     "metadata": {
      "needs_background": "light"
     },
     "output_type": "display_data"
    }
   ],
   "source": [
    "# Bivariate COUNTPLOT (categorical by categorical)\n",
    "\n",
    "plt.figure(figsize=(20,10))\n",
    "sns.countplot(x='Product', hue='Gender', data=df);"
   ]
  },
  {
   "cell_type": "markdown",
   "metadata": {},
   "source": [
    "****"
   ]
  },
  {
   "cell_type": "markdown",
   "metadata": {},
   "source": [
    "<font color=darkblue>\n",
    "\n",
    "### 36. Return a table that counts the purchases of each treadmill model by gender (crosstab)\n",
    "#### 36a. OBSERVATION: Gender vs. Product -- only 7 woman have purchased TM798 (the treadmill favored by older customers)."
   ]
  },
  {
   "cell_type": "code",
   "execution_count": 356,
   "metadata": {},
   "outputs": [
    {
     "data": {
      "text/html": [
       "<div>\n",
       "<style scoped>\n",
       "    .dataframe tbody tr th:only-of-type {\n",
       "        vertical-align: middle;\n",
       "    }\n",
       "\n",
       "    .dataframe tbody tr th {\n",
       "        vertical-align: top;\n",
       "    }\n",
       "\n",
       "    .dataframe thead th {\n",
       "        text-align: right;\n",
       "    }\n",
       "</style>\n",
       "<table border=\"1\" class=\"dataframe\">\n",
       "  <thead>\n",
       "    <tr style=\"text-align: right;\">\n",
       "      <th>Gender</th>\n",
       "      <th>Female</th>\n",
       "      <th>Male</th>\n",
       "    </tr>\n",
       "    <tr>\n",
       "      <th>Product</th>\n",
       "      <th></th>\n",
       "      <th></th>\n",
       "    </tr>\n",
       "  </thead>\n",
       "  <tbody>\n",
       "    <tr>\n",
       "      <th>TM195</th>\n",
       "      <td>40</td>\n",
       "      <td>40</td>\n",
       "    </tr>\n",
       "    <tr>\n",
       "      <th>TM498</th>\n",
       "      <td>29</td>\n",
       "      <td>31</td>\n",
       "    </tr>\n",
       "    <tr>\n",
       "      <th>TM798</th>\n",
       "      <td>7</td>\n",
       "      <td>33</td>\n",
       "    </tr>\n",
       "  </tbody>\n",
       "</table>\n",
       "</div>"
      ],
      "text/plain": [
       "Gender   Female  Male\n",
       "Product              \n",
       "TM195        40    40\n",
       "TM498        29    31\n",
       "TM798         7    33"
      ]
     },
     "execution_count": 356,
     "metadata": {},
     "output_type": "execute_result"
    }
   ],
   "source": [
    "# accompanies countplot for question 25 (above)\n",
    "# Bivariate crosstab\n",
    "\n",
    "pd.crosstab(df['Product'],df['Gender'])"
   ]
  },
  {
   "cell_type": "markdown",
   "metadata": {},
   "source": [
    "****"
   ]
  },
  {
   "cell_type": "markdown",
   "metadata": {},
   "source": [
    "<font color=darkblue>\n",
    "\n",
    "### 37. Return a boxplot that depicts customer age vs gender\n",
    "#### 37a. age vs. gender -- OBSERVATION: the median age for both genders is similar (~26 y/o).\n",
    "#### 37b. age vs. gender -- OBSERVATION: although the male box is slightly bigger than the female box, both genders have a very similar IQR\n",
    "#### 37b. age vs. gender -- OBSERVATION: there is an interesting female outlier who may be the oldest of all the treadmill customers"
   ]
  },
  {
   "cell_type": "code",
   "execution_count": 357,
   "metadata": {},
   "outputs": [
    {
     "data": {
      "image/png": "[encoded data removed]",
      "text/plain": [
       "<Figure size 1440x720 with 1 Axes>"
      ]
     },
     "metadata": {
      "needs_background": "light"
     },
     "output_type": "display_data"
    }
   ],
   "source": [
    "# Bivariate Boxplot\n",
    "\n",
    "plt.figure(figsize=(20,10))\n",
    "sns.boxplot(df['Gender'], df['Age']);"
   ]
  },
  {
   "cell_type": "markdown",
   "metadata": {},
   "source": [
    "****"
   ]
  },
  {
   "cell_type": "markdown",
   "metadata": {},
   "source": [
    "<font color=darkblue>\n",
    "\n",
    "### 38. Return the Interquartile Range of the Age attribute for both males and females "
   ]
  },
  {
   "cell_type": "code",
   "execution_count": 358,
   "metadata": {},
   "outputs": [
    {
     "name": "stdout",
     "output_type": "stream",
     "text": [
      "The age IQR for females is 9.0\n",
      "\n",
      "The age IQR for males is 10.25\n"
     ]
    }
   ],
   "source": [
    "# Bivariate age IQR for females and males (per my observation 26b above)\n",
    "\n",
    "female_age_iqr3 = df[df['Gender'] == 'Female']['Age'].quantile(.75)\n",
    "female_age_iqr1 = df[df['Gender'] == 'Female']['Age'].quantile(.25)\n",
    "female_age_iqr = female_age_iqr3 - female_age_iqr1\n",
    "\n",
    "male_age_iqr3 = df[df['Gender'] == 'Male']['Age'].quantile(.75)\n",
    "male_age_iqr1 = df[df['Gender'] == 'Male']['Age'].quantile(.25)\n",
    "male_age_iqr = male_age_iqr3 - male_age_iqr1\n",
    "\n",
    "print('The age IQR for females is', female_age_iqr)\n",
    "print(\"\")\n",
    "print('The age IQR for males is', male_age_iqr)"
   ]
  },
  {
   "cell_type": "markdown",
   "metadata": {},
   "source": [
    "****"
   ]
  },
  {
   "cell_type": "markdown",
   "metadata": {},
   "source": [
    "###  <span style=\"font-family: Arial; font-weight:bold;font-size:1em;color:#0e92ea\"> Multivariate Analysis"
   ]
  },
  {
   "cell_type": "markdown",
   "metadata": {},
   "source": [
    "<font color=darkblue>\n",
    "\n",
    "### 39. Return a table row for each treadmill model such that it describes all of the numeric attributes\n",
    "\n",
    "#### 39a. OBSERVATION: Product vs. Numeric Attributes -- five-number summary is described for each numeric attribute \n"
   ]
  },
  {
   "cell_type": "code",
   "execution_count": 359,
   "metadata": {},
   "outputs": [
    {
     "data": {
      "text/html": [
       "<div>\n",
       "<style scoped>\n",
       "    .dataframe tbody tr th:only-of-type {\n",
       "        vertical-align: middle;\n",
       "    }\n",
       "\n",
       "    .dataframe tbody tr th {\n",
       "        vertical-align: top;\n",
       "    }\n",
       "\n",
       "    .dataframe thead tr th {\n",
       "        text-align: left;\n",
       "    }\n",
       "\n",
       "    .dataframe thead tr:last-of-type th {\n",
       "        text-align: right;\n",
       "    }\n",
       "</style>\n",
       "<table border=\"1\" class=\"dataframe\">\n",
       "  <thead>\n",
       "    <tr>\n",
       "      <th></th>\n",
       "      <th colspan=\"8\" halign=\"left\">Age</th>\n",
       "      <th colspan=\"2\" halign=\"left\">Education</th>\n",
       "      <th>...</th>\n",
       "      <th colspan=\"2\" halign=\"left\">Income</th>\n",
       "      <th colspan=\"8\" halign=\"left\">Miles</th>\n",
       "    </tr>\n",
       "    <tr>\n",
       "      <th></th>\n",
       "      <th>count</th>\n",
       "      <th>mean</th>\n",
       "      <th>std</th>\n",
       "      <th>min</th>\n",
       "      <th>25%</th>\n",
       "      <th>50%</th>\n",
       "      <th>75%</th>\n",
       "      <th>max</th>\n",
       "      <th>count</th>\n",
       "      <th>mean</th>\n",
       "      <th>...</th>\n",
       "      <th>75%</th>\n",
       "      <th>max</th>\n",
       "      <th>count</th>\n",
       "      <th>mean</th>\n",
       "      <th>std</th>\n",
       "      <th>min</th>\n",
       "      <th>25%</th>\n",
       "      <th>50%</th>\n",
       "      <th>75%</th>\n",
       "      <th>max</th>\n",
       "    </tr>\n",
       "    <tr>\n",
       "      <th>Product</th>\n",
       "      <th></th>\n",
       "      <th></th>\n",
       "      <th></th>\n",
       "      <th></th>\n",
       "      <th></th>\n",
       "      <th></th>\n",
       "      <th></th>\n",
       "      <th></th>\n",
       "      <th></th>\n",
       "      <th></th>\n",
       "      <th></th>\n",
       "      <th></th>\n",
       "      <th></th>\n",
       "      <th></th>\n",
       "      <th></th>\n",
       "      <th></th>\n",
       "      <th></th>\n",
       "      <th></th>\n",
       "      <th></th>\n",
       "      <th></th>\n",
       "      <th></th>\n",
       "    </tr>\n",
       "  </thead>\n",
       "  <tbody>\n",
       "    <tr>\n",
       "      <th>TM195</th>\n",
       "      <td>80.0</td>\n",
       "      <td>28.55</td>\n",
       "      <td>7.221452</td>\n",
       "      <td>18.0</td>\n",
       "      <td>23.00</td>\n",
       "      <td>26.0</td>\n",
       "      <td>33.00</td>\n",
       "      <td>50.0</td>\n",
       "      <td>80.0</td>\n",
       "      <td>15.037500</td>\n",
       "      <td>...</td>\n",
       "      <td>53439.0</td>\n",
       "      <td>68220.0</td>\n",
       "      <td>80.0</td>\n",
       "      <td>82.787500</td>\n",
       "      <td>28.874102</td>\n",
       "      <td>38.0</td>\n",
       "      <td>66.0</td>\n",
       "      <td>85.0</td>\n",
       "      <td>94.0</td>\n",
       "      <td>188.0</td>\n",
       "    </tr>\n",
       "    <tr>\n",
       "      <th>TM498</th>\n",
       "      <td>60.0</td>\n",
       "      <td>28.90</td>\n",
       "      <td>6.645248</td>\n",
       "      <td>19.0</td>\n",
       "      <td>24.00</td>\n",
       "      <td>26.0</td>\n",
       "      <td>33.25</td>\n",
       "      <td>48.0</td>\n",
       "      <td>60.0</td>\n",
       "      <td>15.116667</td>\n",
       "      <td>...</td>\n",
       "      <td>53439.0</td>\n",
       "      <td>67083.0</td>\n",
       "      <td>60.0</td>\n",
       "      <td>87.933333</td>\n",
       "      <td>33.263135</td>\n",
       "      <td>21.0</td>\n",
       "      <td>64.0</td>\n",
       "      <td>85.0</td>\n",
       "      <td>106.0</td>\n",
       "      <td>212.0</td>\n",
       "    </tr>\n",
       "    <tr>\n",
       "      <th>TM798</th>\n",
       "      <td>40.0</td>\n",
       "      <td>29.10</td>\n",
       "      <td>6.971738</td>\n",
       "      <td>22.0</td>\n",
       "      <td>24.75</td>\n",
       "      <td>27.0</td>\n",
       "      <td>30.25</td>\n",
       "      <td>48.0</td>\n",
       "      <td>40.0</td>\n",
       "      <td>17.325000</td>\n",
       "      <td>...</td>\n",
       "      <td>90886.0</td>\n",
       "      <td>104581.0</td>\n",
       "      <td>40.0</td>\n",
       "      <td>166.900000</td>\n",
       "      <td>60.066544</td>\n",
       "      <td>80.0</td>\n",
       "      <td>120.0</td>\n",
       "      <td>160.0</td>\n",
       "      <td>200.0</td>\n",
       "      <td>360.0</td>\n",
       "    </tr>\n",
       "  </tbody>\n",
       "</table>\n",
       "<p>3 rows × 48 columns</p>\n",
       "</div>"
      ],
      "text/plain": [
       "          Age                                                  Education  \\\n",
       "        count   mean       std   min    25%   50%    75%   max     count   \n",
       "Product                                                                    \n",
       "TM195    80.0  28.55  7.221452  18.0  23.00  26.0  33.00  50.0      80.0   \n",
       "TM498    60.0  28.90  6.645248  19.0  24.00  26.0  33.25  48.0      60.0   \n",
       "TM798    40.0  29.10  6.971738  22.0  24.75  27.0  30.25  48.0      40.0   \n",
       "\n",
       "                    ...   Income           Miles                               \\\n",
       "              mean  ...      75%       max count        mean        std   min   \n",
       "Product             ...                                                         \n",
       "TM195    15.037500  ...  53439.0   68220.0  80.0   82.787500  28.874102  38.0   \n",
       "TM498    15.116667  ...  53439.0   67083.0  60.0   87.933333  33.263135  21.0   \n",
       "TM798    17.325000  ...  90886.0  104581.0  40.0  166.900000  60.066544  80.0   \n",
       "\n",
       "                                     \n",
       "           25%    50%    75%    max  \n",
       "Product                              \n",
       "TM195     66.0   85.0   94.0  188.0  \n",
       "TM498     64.0   85.0  106.0  212.0  \n",
       "TM798    120.0  160.0  200.0  360.0  \n",
       "\n",
       "[3 rows x 48 columns]"
      ]
     },
     "execution_count": 359,
     "metadata": {},
     "output_type": "execute_result"
    }
   ],
   "source": [
    "# Multivariate Table\n",
    "# GROUPBY: 1) \"What column do I want to group by?\" 2) \"On what column is the data being retrieved (and subsequently aggregated)?\"\n",
    "\n",
    "grouped_treadmills = df.groupby(['Product'])\n",
    "grouped_treadmills.describe()"
   ]
  },
  {
   "cell_type": "markdown",
   "metadata": {},
   "source": [
    "****"
   ]
  },
  {
   "cell_type": "markdown",
   "metadata": {},
   "source": [
    "<font color=darkblue>\n",
    "    \n",
    "### 40. Return a table row for each treadmill model such that it lists the mean for all numeric attributes\n",
    "#### 40a. OBSERVATION: Product vs. Numeric mean of Attributes -- older people who bought TM798 have higher averages overall"
   ]
  },
  {
   "cell_type": "code",
   "execution_count": 468,
   "metadata": {
    "scrolled": true
   },
   "outputs": [
    {
     "data": {
      "text/html": [
       "<div>\n",
       "<style scoped>\n",
       "    .dataframe tbody tr th:only-of-type {\n",
       "        vertical-align: middle;\n",
       "    }\n",
       "\n",
       "    .dataframe tbody tr th {\n",
       "        vertical-align: top;\n",
       "    }\n",
       "\n",
       "    .dataframe thead th {\n",
       "        text-align: right;\n",
       "    }\n",
       "</style>\n",
       "<table border=\"1\" class=\"dataframe\">\n",
       "  <thead>\n",
       "    <tr style=\"text-align: right;\">\n",
       "      <th></th>\n",
       "      <th>Age</th>\n",
       "      <th>Education</th>\n",
       "      <th>Usage</th>\n",
       "      <th>Fitness</th>\n",
       "      <th>Income</th>\n",
       "      <th>Miles</th>\n",
       "    </tr>\n",
       "    <tr>\n",
       "      <th>Product</th>\n",
       "      <th></th>\n",
       "      <th></th>\n",
       "      <th></th>\n",
       "      <th></th>\n",
       "      <th></th>\n",
       "      <th></th>\n",
       "    </tr>\n",
       "  </thead>\n",
       "  <tbody>\n",
       "    <tr>\n",
       "      <th>TM195</th>\n",
       "      <td>28.55</td>\n",
       "      <td>15.04</td>\n",
       "      <td>3.09</td>\n",
       "      <td>2.96</td>\n",
       "      <td>46418.02</td>\n",
       "      <td>82.79</td>\n",
       "    </tr>\n",
       "    <tr>\n",
       "      <th>TM498</th>\n",
       "      <td>28.90</td>\n",
       "      <td>15.12</td>\n",
       "      <td>3.07</td>\n",
       "      <td>2.90</td>\n",
       "      <td>48973.65</td>\n",
       "      <td>87.93</td>\n",
       "    </tr>\n",
       "    <tr>\n",
       "      <th>TM798</th>\n",
       "      <td>29.10</td>\n",
       "      <td>17.32</td>\n",
       "      <td>4.78</td>\n",
       "      <td>4.62</td>\n",
       "      <td>75441.58</td>\n",
       "      <td>166.90</td>\n",
       "    </tr>\n",
       "  </tbody>\n",
       "</table>\n",
       "</div>"
      ],
      "text/plain": [
       "           Age  Education  Usage  Fitness    Income   Miles\n",
       "Product                                                    \n",
       "TM195    28.55      15.04   3.09     2.96  46418.02   82.79\n",
       "TM498    28.90      15.12   3.07     2.90  48973.65   87.93\n",
       "TM798    29.10      17.32   4.78     4.62  75441.58  166.90"
      ]
     },
     "execution_count": 468,
     "metadata": {},
     "output_type": "execute_result"
    }
   ],
   "source": [
    "# Multivariate Table\n",
    "# GROUPBY: \"What column do I want to group by?\" \"On what column is the data being retrieved (and subsequently aggregated)?\"\n",
    "# OBSERVATION: TM798 has the highest averages accross all attribute features\n",
    "# OBSERVATION: TM798 (166.90 Miles/week) / (4.78 Uses/week) = (34.92 miles/use) -- 35 miles of exercise per day on a treadmill!\n",
    "\n",
    "round(grouped_treadmills.mean(),2)"
   ]
  },
  {
   "cell_type": "markdown",
   "metadata": {},
   "source": [
    "****"
   ]
  },
  {
   "cell_type": "markdown",
   "metadata": {},
   "source": [
    "<font color=darkblue>\n",
    "\n",
    "### 41. Return a table grouped by model and gender that shows the total number of customers for each product\n",
    "#### 41a. OBSERVATION: product & gender -- this groupby is similar to the bivariate crosstab for product & gender"
   ]
  },
  {
   "cell_type": "code",
   "execution_count": 361,
   "metadata": {},
   "outputs": [
    {
     "data": {
      "text/html": [
       "<div>\n",
       "<style scoped>\n",
       "    .dataframe tbody tr th:only-of-type {\n",
       "        vertical-align: middle;\n",
       "    }\n",
       "\n",
       "    .dataframe tbody tr th {\n",
       "        vertical-align: top;\n",
       "    }\n",
       "\n",
       "    .dataframe thead th {\n",
       "        text-align: right;\n",
       "    }\n",
       "</style>\n",
       "<table border=\"1\" class=\"dataframe\">\n",
       "  <thead>\n",
       "    <tr style=\"text-align: right;\">\n",
       "      <th></th>\n",
       "      <th>Product</th>\n",
       "      <th>Gender</th>\n",
       "      <th>Count</th>\n",
       "    </tr>\n",
       "  </thead>\n",
       "  <tbody>\n",
       "    <tr>\n",
       "      <th>0</th>\n",
       "      <td>TM195</td>\n",
       "      <td>Female</td>\n",
       "      <td>40</td>\n",
       "    </tr>\n",
       "    <tr>\n",
       "      <th>1</th>\n",
       "      <td>TM195</td>\n",
       "      <td>Male</td>\n",
       "      <td>40</td>\n",
       "    </tr>\n",
       "    <tr>\n",
       "      <th>2</th>\n",
       "      <td>TM498</td>\n",
       "      <td>Female</td>\n",
       "      <td>29</td>\n",
       "    </tr>\n",
       "    <tr>\n",
       "      <th>3</th>\n",
       "      <td>TM498</td>\n",
       "      <td>Male</td>\n",
       "      <td>31</td>\n",
       "    </tr>\n",
       "    <tr>\n",
       "      <th>4</th>\n",
       "      <td>TM798</td>\n",
       "      <td>Female</td>\n",
       "      <td>7</td>\n",
       "    </tr>\n",
       "    <tr>\n",
       "      <th>5</th>\n",
       "      <td>TM798</td>\n",
       "      <td>Male</td>\n",
       "      <td>33</td>\n",
       "    </tr>\n",
       "  </tbody>\n",
       "</table>\n",
       "</div>"
      ],
      "text/plain": [
       "  Product  Gender  Count\n",
       "0   TM195  Female     40\n",
       "1   TM195    Male     40\n",
       "2   TM498  Female     29\n",
       "3   TM498    Male     31\n",
       "4   TM798  Female      7\n",
       "5   TM798    Male     33"
      ]
     },
     "execution_count": 361,
     "metadata": {},
     "output_type": "execute_result"
    }
   ],
   "source": [
    "# Groupby Function\n",
    "\n",
    "df.groupby(['Product', 'Gender'])['Product'].count().reset_index(name='Count')"
   ]
  },
  {
   "cell_type": "markdown",
   "metadata": {},
   "source": [
    "****"
   ]
  },
  {
   "cell_type": "markdown",
   "metadata": {},
   "source": [
    "<font color=darkblue>\n",
    "\n",
    "### 42. Return a table that shows the aggregated mean of customers' age by gender and for each product\n",
    "#### 42a. OBSERVATION: product vs. gender vs. mean age -- comparing this groupby table with the describe() function, it becomes appearent that the overall mean age for the 180 customers (28.79) is fairly similar to all of the mean ages that are parceled out in this table. It might not be fair to assume that TM798 is only meant for \"older\" customers."
   ]
  },
  {
   "cell_type": "code",
   "execution_count": 362,
   "metadata": {},
   "outputs": [
    {
     "data": {
      "text/html": [
       "<div>\n",
       "<style scoped>\n",
       "    .dataframe tbody tr th:only-of-type {\n",
       "        vertical-align: middle;\n",
       "    }\n",
       "\n",
       "    .dataframe tbody tr th {\n",
       "        vertical-align: top;\n",
       "    }\n",
       "\n",
       "    .dataframe thead th {\n",
       "        text-align: right;\n",
       "    }\n",
       "</style>\n",
       "<table border=\"1\" class=\"dataframe\">\n",
       "  <thead>\n",
       "    <tr style=\"text-align: right;\">\n",
       "      <th></th>\n",
       "      <th>Product</th>\n",
       "      <th>Gender</th>\n",
       "      <th>Mean Age</th>\n",
       "    </tr>\n",
       "  </thead>\n",
       "  <tbody>\n",
       "    <tr>\n",
       "      <th>0</th>\n",
       "      <td>TM195</td>\n",
       "      <td>Female</td>\n",
       "      <td>28.45</td>\n",
       "    </tr>\n",
       "    <tr>\n",
       "      <th>1</th>\n",
       "      <td>TM195</td>\n",
       "      <td>Male</td>\n",
       "      <td>28.65</td>\n",
       "    </tr>\n",
       "    <tr>\n",
       "      <th>2</th>\n",
       "      <td>TM498</td>\n",
       "      <td>Female</td>\n",
       "      <td>29.10</td>\n",
       "    </tr>\n",
       "    <tr>\n",
       "      <th>3</th>\n",
       "      <td>TM498</td>\n",
       "      <td>Male</td>\n",
       "      <td>28.71</td>\n",
       "    </tr>\n",
       "    <tr>\n",
       "      <th>4</th>\n",
       "      <td>TM798</td>\n",
       "      <td>Female</td>\n",
       "      <td>27.00</td>\n",
       "    </tr>\n",
       "    <tr>\n",
       "      <th>5</th>\n",
       "      <td>TM798</td>\n",
       "      <td>Male</td>\n",
       "      <td>29.55</td>\n",
       "    </tr>\n",
       "  </tbody>\n",
       "</table>\n",
       "</div>"
      ],
      "text/plain": [
       "  Product  Gender  Mean Age\n",
       "0   TM195  Female     28.45\n",
       "1   TM195    Male     28.65\n",
       "2   TM498  Female     29.10\n",
       "3   TM498    Male     28.71\n",
       "4   TM798  Female     27.00\n",
       "5   TM798    Male     29.55"
      ]
     },
     "execution_count": 362,
     "metadata": {},
     "output_type": "execute_result"
    }
   ],
   "source": [
    "# Groupby Function\n",
    "\n",
    "df.groupby(['Product', 'Gender'])['Age'].mean().reset_index(name='Mean Age').round(2)"
   ]
  },
  {
   "cell_type": "markdown",
   "metadata": {},
   "source": [
    "****"
   ]
  },
  {
   "cell_type": "markdown",
   "metadata": {},
   "source": [
    "<font color=darkblue>\n",
    "\n",
    "### 43. Return a table that shows the aggregated mean of customers' income for each product\n",
    "#### 43a. OBSERVATION: product & gender -- this groupby indicates that, for each treadmill model, income averages do dot vary much between males and females; in fact, for TM498 the female average income is more than the male average income"
   ]
  },
  {
   "cell_type": "code",
   "execution_count": 363,
   "metadata": {},
   "outputs": [
    {
     "data": {
      "text/html": [
       "<div>\n",
       "<style scoped>\n",
       "    .dataframe tbody tr th:only-of-type {\n",
       "        vertical-align: middle;\n",
       "    }\n",
       "\n",
       "    .dataframe tbody tr th {\n",
       "        vertical-align: top;\n",
       "    }\n",
       "\n",
       "    .dataframe thead th {\n",
       "        text-align: right;\n",
       "    }\n",
       "</style>\n",
       "<table border=\"1\" class=\"dataframe\">\n",
       "  <thead>\n",
       "    <tr style=\"text-align: right;\">\n",
       "      <th></th>\n",
       "      <th>Product</th>\n",
       "      <th>Gender</th>\n",
       "      <th>Mean Income</th>\n",
       "    </tr>\n",
       "  </thead>\n",
       "  <tbody>\n",
       "    <tr>\n",
       "      <th>0</th>\n",
       "      <td>TM195</td>\n",
       "      <td>Female</td>\n",
       "      <td>46020.08</td>\n",
       "    </tr>\n",
       "    <tr>\n",
       "      <th>1</th>\n",
       "      <td>TM195</td>\n",
       "      <td>Male</td>\n",
       "      <td>46815.98</td>\n",
       "    </tr>\n",
       "    <tr>\n",
       "      <th>2</th>\n",
       "      <td>TM498</td>\n",
       "      <td>Female</td>\n",
       "      <td>49336.45</td>\n",
       "    </tr>\n",
       "    <tr>\n",
       "      <th>3</th>\n",
       "      <td>TM498</td>\n",
       "      <td>Male</td>\n",
       "      <td>48634.26</td>\n",
       "    </tr>\n",
       "    <tr>\n",
       "      <th>4</th>\n",
       "      <td>TM798</td>\n",
       "      <td>Female</td>\n",
       "      <td>73633.86</td>\n",
       "    </tr>\n",
       "    <tr>\n",
       "      <th>5</th>\n",
       "      <td>TM798</td>\n",
       "      <td>Male</td>\n",
       "      <td>75825.03</td>\n",
       "    </tr>\n",
       "  </tbody>\n",
       "</table>\n",
       "</div>"
      ],
      "text/plain": [
       "  Product  Gender  Mean Income\n",
       "0   TM195  Female     46020.08\n",
       "1   TM195    Male     46815.98\n",
       "2   TM498  Female     49336.45\n",
       "3   TM498    Male     48634.26\n",
       "4   TM798  Female     73633.86\n",
       "5   TM798    Male     75825.03"
      ]
     },
     "execution_count": 363,
     "metadata": {},
     "output_type": "execute_result"
    }
   ],
   "source": [
    "# Groupby Function\n",
    "\n",
    "df.groupby(['Product', 'Gender'])['Income'].mean().reset_index(name='Mean Income').round(2)"
   ]
  },
  {
   "cell_type": "markdown",
   "metadata": {},
   "source": [
    "****"
   ]
  },
  {
   "cell_type": "markdown",
   "metadata": {},
   "source": [
    "<font color=darkblue>\n",
    "\n",
    "### 44. Return a multivariate category plot that depicts income vs. gender vs. product vs. marital status\n",
    "#### 44a. OBSERVATION: income vs. gender vs. product vs. marital status -- the income level of those customers who own TM798 noticably skews the boxplots upward for that product. However, the TM798 box that represents 50% of the 'single males' who use that treadmill and the TM798 box that represents 50% of the 'single females' who use that treadmill both have overall lower income levels (and median income levels) than the income levels of the 'partnered males' and 'partnered females'.   "
   ]
  },
  {
   "cell_type": "code",
   "execution_count": 364,
   "metadata": {},
   "outputs": [
    {
     "data": {
      "image/png": "[encoded data removed]",
      "text/plain": [
       "<Figure size 1160.12x360 with 3 Axes>"
      ]
     },
     "metadata": {
      "needs_background": "light"
     },
     "output_type": "display_data"
    }
   ],
   "source": [
    "# Multivariate Catplot\n",
    "\n",
    "sns.catplot(x=\"Gender\", y=\"Income\", hue=\"MaritalStatus\",col=\"Product\", data=df, kind=\"box\");"
   ]
  },
  {
   "cell_type": "markdown",
   "metadata": {},
   "source": [
    "****"
   ]
  },
  {
   "cell_type": "markdown",
   "metadata": {},
   "source": [
    "****"
   ]
  },
  {
   "cell_type": "markdown",
   "metadata": {},
   "source": [
    "###  <span style=\"font-family: Arial; font-weight:bold;font-size:1em;color:#0e92ea\"> Creating Bins\n",
    "###  <span style=\"font-family: Arial; font-weight:bold;font-size:1em;color:#0e92ea\"> Continuous Numeric Data\n",
    "    \n",
    "&nbsp;\n",
    "    \n",
    "<font color=darkblue>\n",
    "Binning Data with Pandas qcut() and cut()\n",
    "\n",
    "https://pbpython.com/pandas-qcut-cut.html"
   ]
  },
  {
   "cell_type": "markdown",
   "metadata": {},
   "source": [
    "<font color=darkblue>\n",
    "\n",
    "### 45. Return a univariate histogram plot that depicts income\n",
    "#### 45a. OBSERVATION: income bins -- there are 10 pandas-generated income bins for 180 data objects"
   ]
  },
  {
   "cell_type": "code",
   "execution_count": 436,
   "metadata": {},
   "outputs": [
    {
     "data": {
      "image/png": "[encoded data removed]",
      "text/plain": [
       "<Figure size 1440x720 with 1 Axes>"
      ]
     },
     "metadata": {},
     "output_type": "display_data"
    }
   ],
   "source": [
    "# Raw Data -- Income Bins (matplotlib-sns \"bucketing/discrete binning/discretization/quantization\")\n",
    "# Observation: raw income data yields 10 bins for 180 data objects\n",
    "\n",
    "sns.set_style('whitegrid')\n",
    "plt.figure(figsize=(20,10))\n",
    "\n",
    "df['Income'].plot(kind='hist', title='Income Bins');"
   ]
  },
  {
   "cell_type": "markdown",
   "metadata": {},
   "source": [
    "<font color=darkblue>\n",
    "\n",
    "### 45. Return a univariate histogram plot that depicts median income on a new groupby dataframe\n",
    "#### 45a. OBSERVATION: there are 6 pandas-generated median income bins for 12 data objects\n",
    "#### 45b. OBSERVATION: compare raw-income bin values to median-income bin values -- the 25%, 50%, and 75% values for raw-income binned and median-income binned are different and will be further assessed as I implement the qcut() and cut() functions. \n",
    "    \n",
    "##### Step 1: Compare Q1, Q2, Q3 among raw-income binned data and median-income binned data\n",
    "##### Step 2: Use qcut() to define the number of quantiles (4, 6, and 10) and then pandas figures out how to divide up the data\n",
    "##### Step 3: Create new columns for the newly binnned quantiles (4, 6, and 10)\n",
    "##### Step 4: Display how the values are distributed across the bins for each new bin quantile\n",
    "##### Step 5: Label the bins\n",
    "##### Step 6: Display how the values are distributed across the labeled bins\n",
    "##### Step 7: Create a table to express the income thresholds/ranges for each tiered bin\n",
    "##### Step 8: Describe the grouped dataframe in terms of categorical values\n",
    "##### Step 9: Describe the grouped dataframe using percentiles\n",
    "##### Step 10: Rather than bin ranges or bin labels, return integer rankings\n",
    "##### Step 11: Use cut() to specifically define the bin edges\n",
    "##### Step 12: Display how the values are distributed across the defined bins\n",
    "##### Step 13: Define bin parameters\n",
    "##### Step 14: Use numpy linspace function to compactly create bin ranges\n",
    "##### Step 15: Display how the values are distributed across the evenly spaced bins\n",
    "    \n",
    "&nbsp;\n",
    "<font color=darkblue>\n",
    "Binning Data with Pandas qcut and cut\n",
    "https://pbpython.com/pandas-qcut-cut.html\n",
    "    \n"
   ]
  },
  {
   "cell_type": "code",
   "execution_count": 437,
   "metadata": {},
   "outputs": [
    {
     "data": {
      "image/png": "[encoded data removed]",
      "text/plain": [
       "<Figure size 1080x720 with 1 Axes>"
      ]
     },
     "metadata": {},
     "output_type": "display_data"
    }
   ],
   "source": [
    "# Aggregated Data -- Median Income Bins (matplotlib-sns \"bucketing/discrete binning/discretization/quantization\")\n",
    "# Summarize median income information for treadmill customers grouped by product, gender, and marital status\n",
    "# Observation: aggregating income data (median) yields 6 bins for 12 data objects\n",
    "\n",
    "sns.set_style('whitegrid')\n",
    "plt.figure(figsize=(15,10))\n",
    "\n",
    "# GROUPBY: \"What column(s) do I want to group by?\" \"On what column is the data being retrieved (and subsequently aggregated)?\"\n",
    "grouped = df.groupby(['Product', 'Gender', 'MaritalStatus'])['Income'].median().reset_index()\n",
    "grouped['Income'].plot(kind='hist', title='Median Income Bins');"
   ]
  },
  {
   "cell_type": "markdown",
   "metadata": {},
   "source": [
    "****"
   ]
  },
  {
   "cell_type": "code",
   "execution_count": 438,
   "metadata": {},
   "outputs": [
    {
     "name": "stdout",
     "output_type": "stream",
     "text": [
      "Raw Income Bins: count       180.000000\n",
      "mean      53719.577778\n",
      "std       16506.684226\n",
      "min       29562.000000\n",
      "25%       44058.750000\n",
      "50%       50596.500000\n",
      "75%       58668.000000\n",
      "max      104581.000000\n",
      "Name: Income, dtype: float64\n",
      "\n",
      "Meidan Income Bins: count       12.000000\n",
      "mean     55949.208333\n",
      "std      15442.508175\n",
      "min      43206.000000\n",
      "25%      47043.375000\n",
      "50%      50596.500000\n",
      "75%      55092.250000\n",
      "max      91508.500000\n",
      "Name: Income, dtype: float64\n"
     ]
    }
   ],
   "source": [
    "# Step 1:\n",
    "# Herein, I compare Q1, Q2, Q3 among raw-income binned data and median-income binned data\n",
    "# OBSERVATION: There are 180 raw data objects vs. 12 aggregated data objects\n",
    "# OBSERVATION: As expected, Q2/50% is the same for both the raw value and the aggregated value\n",
    "# OBSERVATION: As expected, the min-median value > min-raw value and the Q1/25%-median value > Q1/25%-raw value\n",
    "# OBSERVATION: As expected, the max-median value < max-raw value and the Q3/75%-median value < Q3/75%-raw value \n",
    "\n",
    "raw_income_bin = df['Income'].describe()\n",
    "median_income_bin = grouped['Income'].describe()\n",
    "\n",
    "print('Raw Income Bins:', raw_income_bin)\n",
    "print(\"\")\n",
    "print('Meidan Income Bins:', median_income_bin)"
   ]
  },
  {
   "cell_type": "markdown",
   "metadata": {},
   "source": [
    "****"
   ]
  },
  {
   "cell_type": "code",
   "execution_count": 439,
   "metadata": {},
   "outputs": [
    {
     "name": "stdout",
     "output_type": "stream",
     "text": [
      "Quartile: 0     (43205.99, 47043.38]\n",
      "1     (43205.99, 47043.38]\n",
      "2      (50596.5, 55092.25]\n",
      "3     (43205.99, 47043.38]\n",
      "4      (47043.38, 50596.5]\n",
      "5      (47043.38, 50596.5]\n",
      "6      (50596.5, 55092.25]\n",
      "7      (47043.38, 50596.5]\n",
      "8      (55092.25, 91508.5]\n",
      "9      (50596.5, 55092.25]\n",
      "10     (55092.25, 91508.5]\n",
      "11     (55092.25, 91508.5]\n",
      "Name: Income, dtype: category\n",
      "Categories (4, interval[float64]): [(43205.99, 47043.38] < (47043.38, 50596.5] < (50596.5, 55092.25] < (55092.25, 91508.5]]\n",
      "\n",
      "Hexile: 0      (46427.5, 47185.5]\n",
      "1     (43205.99, 46427.5]\n",
      "2     (50596.5, 52713.33]\n",
      "3     (43205.99, 46427.5]\n",
      "4      (47185.5, 50596.5]\n",
      "5      (46427.5, 47185.5]\n",
      "6     (50596.5, 52713.33]\n",
      "7      (46427.5, 47185.5]\n",
      "8      (63703.5, 91508.5]\n",
      "9     (52713.33, 63703.5]\n",
      "10     (63703.5, 91508.5]\n",
      "11    (52713.33, 63703.5]\n",
      "Name: Income, dtype: category\n",
      "Categories (6, interval[float64]): [(43205.99, 46427.5] < (46427.5, 47185.5] < (47185.5, 50596.5] < (50596.5, 52713.33] < (52713.33, 63703.5] < (63703.5, 91508.5]]\n",
      "\n",
      "Decile: 0      (45593.7, 46730.7]\n",
      "1     (43205.99, 45593.7]\n",
      "2      (50596.5, 51847.2]\n",
      "3     (43205.99, 45593.7]\n",
      "4      (48322.5, 50596.5]\n",
      "5      (46730.7, 47185.5]\n",
      "6      (51847.2, 53165.8]\n",
      "7      (46730.7, 47185.5]\n",
      "8      (81050.5, 91508.5]\n",
      "9      (53165.8, 58516.0]\n",
      "10     (81050.5, 91508.5]\n",
      "11     (58516.0, 81050.5]\n",
      "Name: Income, dtype: category\n",
      "Categories (10, interval[float64]): [(43205.99, 45593.7] < (45593.7, 46730.7] < (46730.7, 47185.5] < (47185.5, 48322.5] ... (51847.2, 53165.8] < (53165.8, 58516.0] < (58516.0, 81050.5] < (81050.5, 91508.5]]\n",
      "\n"
     ]
    }
   ],
   "source": [
    "# Step 2:\n",
    "# Use qcut() to define quantile-based discretionization bins based on the distribution of the data\n",
    "# Herein , I define the number of quantiles (4, 6, and 10) and then pandas figures out how to divide up the data\n",
    "# OBSERVATION: For each new bin structure, the minimum median income is 43,205.99 and the maximum median income is 91,508.50\n",
    "# OBSERVATION: However, the intervals for median income vary for each of the remainder of the quantile-based bin structures\n",
    "# OBSERVATION: No matter the number of quantiles (4, 6, 10), the number of data objects remains at 12\n",
    "# OBSERVATION: Note the \"Categories\" at the end of each quantile.\n",
    "\n",
    "quartile = pd.qcut(grouped['Income'], q=4, precision=2)\n",
    "hexile = pd.qcut(grouped['Income'], q=6, precision=2)\n",
    "decile = pd.qcut(grouped['Income'], q=10, precision=2)\n",
    "\n",
    "print('Quartile:', quartile)\n",
    "print('')\n",
    "print('Hexile:', hexile)\n",
    "print('')\n",
    "print('Decile:', decile)\n",
    "print('')"
   ]
  },
  {
   "cell_type": "markdown",
   "metadata": {},
   "source": [
    "****"
   ]
  },
  {
   "cell_type": "code",
   "execution_count": 440,
   "metadata": {},
   "outputs": [
    {
     "data": {
      "text/html": [
       "<div>\n",
       "<style scoped>\n",
       "    .dataframe tbody tr th:only-of-type {\n",
       "        vertical-align: middle;\n",
       "    }\n",
       "\n",
       "    .dataframe tbody tr th {\n",
       "        vertical-align: top;\n",
       "    }\n",
       "\n",
       "    .dataframe thead th {\n",
       "        text-align: right;\n",
       "    }\n",
       "</style>\n",
       "<table border=\"1\" class=\"dataframe\">\n",
       "  <thead>\n",
       "    <tr style=\"text-align: right;\">\n",
       "      <th></th>\n",
       "      <th>Product</th>\n",
       "      <th>Gender</th>\n",
       "      <th>MaritalStatus</th>\n",
       "      <th>Income</th>\n",
       "      <th>Four_Bin_Income</th>\n",
       "      <th>Six_Bin_Income</th>\n",
       "      <th>Ten_Bin_Income</th>\n",
       "    </tr>\n",
       "  </thead>\n",
       "  <tbody>\n",
       "    <tr>\n",
       "      <th>0</th>\n",
       "      <td>TM195</td>\n",
       "      <td>Female</td>\n",
       "      <td>Partnered</td>\n",
       "      <td>46617.0</td>\n",
       "      <td>(43205.99, 47043.38]</td>\n",
       "      <td>(46427.5, 47185.5]</td>\n",
       "      <td>(45593.7, 46730.7]</td>\n",
       "    </tr>\n",
       "    <tr>\n",
       "      <th>1</th>\n",
       "      <td>TM195</td>\n",
       "      <td>Female</td>\n",
       "      <td>Single</td>\n",
       "      <td>45480.0</td>\n",
       "      <td>(43205.99, 47043.38]</td>\n",
       "      <td>(43205.99, 46427.5]</td>\n",
       "      <td>(43205.99, 45593.7]</td>\n",
       "    </tr>\n",
       "    <tr>\n",
       "      <th>2</th>\n",
       "      <td>TM195</td>\n",
       "      <td>Male</td>\n",
       "      <td>Partnered</td>\n",
       "      <td>51165.0</td>\n",
       "      <td>(50596.5, 55092.25]</td>\n",
       "      <td>(50596.5, 52713.33]</td>\n",
       "      <td>(50596.5, 51847.2]</td>\n",
       "    </tr>\n",
       "    <tr>\n",
       "      <th>3</th>\n",
       "      <td>TM195</td>\n",
       "      <td>Male</td>\n",
       "      <td>Single</td>\n",
       "      <td>43206.0</td>\n",
       "      <td>(43205.99, 47043.38]</td>\n",
       "      <td>(43205.99, 46427.5]</td>\n",
       "      <td>(43205.99, 45593.7]</td>\n",
       "    </tr>\n",
       "    <tr>\n",
       "      <th>4</th>\n",
       "      <td>TM498</td>\n",
       "      <td>Female</td>\n",
       "      <td>Partnered</td>\n",
       "      <td>50028.0</td>\n",
       "      <td>(47043.38, 50596.5]</td>\n",
       "      <td>(47185.5, 50596.5]</td>\n",
       "      <td>(48322.5, 50596.5]</td>\n",
       "    </tr>\n",
       "    <tr>\n",
       "      <th>5</th>\n",
       "      <td>TM498</td>\n",
       "      <td>Female</td>\n",
       "      <td>Single</td>\n",
       "      <td>47185.5</td>\n",
       "      <td>(47043.38, 50596.5]</td>\n",
       "      <td>(46427.5, 47185.5]</td>\n",
       "      <td>(46730.7, 47185.5]</td>\n",
       "    </tr>\n",
       "    <tr>\n",
       "      <th>6</th>\n",
       "      <td>TM498</td>\n",
       "      <td>Male</td>\n",
       "      <td>Partnered</td>\n",
       "      <td>52302.0</td>\n",
       "      <td>(50596.5, 55092.25]</td>\n",
       "      <td>(50596.5, 52713.33]</td>\n",
       "      <td>(51847.2, 53165.8]</td>\n",
       "    </tr>\n",
       "    <tr>\n",
       "      <th>7</th>\n",
       "      <td>TM498</td>\n",
       "      <td>Male</td>\n",
       "      <td>Single</td>\n",
       "      <td>47185.5</td>\n",
       "      <td>(47043.38, 50596.5]</td>\n",
       "      <td>(46427.5, 47185.5]</td>\n",
       "      <td>(46730.7, 47185.5]</td>\n",
       "    </tr>\n",
       "    <tr>\n",
       "      <th>8</th>\n",
       "      <td>TM798</td>\n",
       "      <td>Female</td>\n",
       "      <td>Partnered</td>\n",
       "      <td>91508.5</td>\n",
       "      <td>(55092.25, 91508.5]</td>\n",
       "      <td>(63703.5, 91508.5]</td>\n",
       "      <td>(81050.5, 91508.5]</td>\n",
       "    </tr>\n",
       "    <tr>\n",
       "      <th>9</th>\n",
       "      <td>TM798</td>\n",
       "      <td>Female</td>\n",
       "      <td>Single</td>\n",
       "      <td>53536.0</td>\n",
       "      <td>(50596.5, 55092.25]</td>\n",
       "      <td>(52713.33, 63703.5]</td>\n",
       "      <td>(53165.8, 58516.0]</td>\n",
       "    </tr>\n",
       "    <tr>\n",
       "      <th>10</th>\n",
       "      <td>TM798</td>\n",
       "      <td>Male</td>\n",
       "      <td>Partnered</td>\n",
       "      <td>83416.0</td>\n",
       "      <td>(55092.25, 91508.5]</td>\n",
       "      <td>(63703.5, 91508.5]</td>\n",
       "      <td>(81050.5, 91508.5]</td>\n",
       "    </tr>\n",
       "    <tr>\n",
       "      <th>11</th>\n",
       "      <td>TM798</td>\n",
       "      <td>Male</td>\n",
       "      <td>Single</td>\n",
       "      <td>59761.0</td>\n",
       "      <td>(55092.25, 91508.5]</td>\n",
       "      <td>(52713.33, 63703.5]</td>\n",
       "      <td>(58516.0, 81050.5]</td>\n",
       "    </tr>\n",
       "  </tbody>\n",
       "</table>\n",
       "</div>"
      ],
      "text/plain": [
       "   Product  Gender MaritalStatus   Income       Four_Bin_Income  \\\n",
       "0    TM195  Female     Partnered  46617.0  (43205.99, 47043.38]   \n",
       "1    TM195  Female        Single  45480.0  (43205.99, 47043.38]   \n",
       "2    TM195    Male     Partnered  51165.0   (50596.5, 55092.25]   \n",
       "3    TM195    Male        Single  43206.0  (43205.99, 47043.38]   \n",
       "4    TM498  Female     Partnered  50028.0   (47043.38, 50596.5]   \n",
       "5    TM498  Female        Single  47185.5   (47043.38, 50596.5]   \n",
       "6    TM498    Male     Partnered  52302.0   (50596.5, 55092.25]   \n",
       "7    TM498    Male        Single  47185.5   (47043.38, 50596.5]   \n",
       "8    TM798  Female     Partnered  91508.5   (55092.25, 91508.5]   \n",
       "9    TM798  Female        Single  53536.0   (50596.5, 55092.25]   \n",
       "10   TM798    Male     Partnered  83416.0   (55092.25, 91508.5]   \n",
       "11   TM798    Male        Single  59761.0   (55092.25, 91508.5]   \n",
       "\n",
       "         Six_Bin_Income       Ten_Bin_Income  \n",
       "0    (46427.5, 47185.5]   (45593.7, 46730.7]  \n",
       "1   (43205.99, 46427.5]  (43205.99, 45593.7]  \n",
       "2   (50596.5, 52713.33]   (50596.5, 51847.2]  \n",
       "3   (43205.99, 46427.5]  (43205.99, 45593.7]  \n",
       "4    (47185.5, 50596.5]   (48322.5, 50596.5]  \n",
       "5    (46427.5, 47185.5]   (46730.7, 47185.5]  \n",
       "6   (50596.5, 52713.33]   (51847.2, 53165.8]  \n",
       "7    (46427.5, 47185.5]   (46730.7, 47185.5]  \n",
       "8    (63703.5, 91508.5]   (81050.5, 91508.5]  \n",
       "9   (52713.33, 63703.5]   (53165.8, 58516.0]  \n",
       "10   (63703.5, 91508.5]   (81050.5, 91508.5]  \n",
       "11  (52713.33, 63703.5]   (58516.0, 81050.5]  "
      ]
     },
     "execution_count": 440,
     "metadata": {},
     "output_type": "execute_result"
    }
   ],
   "source": [
    "# Step 3:\n",
    "# Herein, I create new columns for the newly binnned income quantiles (4, 6, and 10)\n",
    "# OBSERVATION: Interval notation: open/closed bracket means \"included\" while open/closed paraenthesis means \"excluded\"\n",
    "\n",
    "grouped['Four_Bin_Income'] = pd.qcut(grouped['Income'], q=4, precision=2)\n",
    "grouped['Six_Bin_Income'] = pd.qcut(grouped['Income'], q=6, precision=2)\n",
    "grouped['Ten_Bin_Income'] = pd.qcut(grouped['Income'], q=10, precision=2)\n",
    "#grouped.rename(columns={'Income': 'Median Income'}, inplace=True)\n",
    "grouped"
   ]
  },
  {
   "cell_type": "markdown",
   "metadata": {},
   "source": [
    "****"
   ]
  },
  {
   "cell_type": "code",
   "execution_count": 441,
   "metadata": {
    "scrolled": false
   },
   "outputs": [
    {
     "name": "stdout",
     "output_type": "stream",
     "text": [
      "(55092.25, 91508.5]     3\n",
      "(50596.5, 55092.25]     3\n",
      "(47043.38, 50596.5]     3\n",
      "(43205.99, 47043.38]    3\n",
      "Name: Four_Bin_Income, dtype: int64\n",
      "\n",
      "(46427.5, 47185.5]     3\n",
      "(63703.5, 91508.5]     2\n",
      "(52713.33, 63703.5]    2\n",
      "(50596.5, 52713.33]    2\n",
      "(43205.99, 46427.5]    2\n",
      "(47185.5, 50596.5]     1\n",
      "Name: Six_Bin_Income, dtype: int64\n",
      "\n",
      "(81050.5, 91508.5]     2\n",
      "(46730.7, 47185.5]     2\n",
      "(43205.99, 45593.7]    2\n",
      "(58516.0, 81050.5]     1\n",
      "(53165.8, 58516.0]     1\n",
      "(51847.2, 53165.8]     1\n",
      "(50596.5, 51847.2]     1\n",
      "(48322.5, 50596.5]     1\n",
      "(45593.7, 46730.7]     1\n",
      "(47185.5, 48322.5]     0\n",
      "Name: Ten_Bin_Income, dtype: int64\n",
      "\n"
     ]
    }
   ],
   "source": [
    "# Step 4:\n",
    "# Display how the values are distributed across the bins for each new bin quantile\n",
    "# OBSERVATION: 4_bins -- pandas distributes the 12 median values evenly, three (3) per bin\n",
    "# OBSERVATION: 6_bins -- pandas tries to distribute the 12 median values evenly\n",
    "# OBSERVATION: 10_bins -- pandas tries to distribute the 12 median values evenly\n",
    "\n",
    "print(grouped['Four_Bin_Income'].value_counts())\n",
    "print('')\n",
    "print(grouped['Six_Bin_Income'].value_counts())\n",
    "print('')\n",
    "print(grouped['Ten_Bin_Income'].value_counts())\n",
    "print('')"
   ]
  },
  {
   "cell_type": "markdown",
   "metadata": {},
   "source": [
    "****"
   ]
  },
  {
   "cell_type": "code",
   "execution_count": 442,
   "metadata": {},
   "outputs": [
    {
     "data": {
      "text/html": [
       "<div>\n",
       "<style scoped>\n",
       "    .dataframe tbody tr th:only-of-type {\n",
       "        vertical-align: middle;\n",
       "    }\n",
       "\n",
       "    .dataframe tbody tr th {\n",
       "        vertical-align: top;\n",
       "    }\n",
       "\n",
       "    .dataframe thead th {\n",
       "        text-align: right;\n",
       "    }\n",
       "</style>\n",
       "<table border=\"1\" class=\"dataframe\">\n",
       "  <thead>\n",
       "    <tr style=\"text-align: right;\">\n",
       "      <th></th>\n",
       "      <th>Product</th>\n",
       "      <th>Gender</th>\n",
       "      <th>MaritalStatus</th>\n",
       "      <th>Income</th>\n",
       "      <th>Four_Bin_Income</th>\n",
       "      <th>Six_Bin_Income</th>\n",
       "      <th>Ten_Bin_Income</th>\n",
       "      <th>Quartiles</th>\n",
       "      <th>Hexiles</th>\n",
       "      <th>Deciles</th>\n",
       "    </tr>\n",
       "  </thead>\n",
       "  <tbody>\n",
       "    <tr>\n",
       "      <th>0</th>\n",
       "      <td>TM195</td>\n",
       "      <td>Female</td>\n",
       "      <td>Partnered</td>\n",
       "      <td>46617.0</td>\n",
       "      <td>(43205.99, 47043.38]</td>\n",
       "      <td>(46427.5, 47185.5]</td>\n",
       "      <td>(45593.7, 46730.7]</td>\n",
       "      <td>Low Income</td>\n",
       "      <td>46.5K - 47.0K</td>\n",
       "      <td>second</td>\n",
       "    </tr>\n",
       "    <tr>\n",
       "      <th>1</th>\n",
       "      <td>TM195</td>\n",
       "      <td>Female</td>\n",
       "      <td>Single</td>\n",
       "      <td>45480.0</td>\n",
       "      <td>(43205.99, 47043.38]</td>\n",
       "      <td>(43205.99, 46427.5]</td>\n",
       "      <td>(43205.99, 45593.7]</td>\n",
       "      <td>Low Income</td>\n",
       "      <td>43.0K - 46.5K</td>\n",
       "      <td>first</td>\n",
       "    </tr>\n",
       "    <tr>\n",
       "      <th>2</th>\n",
       "      <td>TM195</td>\n",
       "      <td>Male</td>\n",
       "      <td>Partnered</td>\n",
       "      <td>51165.0</td>\n",
       "      <td>(50596.5, 55092.25]</td>\n",
       "      <td>(50596.5, 52713.33]</td>\n",
       "      <td>(50596.5, 51847.2]</td>\n",
       "      <td>Good Income</td>\n",
       "      <td>50.5K - 52.7K</td>\n",
       "      <td>sixth</td>\n",
       "    </tr>\n",
       "    <tr>\n",
       "      <th>3</th>\n",
       "      <td>TM195</td>\n",
       "      <td>Male</td>\n",
       "      <td>Single</td>\n",
       "      <td>43206.0</td>\n",
       "      <td>(43205.99, 47043.38]</td>\n",
       "      <td>(43205.99, 46427.5]</td>\n",
       "      <td>(43205.99, 45593.7]</td>\n",
       "      <td>Low Income</td>\n",
       "      <td>43.0K - 46.5K</td>\n",
       "      <td>first</td>\n",
       "    </tr>\n",
       "    <tr>\n",
       "      <th>4</th>\n",
       "      <td>TM498</td>\n",
       "      <td>Female</td>\n",
       "      <td>Partnered</td>\n",
       "      <td>50028.0</td>\n",
       "      <td>(47043.38, 50596.5]</td>\n",
       "      <td>(47185.5, 50596.5]</td>\n",
       "      <td>(48322.5, 50596.5]</td>\n",
       "      <td>Medium Income</td>\n",
       "      <td>47.0K - 50.5K</td>\n",
       "      <td>fifth</td>\n",
       "    </tr>\n",
       "    <tr>\n",
       "      <th>5</th>\n",
       "      <td>TM498</td>\n",
       "      <td>Female</td>\n",
       "      <td>Single</td>\n",
       "      <td>47185.5</td>\n",
       "      <td>(47043.38, 50596.5]</td>\n",
       "      <td>(46427.5, 47185.5]</td>\n",
       "      <td>(46730.7, 47185.5]</td>\n",
       "      <td>Medium Income</td>\n",
       "      <td>46.5K - 47.0K</td>\n",
       "      <td>third</td>\n",
       "    </tr>\n",
       "    <tr>\n",
       "      <th>6</th>\n",
       "      <td>TM498</td>\n",
       "      <td>Male</td>\n",
       "      <td>Partnered</td>\n",
       "      <td>52302.0</td>\n",
       "      <td>(50596.5, 55092.25]</td>\n",
       "      <td>(50596.5, 52713.33]</td>\n",
       "      <td>(51847.2, 53165.8]</td>\n",
       "      <td>Good Income</td>\n",
       "      <td>50.5K - 52.7K</td>\n",
       "      <td>seventh</td>\n",
       "    </tr>\n",
       "    <tr>\n",
       "      <th>7</th>\n",
       "      <td>TM498</td>\n",
       "      <td>Male</td>\n",
       "      <td>Single</td>\n",
       "      <td>47185.5</td>\n",
       "      <td>(47043.38, 50596.5]</td>\n",
       "      <td>(46427.5, 47185.5]</td>\n",
       "      <td>(46730.7, 47185.5]</td>\n",
       "      <td>Medium Income</td>\n",
       "      <td>46.5K - 47.0K</td>\n",
       "      <td>third</td>\n",
       "    </tr>\n",
       "    <tr>\n",
       "      <th>8</th>\n",
       "      <td>TM798</td>\n",
       "      <td>Female</td>\n",
       "      <td>Partnered</td>\n",
       "      <td>91508.5</td>\n",
       "      <td>(55092.25, 91508.5]</td>\n",
       "      <td>(63703.5, 91508.5]</td>\n",
       "      <td>(81050.5, 91508.5]</td>\n",
       "      <td>Excellent Income</td>\n",
       "      <td>63.7K - 91.5K</td>\n",
       "      <td>tenth</td>\n",
       "    </tr>\n",
       "    <tr>\n",
       "      <th>9</th>\n",
       "      <td>TM798</td>\n",
       "      <td>Female</td>\n",
       "      <td>Single</td>\n",
       "      <td>53536.0</td>\n",
       "      <td>(50596.5, 55092.25]</td>\n",
       "      <td>(52713.33, 63703.5]</td>\n",
       "      <td>(53165.8, 58516.0]</td>\n",
       "      <td>Good Income</td>\n",
       "      <td>52.7K - 63.7K</td>\n",
       "      <td>eighth</td>\n",
       "    </tr>\n",
       "    <tr>\n",
       "      <th>10</th>\n",
       "      <td>TM798</td>\n",
       "      <td>Male</td>\n",
       "      <td>Partnered</td>\n",
       "      <td>83416.0</td>\n",
       "      <td>(55092.25, 91508.5]</td>\n",
       "      <td>(63703.5, 91508.5]</td>\n",
       "      <td>(81050.5, 91508.5]</td>\n",
       "      <td>Excellent Income</td>\n",
       "      <td>63.7K - 91.5K</td>\n",
       "      <td>tenth</td>\n",
       "    </tr>\n",
       "    <tr>\n",
       "      <th>11</th>\n",
       "      <td>TM798</td>\n",
       "      <td>Male</td>\n",
       "      <td>Single</td>\n",
       "      <td>59761.0</td>\n",
       "      <td>(55092.25, 91508.5]</td>\n",
       "      <td>(52713.33, 63703.5]</td>\n",
       "      <td>(58516.0, 81050.5]</td>\n",
       "      <td>Excellent Income</td>\n",
       "      <td>52.7K - 63.7K</td>\n",
       "      <td>ninth</td>\n",
       "    </tr>\n",
       "  </tbody>\n",
       "</table>\n",
       "</div>"
      ],
      "text/plain": [
       "   Product  Gender MaritalStatus   Income       Four_Bin_Income  \\\n",
       "0    TM195  Female     Partnered  46617.0  (43205.99, 47043.38]   \n",
       "1    TM195  Female        Single  45480.0  (43205.99, 47043.38]   \n",
       "2    TM195    Male     Partnered  51165.0   (50596.5, 55092.25]   \n",
       "3    TM195    Male        Single  43206.0  (43205.99, 47043.38]   \n",
       "4    TM498  Female     Partnered  50028.0   (47043.38, 50596.5]   \n",
       "5    TM498  Female        Single  47185.5   (47043.38, 50596.5]   \n",
       "6    TM498    Male     Partnered  52302.0   (50596.5, 55092.25]   \n",
       "7    TM498    Male        Single  47185.5   (47043.38, 50596.5]   \n",
       "8    TM798  Female     Partnered  91508.5   (55092.25, 91508.5]   \n",
       "9    TM798  Female        Single  53536.0   (50596.5, 55092.25]   \n",
       "10   TM798    Male     Partnered  83416.0   (55092.25, 91508.5]   \n",
       "11   TM798    Male        Single  59761.0   (55092.25, 91508.5]   \n",
       "\n",
       "         Six_Bin_Income       Ten_Bin_Income         Quartiles        Hexiles  \\\n",
       "0    (46427.5, 47185.5]   (45593.7, 46730.7]        Low Income  46.5K - 47.0K   \n",
       "1   (43205.99, 46427.5]  (43205.99, 45593.7]        Low Income  43.0K - 46.5K   \n",
       "2   (50596.5, 52713.33]   (50596.5, 51847.2]       Good Income  50.5K - 52.7K   \n",
       "3   (43205.99, 46427.5]  (43205.99, 45593.7]        Low Income  43.0K - 46.5K   \n",
       "4    (47185.5, 50596.5]   (48322.5, 50596.5]     Medium Income  47.0K - 50.5K   \n",
       "5    (46427.5, 47185.5]   (46730.7, 47185.5]     Medium Income  46.5K - 47.0K   \n",
       "6   (50596.5, 52713.33]   (51847.2, 53165.8]       Good Income  50.5K - 52.7K   \n",
       "7    (46427.5, 47185.5]   (46730.7, 47185.5]     Medium Income  46.5K - 47.0K   \n",
       "8    (63703.5, 91508.5]   (81050.5, 91508.5]  Excellent Income  63.7K - 91.5K   \n",
       "9   (52713.33, 63703.5]   (53165.8, 58516.0]       Good Income  52.7K - 63.7K   \n",
       "10   (63703.5, 91508.5]   (81050.5, 91508.5]  Excellent Income  63.7K - 91.5K   \n",
       "11  (52713.33, 63703.5]   (58516.0, 81050.5]  Excellent Income  52.7K - 63.7K   \n",
       "\n",
       "    Deciles  \n",
       "0    second  \n",
       "1     first  \n",
       "2     sixth  \n",
       "3     first  \n",
       "4     fifth  \n",
       "5     third  \n",
       "6   seventh  \n",
       "7     third  \n",
       "8     tenth  \n",
       "9    eighth  \n",
       "10    tenth  \n",
       "11    ninth  "
      ]
     },
     "execution_count": 442,
     "metadata": {},
     "output_type": "execute_result"
    }
   ],
   "source": [
    "# Step 5:\n",
    "# Label the bins\n",
    "# OBSERVATION: This is a subjective process and nomenclature decisions are not readily apparent\n",
    "# OBSERVATION: Partnered Females and Partnered Males earn the highest incomes and tend to buy TM798\n",
    "\n",
    "quartile_bin_labels = ['Low Income', 'Medium Income', 'Good Income', 'Excellent Income']\n",
    "hexile_bin_labels = ['43.0K - 46.5K', '46.5K - 47.0K', '47.0K - 50.5K', '50.5K - 52.7K', '52.7K - 63.7K', '63.7K - 91.5K']\n",
    "decile_bin_labels = ['first', 'second', 'third', 'fourth', 'fifth', 'sixth', 'seventh', 'eighth', 'ninth', 'tenth']\n",
    "\n",
    "grouped['Quartiles'] = pd.qcut(grouped['Income'], q=4, precision=2, labels=quartile_bin_labels)\n",
    "grouped['Hexiles'] = pd.qcut(grouped['Income'], q=6, precision=2, labels=hexile_bin_labels)\n",
    "grouped['Deciles'] = pd.qcut(grouped['Income'], q=10, precision=2, labels= decile_bin_labels)\n",
    "#grouped.rename(columns={'Income': 'Median_Income'}, inplace=True)\n",
    "grouped"
   ]
  },
  {
   "cell_type": "markdown",
   "metadata": {},
   "source": [
    "****"
   ]
  },
  {
   "cell_type": "code",
   "execution_count": 443,
   "metadata": {},
   "outputs": [
    {
     "name": "stdout",
     "output_type": "stream",
     "text": [
      "Excellent Income    3\n",
      "Good Income         3\n",
      "Medium Income       3\n",
      "Low Income          3\n",
      "Name: Quartiles, dtype: int64\n",
      "\n",
      "46.5K - 47.0K    3\n",
      "63.7K - 91.5K    2\n",
      "52.7K - 63.7K    2\n",
      "50.5K - 52.7K    2\n",
      "43.0K - 46.5K    2\n",
      "47.0K - 50.5K    1\n",
      "Name: Hexiles, dtype: int64\n",
      "\n",
      "tenth      2\n",
      "third      2\n",
      "first      2\n",
      "ninth      1\n",
      "eighth     1\n",
      "seventh    1\n",
      "sixth      1\n",
      "fifth      1\n",
      "second     1\n",
      "fourth     0\n",
      "Name: Deciles, dtype: int64\n",
      "\n"
     ]
    }
   ],
   "source": [
    "# Step 6:\n",
    "# Display how the values are distributed across the labeled bins\n",
    "# OBSERVATION: Quartiles -- pandas distributes the 12 median values evenly, three (3) per bin\n",
    "# OBSERVATION: Hexiles -- pandas tries to distribute the 12 median values evenly\n",
    "# OBSERVATION: Deciles -- pandas tries to distribute the 12 median values evenly\n",
    "\n",
    "print(grouped['Quartiles'].value_counts())\n",
    "print('')\n",
    "print(grouped['Hexiles'].value_counts())\n",
    "print('')\n",
    "print(grouped['Deciles'].value_counts())\n",
    "print('')"
   ]
  },
  {
   "cell_type": "markdown",
   "metadata": {},
   "source": [
    "****"
   ]
  },
  {
   "cell_type": "code",
   "execution_count": 444,
   "metadata": {},
   "outputs": [
    {
     "name": "stdout",
     "output_type": "stream",
     "text": [
      "   Income Threshold              Tier\n",
      "0         43206.000        Low Income\n",
      "1         47043.375     Medium Income\n",
      "2         50596.500       Good Income\n",
      "3         55092.250  Excellent Income\n",
      "\n",
      "   Income Threshold           Tier\n",
      "0      43206.000000  43.0K - 46.5K\n",
      "1      46427.500000  46.5K - 47.0K\n",
      "2      47185.500000  47.0K - 50.5K\n",
      "3      50596.500000  50.5K - 52.7K\n",
      "4      52713.333333  52.7K - 63.7K\n",
      "5      63703.500000  63.7K - 91.5K\n",
      "\n",
      "   Income Threshold     Tier\n",
      "0           43206.0    first\n",
      "1           45593.7   second\n",
      "2           46730.7    third\n",
      "3           47185.5   fourth\n",
      "4           48322.5    fifth\n",
      "5           50596.5    sixth\n",
      "6           51847.2  seventh\n",
      "7           53165.8   eighth\n",
      "8           58516.0    ninth\n",
      "9           81050.5    tenth\n",
      "\n"
     ]
    }
   ],
   "source": [
    "# Step 7:\n",
    "# Create a table to express the income thresholds/ranges for each tiered bin\n",
    "# OBSERVATION: I'm learning how to expand the number of bins so that I can eventually narrow down my ultimate bin selection \n",
    "\n",
    "results_4, bin_edges_4 = pd.qcut(grouped['Income'], q=4, precision=2, labels=quartile_bin_labels, retbins=True)\n",
    "results_6, bin_edges_6 = pd.qcut(grouped['Income'], q=6, precision=2, labels=hexile_bin_labels, retbins=True)\n",
    "results_10, bin_edges_10 = pd.qcut(grouped['Income'], q=10, precision=2, labels= decile_bin_labels, retbins=True)\n",
    "\n",
    "results_table_4 = pd.DataFrame(zip(bin_edges_4, quartile_bin_labels),\n",
    "                            columns=['Income Threshold', 'Tier'])\n",
    "\n",
    "results_table_6 = pd.DataFrame(zip(bin_edges_6, hexile_bin_labels),\n",
    "                            columns=['Income Threshold', 'Tier'])\n",
    "\n",
    "results_table_10 = pd.DataFrame(zip(bin_edges_10, decile_bin_labels),\n",
    "                            columns=['Income Threshold', 'Tier'])\n",
    "print(results_table_4)\n",
    "print('')\n",
    "print(results_table_6)\n",
    "print('')\n",
    "print(results_table_10)\n",
    "print('')"
   ]
  },
  {
   "cell_type": "markdown",
   "metadata": {},
   "source": [
    "****"
   ]
  },
  {
   "cell_type": "code",
   "execution_count": 445,
   "metadata": {},
   "outputs": [
    {
     "data": {
      "text/html": [
       "<div>\n",
       "<style scoped>\n",
       "    .dataframe tbody tr th:only-of-type {\n",
       "        vertical-align: middle;\n",
       "    }\n",
       "\n",
       "    .dataframe tbody tr th {\n",
       "        vertical-align: top;\n",
       "    }\n",
       "\n",
       "    .dataframe thead th {\n",
       "        text-align: right;\n",
       "    }\n",
       "</style>\n",
       "<table border=\"1\" class=\"dataframe\">\n",
       "  <thead>\n",
       "    <tr style=\"text-align: right;\">\n",
       "      <th></th>\n",
       "      <th>Four_Bin_Income</th>\n",
       "      <th>Six_Bin_Income</th>\n",
       "      <th>Ten_Bin_Income</th>\n",
       "      <th>Quartiles</th>\n",
       "      <th>Hexiles</th>\n",
       "      <th>Deciles</th>\n",
       "    </tr>\n",
       "  </thead>\n",
       "  <tbody>\n",
       "    <tr>\n",
       "      <th>count</th>\n",
       "      <td>12</td>\n",
       "      <td>12</td>\n",
       "      <td>12</td>\n",
       "      <td>12</td>\n",
       "      <td>12</td>\n",
       "      <td>12</td>\n",
       "    </tr>\n",
       "    <tr>\n",
       "      <th>unique</th>\n",
       "      <td>4</td>\n",
       "      <td>6</td>\n",
       "      <td>9</td>\n",
       "      <td>4</td>\n",
       "      <td>6</td>\n",
       "      <td>9</td>\n",
       "    </tr>\n",
       "    <tr>\n",
       "      <th>top</th>\n",
       "      <td>(55092.25, 91508.5]</td>\n",
       "      <td>(46427.5, 47185.5]</td>\n",
       "      <td>(81050.5, 91508.5]</td>\n",
       "      <td>Excellent Income</td>\n",
       "      <td>46.5K - 47.0K</td>\n",
       "      <td>tenth</td>\n",
       "    </tr>\n",
       "    <tr>\n",
       "      <th>freq</th>\n",
       "      <td>3</td>\n",
       "      <td>3</td>\n",
       "      <td>2</td>\n",
       "      <td>3</td>\n",
       "      <td>3</td>\n",
       "      <td>2</td>\n",
       "    </tr>\n",
       "  </tbody>\n",
       "</table>\n",
       "</div>"
      ],
      "text/plain": [
       "            Four_Bin_Income      Six_Bin_Income      Ten_Bin_Income  \\\n",
       "count                    12                  12                  12   \n",
       "unique                    4                   6                   9   \n",
       "top     (55092.25, 91508.5]  (46427.5, 47185.5]  (81050.5, 91508.5]   \n",
       "freq                      3                   3                   2   \n",
       "\n",
       "               Quartiles        Hexiles Deciles  \n",
       "count                 12             12      12  \n",
       "unique                 4              6       9  \n",
       "top     Excellent Income  46.5K - 47.0K   tenth  \n",
       "freq                   3              3       2  "
      ]
     },
     "execution_count": 445,
     "metadata": {},
     "output_type": "execute_result"
    }
   ],
   "source": [
    "# Step 8:\n",
    "# Describe the grouped dataframe in terms of categorical values\n",
    "# OBSERVATION: a bin remains empty for the Ten_Bin / Deciles median income category\n",
    "\n",
    "grouped.describe(include='category')"
   ]
  },
  {
   "cell_type": "markdown",
   "metadata": {},
   "source": [
    "****"
   ]
  },
  {
   "cell_type": "code",
   "execution_count": 446,
   "metadata": {},
   "outputs": [
    {
     "data": {
      "text/html": [
       "<div>\n",
       "<style scoped>\n",
       "    .dataframe tbody tr th:only-of-type {\n",
       "        vertical-align: middle;\n",
       "    }\n",
       "\n",
       "    .dataframe tbody tr th {\n",
       "        vertical-align: top;\n",
       "    }\n",
       "\n",
       "    .dataframe thead th {\n",
       "        text-align: right;\n",
       "    }\n",
       "</style>\n",
       "<table border=\"1\" class=\"dataframe\">\n",
       "  <thead>\n",
       "    <tr style=\"text-align: right;\">\n",
       "      <th></th>\n",
       "      <th>Income</th>\n",
       "    </tr>\n",
       "  </thead>\n",
       "  <tbody>\n",
       "    <tr>\n",
       "      <th>count</th>\n",
       "      <td>12.000000</td>\n",
       "    </tr>\n",
       "    <tr>\n",
       "      <th>mean</th>\n",
       "      <td>55949.208333</td>\n",
       "    </tr>\n",
       "    <tr>\n",
       "      <th>std</th>\n",
       "      <td>15442.508175</td>\n",
       "    </tr>\n",
       "    <tr>\n",
       "      <th>min</th>\n",
       "      <td>43206.000000</td>\n",
       "    </tr>\n",
       "    <tr>\n",
       "      <th>0%</th>\n",
       "      <td>43206.000000</td>\n",
       "    </tr>\n",
       "    <tr>\n",
       "      <th>25%</th>\n",
       "      <td>47043.375000</td>\n",
       "    </tr>\n",
       "    <tr>\n",
       "      <th>33.3%</th>\n",
       "      <td>47185.500000</td>\n",
       "    </tr>\n",
       "    <tr>\n",
       "      <th>50%</th>\n",
       "      <td>50596.500000</td>\n",
       "    </tr>\n",
       "    <tr>\n",
       "      <th>66.7%</th>\n",
       "      <td>52713.333333</td>\n",
       "    </tr>\n",
       "    <tr>\n",
       "      <th>75%</th>\n",
       "      <td>55092.250000</td>\n",
       "    </tr>\n",
       "    <tr>\n",
       "      <th>100%</th>\n",
       "      <td>91508.500000</td>\n",
       "    </tr>\n",
       "    <tr>\n",
       "      <th>max</th>\n",
       "      <td>91508.500000</td>\n",
       "    </tr>\n",
       "  </tbody>\n",
       "</table>\n",
       "</div>"
      ],
      "text/plain": [
       "             Income\n",
       "count     12.000000\n",
       "mean   55949.208333\n",
       "std    15442.508175\n",
       "min    43206.000000\n",
       "0%     43206.000000\n",
       "25%    47043.375000\n",
       "33.3%  47185.500000\n",
       "50%    50596.500000\n",
       "66.7%  52713.333333\n",
       "75%    55092.250000\n",
       "100%   91508.500000\n",
       "max    91508.500000"
      ]
     },
     "execution_count": 446,
     "metadata": {},
     "output_type": "execute_result"
    }
   ],
   "source": [
    "# Step 9:\n",
    "# Describe the grouped dataframe using percentiles\n",
    "# OBSERVATION: 0% = min and 100% = max\n",
    "# OBSERVATION: I need help/tutoring; I'm confused about describing an aggregaed dataframe\n",
    "# OBSERVATION: I need help/tutoring; I'm confused about how renaming a column (as I tried numerous times above) disrupts the execution of subsequent cells\n",
    "\n",
    "#grouped.rename(columns={'Income': 'Median_Income'}, inplace=True)\n",
    "grouped.describe(percentiles=[0,1/4,1/3,2/3,3/4,1])"
   ]
  },
  {
   "cell_type": "markdown",
   "metadata": {},
   "source": [
    "****"
   ]
  },
  {
   "cell_type": "code",
   "execution_count": 447,
   "metadata": {},
   "outputs": [
    {
     "data": {
      "text/html": [
       "<div>\n",
       "<style scoped>\n",
       "    .dataframe tbody tr th:only-of-type {\n",
       "        vertical-align: middle;\n",
       "    }\n",
       "\n",
       "    .dataframe tbody tr th {\n",
       "        vertical-align: top;\n",
       "    }\n",
       "\n",
       "    .dataframe thead th {\n",
       "        text-align: right;\n",
       "    }\n",
       "</style>\n",
       "<table border=\"1\" class=\"dataframe\">\n",
       "  <thead>\n",
       "    <tr style=\"text-align: right;\">\n",
       "      <th></th>\n",
       "      <th>Product</th>\n",
       "      <th>Gender</th>\n",
       "      <th>MaritalStatus</th>\n",
       "      <th>Income</th>\n",
       "      <th>Four_Bin_Income</th>\n",
       "      <th>Six_Bin_Income</th>\n",
       "      <th>Ten_Bin_Income</th>\n",
       "      <th>Quartiles</th>\n",
       "      <th>Hexiles</th>\n",
       "      <th>Deciles</th>\n",
       "      <th>Integer_Rank_4_bins</th>\n",
       "      <th>Integer_Rank_6_bins</th>\n",
       "      <th>Integer_Rank_10_bins</th>\n",
       "    </tr>\n",
       "  </thead>\n",
       "  <tbody>\n",
       "    <tr>\n",
       "      <th>0</th>\n",
       "      <td>TM195</td>\n",
       "      <td>Female</td>\n",
       "      <td>Partnered</td>\n",
       "      <td>46617.0</td>\n",
       "      <td>(43205.99, 47043.38]</td>\n",
       "      <td>(46427.5, 47185.5]</td>\n",
       "      <td>(45593.7, 46730.7]</td>\n",
       "      <td>Low Income</td>\n",
       "      <td>46.5K - 47.0K</td>\n",
       "      <td>second</td>\n",
       "      <td>0</td>\n",
       "      <td>1</td>\n",
       "      <td>1</td>\n",
       "    </tr>\n",
       "    <tr>\n",
       "      <th>1</th>\n",
       "      <td>TM195</td>\n",
       "      <td>Female</td>\n",
       "      <td>Single</td>\n",
       "      <td>45480.0</td>\n",
       "      <td>(43205.99, 47043.38]</td>\n",
       "      <td>(43205.99, 46427.5]</td>\n",
       "      <td>(43205.99, 45593.7]</td>\n",
       "      <td>Low Income</td>\n",
       "      <td>43.0K - 46.5K</td>\n",
       "      <td>first</td>\n",
       "      <td>0</td>\n",
       "      <td>0</td>\n",
       "      <td>0</td>\n",
       "    </tr>\n",
       "    <tr>\n",
       "      <th>2</th>\n",
       "      <td>TM195</td>\n",
       "      <td>Male</td>\n",
       "      <td>Partnered</td>\n",
       "      <td>51165.0</td>\n",
       "      <td>(50596.5, 55092.25]</td>\n",
       "      <td>(50596.5, 52713.33]</td>\n",
       "      <td>(50596.5, 51847.2]</td>\n",
       "      <td>Good Income</td>\n",
       "      <td>50.5K - 52.7K</td>\n",
       "      <td>sixth</td>\n",
       "      <td>2</td>\n",
       "      <td>3</td>\n",
       "      <td>5</td>\n",
       "    </tr>\n",
       "    <tr>\n",
       "      <th>3</th>\n",
       "      <td>TM195</td>\n",
       "      <td>Male</td>\n",
       "      <td>Single</td>\n",
       "      <td>43206.0</td>\n",
       "      <td>(43205.99, 47043.38]</td>\n",
       "      <td>(43205.99, 46427.5]</td>\n",
       "      <td>(43205.99, 45593.7]</td>\n",
       "      <td>Low Income</td>\n",
       "      <td>43.0K - 46.5K</td>\n",
       "      <td>first</td>\n",
       "      <td>0</td>\n",
       "      <td>0</td>\n",
       "      <td>0</td>\n",
       "    </tr>\n",
       "    <tr>\n",
       "      <th>4</th>\n",
       "      <td>TM498</td>\n",
       "      <td>Female</td>\n",
       "      <td>Partnered</td>\n",
       "      <td>50028.0</td>\n",
       "      <td>(47043.38, 50596.5]</td>\n",
       "      <td>(47185.5, 50596.5]</td>\n",
       "      <td>(48322.5, 50596.5]</td>\n",
       "      <td>Medium Income</td>\n",
       "      <td>47.0K - 50.5K</td>\n",
       "      <td>fifth</td>\n",
       "      <td>1</td>\n",
       "      <td>2</td>\n",
       "      <td>4</td>\n",
       "    </tr>\n",
       "    <tr>\n",
       "      <th>5</th>\n",
       "      <td>TM498</td>\n",
       "      <td>Female</td>\n",
       "      <td>Single</td>\n",
       "      <td>47185.5</td>\n",
       "      <td>(47043.38, 50596.5]</td>\n",
       "      <td>(46427.5, 47185.5]</td>\n",
       "      <td>(46730.7, 47185.5]</td>\n",
       "      <td>Medium Income</td>\n",
       "      <td>46.5K - 47.0K</td>\n",
       "      <td>third</td>\n",
       "      <td>1</td>\n",
       "      <td>1</td>\n",
       "      <td>2</td>\n",
       "    </tr>\n",
       "    <tr>\n",
       "      <th>6</th>\n",
       "      <td>TM498</td>\n",
       "      <td>Male</td>\n",
       "      <td>Partnered</td>\n",
       "      <td>52302.0</td>\n",
       "      <td>(50596.5, 55092.25]</td>\n",
       "      <td>(50596.5, 52713.33]</td>\n",
       "      <td>(51847.2, 53165.8]</td>\n",
       "      <td>Good Income</td>\n",
       "      <td>50.5K - 52.7K</td>\n",
       "      <td>seventh</td>\n",
       "      <td>2</td>\n",
       "      <td>3</td>\n",
       "      <td>6</td>\n",
       "    </tr>\n",
       "    <tr>\n",
       "      <th>7</th>\n",
       "      <td>TM498</td>\n",
       "      <td>Male</td>\n",
       "      <td>Single</td>\n",
       "      <td>47185.5</td>\n",
       "      <td>(47043.38, 50596.5]</td>\n",
       "      <td>(46427.5, 47185.5]</td>\n",
       "      <td>(46730.7, 47185.5]</td>\n",
       "      <td>Medium Income</td>\n",
       "      <td>46.5K - 47.0K</td>\n",
       "      <td>third</td>\n",
       "      <td>1</td>\n",
       "      <td>1</td>\n",
       "      <td>2</td>\n",
       "    </tr>\n",
       "    <tr>\n",
       "      <th>8</th>\n",
       "      <td>TM798</td>\n",
       "      <td>Female</td>\n",
       "      <td>Partnered</td>\n",
       "      <td>91508.5</td>\n",
       "      <td>(55092.25, 91508.5]</td>\n",
       "      <td>(63703.5, 91508.5]</td>\n",
       "      <td>(81050.5, 91508.5]</td>\n",
       "      <td>Excellent Income</td>\n",
       "      <td>63.7K - 91.5K</td>\n",
       "      <td>tenth</td>\n",
       "      <td>3</td>\n",
       "      <td>5</td>\n",
       "      <td>9</td>\n",
       "    </tr>\n",
       "    <tr>\n",
       "      <th>9</th>\n",
       "      <td>TM798</td>\n",
       "      <td>Female</td>\n",
       "      <td>Single</td>\n",
       "      <td>53536.0</td>\n",
       "      <td>(50596.5, 55092.25]</td>\n",
       "      <td>(52713.33, 63703.5]</td>\n",
       "      <td>(53165.8, 58516.0]</td>\n",
       "      <td>Good Income</td>\n",
       "      <td>52.7K - 63.7K</td>\n",
       "      <td>eighth</td>\n",
       "      <td>2</td>\n",
       "      <td>4</td>\n",
       "      <td>7</td>\n",
       "    </tr>\n",
       "    <tr>\n",
       "      <th>10</th>\n",
       "      <td>TM798</td>\n",
       "      <td>Male</td>\n",
       "      <td>Partnered</td>\n",
       "      <td>83416.0</td>\n",
       "      <td>(55092.25, 91508.5]</td>\n",
       "      <td>(63703.5, 91508.5]</td>\n",
       "      <td>(81050.5, 91508.5]</td>\n",
       "      <td>Excellent Income</td>\n",
       "      <td>63.7K - 91.5K</td>\n",
       "      <td>tenth</td>\n",
       "      <td>3</td>\n",
       "      <td>5</td>\n",
       "      <td>9</td>\n",
       "    </tr>\n",
       "    <tr>\n",
       "      <th>11</th>\n",
       "      <td>TM798</td>\n",
       "      <td>Male</td>\n",
       "      <td>Single</td>\n",
       "      <td>59761.0</td>\n",
       "      <td>(55092.25, 91508.5]</td>\n",
       "      <td>(52713.33, 63703.5]</td>\n",
       "      <td>(58516.0, 81050.5]</td>\n",
       "      <td>Excellent Income</td>\n",
       "      <td>52.7K - 63.7K</td>\n",
       "      <td>ninth</td>\n",
       "      <td>3</td>\n",
       "      <td>4</td>\n",
       "      <td>8</td>\n",
       "    </tr>\n",
       "  </tbody>\n",
       "</table>\n",
       "</div>"
      ],
      "text/plain": [
       "   Product  Gender MaritalStatus   Income       Four_Bin_Income  \\\n",
       "0    TM195  Female     Partnered  46617.0  (43205.99, 47043.38]   \n",
       "1    TM195  Female        Single  45480.0  (43205.99, 47043.38]   \n",
       "2    TM195    Male     Partnered  51165.0   (50596.5, 55092.25]   \n",
       "3    TM195    Male        Single  43206.0  (43205.99, 47043.38]   \n",
       "4    TM498  Female     Partnered  50028.0   (47043.38, 50596.5]   \n",
       "5    TM498  Female        Single  47185.5   (47043.38, 50596.5]   \n",
       "6    TM498    Male     Partnered  52302.0   (50596.5, 55092.25]   \n",
       "7    TM498    Male        Single  47185.5   (47043.38, 50596.5]   \n",
       "8    TM798  Female     Partnered  91508.5   (55092.25, 91508.5]   \n",
       "9    TM798  Female        Single  53536.0   (50596.5, 55092.25]   \n",
       "10   TM798    Male     Partnered  83416.0   (55092.25, 91508.5]   \n",
       "11   TM798    Male        Single  59761.0   (55092.25, 91508.5]   \n",
       "\n",
       "         Six_Bin_Income       Ten_Bin_Income         Quartiles        Hexiles  \\\n",
       "0    (46427.5, 47185.5]   (45593.7, 46730.7]        Low Income  46.5K - 47.0K   \n",
       "1   (43205.99, 46427.5]  (43205.99, 45593.7]        Low Income  43.0K - 46.5K   \n",
       "2   (50596.5, 52713.33]   (50596.5, 51847.2]       Good Income  50.5K - 52.7K   \n",
       "3   (43205.99, 46427.5]  (43205.99, 45593.7]        Low Income  43.0K - 46.5K   \n",
       "4    (47185.5, 50596.5]   (48322.5, 50596.5]     Medium Income  47.0K - 50.5K   \n",
       "5    (46427.5, 47185.5]   (46730.7, 47185.5]     Medium Income  46.5K - 47.0K   \n",
       "6   (50596.5, 52713.33]   (51847.2, 53165.8]       Good Income  50.5K - 52.7K   \n",
       "7    (46427.5, 47185.5]   (46730.7, 47185.5]     Medium Income  46.5K - 47.0K   \n",
       "8    (63703.5, 91508.5]   (81050.5, 91508.5]  Excellent Income  63.7K - 91.5K   \n",
       "9   (52713.33, 63703.5]   (53165.8, 58516.0]       Good Income  52.7K - 63.7K   \n",
       "10   (63703.5, 91508.5]   (81050.5, 91508.5]  Excellent Income  63.7K - 91.5K   \n",
       "11  (52713.33, 63703.5]   (58516.0, 81050.5]  Excellent Income  52.7K - 63.7K   \n",
       "\n",
       "    Deciles  Integer_Rank_4_bins  Integer_Rank_6_bins  Integer_Rank_10_bins  \n",
       "0    second                    0                    1                     1  \n",
       "1     first                    0                    0                     0  \n",
       "2     sixth                    2                    3                     5  \n",
       "3     first                    0                    0                     0  \n",
       "4     fifth                    1                    2                     4  \n",
       "5     third                    1                    1                     2  \n",
       "6   seventh                    2                    3                     6  \n",
       "7     third                    1                    1                     2  \n",
       "8     tenth                    3                    5                     9  \n",
       "9    eighth                    2                    4                     7  \n",
       "10    tenth                    3                    5                     9  \n",
       "11    ninth                    3                    4                     8  "
      ]
     },
     "execution_count": 447,
     "metadata": {},
     "output_type": "execute_result"
    }
   ],
   "source": [
    "# Step 10:\n",
    "# Rather than bin ranges or bin labels, return integer rankings\n",
    "# OBSERVATION: Single Males and Single Females rank lowest and tend to purchase TM195\n",
    "\n",
    "grouped['Integer_Rank_4_bins'] = pd.qcut(grouped['Income'], q=4, precision=2, labels=False)\n",
    "grouped['Integer_Rank_6_bins'] = pd.qcut(grouped['Income'], q=6, precision=2, labels=False)\n",
    "grouped['Integer_Rank_10_bins'] = pd.qcut(grouped['Income'], q=10, precision=2, labels= False)\n",
    "#grouped.rename(columns={'Income': 'Median_Income'}, inplace=True)\n",
    "grouped"
   ]
  },
  {
   "cell_type": "markdown",
   "metadata": {},
   "source": [
    "****"
   ]
  },
  {
   "cell_type": "code",
   "execution_count": 454,
   "metadata": {},
   "outputs": [
    {
     "data": {
      "text/plain": [
       "0     (43157.698, 55281.625]\n",
       "1     (43157.698, 55281.625]\n",
       "2     (43157.698, 55281.625]\n",
       "3     (43157.698, 55281.625]\n",
       "4     (43157.698, 55281.625]\n",
       "5     (43157.698, 55281.625]\n",
       "6     (43157.698, 55281.625]\n",
       "7     (43157.698, 55281.625]\n",
       "8       (79432.875, 91508.5]\n",
       "9     (43157.698, 55281.625]\n",
       "10      (79432.875, 91508.5]\n",
       "11     (55281.625, 67357.25]\n",
       "Name: Income, dtype: category\n",
       "Categories (4, interval[float64]): [(43157.698, 55281.625] < (55281.625, 67357.25] < (67357.25, 79432.875] < (79432.875, 91508.5]]"
      ]
     },
     "execution_count": 454,
     "metadata": {},
     "output_type": "execute_result"
    }
   ],
   "source": [
    "# Step 11:\n",
    "# Use cut() to specifically define the bin edges (begin with 4 bins)\n",
    "# OBSERVATION: \"Categories\" is 4 \n",
    "\n",
    "pd.cut(grouped['Income'], bins=4)"
   ]
  },
  {
   "cell_type": "markdown",
   "metadata": {},
   "source": [
    "****"
   ]
  },
  {
   "cell_type": "code",
   "execution_count": 455,
   "metadata": {},
   "outputs": [
    {
     "data": {
      "text/plain": [
       "(43157.698, 55281.625]    9\n",
       "(79432.875, 91508.5]      2\n",
       "(55281.625, 67357.25]     1\n",
       "(67357.25, 79432.875]     0\n",
       "Name: Income, dtype: int64"
      ]
     },
     "execution_count": 455,
     "metadata": {},
     "output_type": "execute_result"
    }
   ],
   "source": [
    "# Step 12:\n",
    "# Display how the values are distributed across the four (4) bins\n",
    "# OBSERVATION: Unlike quantized bin structure, the distribution of objects into these four (4) bins is uneven\n",
    "\n",
    "pd.cut(grouped['Income'], bins=4).value_counts()"
   ]
  },
  {
   "cell_type": "markdown",
   "metadata": {},
   "source": [
    "****"
   ]
  },
  {
   "cell_type": "code",
   "execution_count": 460,
   "metadata": {},
   "outputs": [
    {
     "data": {
      "text/html": [
       "<div>\n",
       "<style scoped>\n",
       "    .dataframe tbody tr th:only-of-type {\n",
       "        vertical-align: middle;\n",
       "    }\n",
       "\n",
       "    .dataframe tbody tr th {\n",
       "        vertical-align: top;\n",
       "    }\n",
       "\n",
       "    .dataframe thead th {\n",
       "        text-align: right;\n",
       "    }\n",
       "</style>\n",
       "<table border=\"1\" class=\"dataframe\">\n",
       "  <thead>\n",
       "    <tr style=\"text-align: right;\">\n",
       "      <th></th>\n",
       "      <th>Product</th>\n",
       "      <th>Gender</th>\n",
       "      <th>MaritalStatus</th>\n",
       "      <th>Income</th>\n",
       "      <th>Income Levels</th>\n",
       "    </tr>\n",
       "  </thead>\n",
       "  <tbody>\n",
       "    <tr>\n",
       "      <th>0</th>\n",
       "      <td>TM195</td>\n",
       "      <td>Female</td>\n",
       "      <td>Partnered</td>\n",
       "      <td>46617.0</td>\n",
       "      <td>Medium Income</td>\n",
       "    </tr>\n",
       "    <tr>\n",
       "      <th>1</th>\n",
       "      <td>TM195</td>\n",
       "      <td>Female</td>\n",
       "      <td>Single</td>\n",
       "      <td>45480.0</td>\n",
       "      <td>Medium Income</td>\n",
       "    </tr>\n",
       "    <tr>\n",
       "      <th>2</th>\n",
       "      <td>TM195</td>\n",
       "      <td>Male</td>\n",
       "      <td>Partnered</td>\n",
       "      <td>51165.0</td>\n",
       "      <td>Medium Income</td>\n",
       "    </tr>\n",
       "    <tr>\n",
       "      <th>3</th>\n",
       "      <td>TM195</td>\n",
       "      <td>Male</td>\n",
       "      <td>Single</td>\n",
       "      <td>43206.0</td>\n",
       "      <td>Low Income</td>\n",
       "    </tr>\n",
       "    <tr>\n",
       "      <th>4</th>\n",
       "      <td>TM498</td>\n",
       "      <td>Female</td>\n",
       "      <td>Partnered</td>\n",
       "      <td>50028.0</td>\n",
       "      <td>Medium Income</td>\n",
       "    </tr>\n",
       "    <tr>\n",
       "      <th>5</th>\n",
       "      <td>TM498</td>\n",
       "      <td>Female</td>\n",
       "      <td>Single</td>\n",
       "      <td>47185.5</td>\n",
       "      <td>Medium Income</td>\n",
       "    </tr>\n",
       "    <tr>\n",
       "      <th>6</th>\n",
       "      <td>TM498</td>\n",
       "      <td>Male</td>\n",
       "      <td>Partnered</td>\n",
       "      <td>52302.0</td>\n",
       "      <td>Medium Income</td>\n",
       "    </tr>\n",
       "    <tr>\n",
       "      <th>7</th>\n",
       "      <td>TM498</td>\n",
       "      <td>Male</td>\n",
       "      <td>Single</td>\n",
       "      <td>47185.5</td>\n",
       "      <td>Medium Income</td>\n",
       "    </tr>\n",
       "    <tr>\n",
       "      <th>8</th>\n",
       "      <td>TM798</td>\n",
       "      <td>Female</td>\n",
       "      <td>Partnered</td>\n",
       "      <td>91508.5</td>\n",
       "      <td>Excellent Income</td>\n",
       "    </tr>\n",
       "    <tr>\n",
       "      <th>9</th>\n",
       "      <td>TM798</td>\n",
       "      <td>Female</td>\n",
       "      <td>Single</td>\n",
       "      <td>53536.0</td>\n",
       "      <td>Medium Income</td>\n",
       "    </tr>\n",
       "    <tr>\n",
       "      <th>10</th>\n",
       "      <td>TM798</td>\n",
       "      <td>Male</td>\n",
       "      <td>Partnered</td>\n",
       "      <td>83416.0</td>\n",
       "      <td>Excellent Income</td>\n",
       "    </tr>\n",
       "    <tr>\n",
       "      <th>11</th>\n",
       "      <td>TM798</td>\n",
       "      <td>Male</td>\n",
       "      <td>Single</td>\n",
       "      <td>59761.0</td>\n",
       "      <td>Medium Income</td>\n",
       "    </tr>\n",
       "  </tbody>\n",
       "</table>\n",
       "</div>"
      ],
      "text/plain": [
       "   Product  Gender MaritalStatus   Income     Income Levels\n",
       "0    TM195  Female     Partnered  46617.0     Medium Income\n",
       "1    TM195  Female        Single  45480.0     Medium Income\n",
       "2    TM195    Male     Partnered  51165.0     Medium Income\n",
       "3    TM195    Male        Single  43206.0        Low Income\n",
       "4    TM498  Female     Partnered  50028.0     Medium Income\n",
       "5    TM498  Female        Single  47185.5     Medium Income\n",
       "6    TM498    Male     Partnered  52302.0     Medium Income\n",
       "7    TM498    Male        Single  47185.5     Medium Income\n",
       "8    TM798  Female     Partnered  91508.5  Excellent Income\n",
       "9    TM798  Female        Single  53536.0     Medium Income\n",
       "10   TM798    Male     Partnered  83416.0  Excellent Income\n",
       "11   TM798    Male        Single  59761.0     Medium Income"
      ]
     },
     "execution_count": 460,
     "metadata": {},
     "output_type": "execute_result"
    }
   ],
   "source": [
    "# Step 13:\n",
    "# Define bin parameters\n",
    "\n",
    "# drop quantiles columns\n",
    "#grouped = grouped.drop(columns = ['Four_Bin_Income', 'Six_Bin_Income', 'Ten_Bin_Income', 'Quartiles', 'Hexiles', 'Deciles', 'Integer_Rank_4_bins', 'Integer_Rank_6_bins', 'Integer_Rank_10_bins'])\n",
    "\n",
    "user_defined_bin_labels = ['Low Income', 'Medium Income', 'Good Income', 'Excellent Income']\n",
    "cut_bins = [0, 45000, 65000 , 80000, 125000]\n",
    "grouped['Income Levels'] = pd.cut(grouped['Income'], bins=cut_bins, labels=user_defined_bin_labels)\n",
    "#grouped.rename(columns={'Income': 'Median_Income'}, inplace=True)\n",
    "grouped"
   ]
  },
  {
   "cell_type": "markdown",
   "metadata": {},
   "source": [
    "****"
   ]
  },
  {
   "cell_type": "code",
   "execution_count": 462,
   "metadata": {},
   "outputs": [
    {
     "data": {
      "text/plain": [
       "0     (31250.0, 62500.0]\n",
       "1     (31250.0, 62500.0]\n",
       "2     (31250.0, 62500.0]\n",
       "3     (31250.0, 62500.0]\n",
       "4     (31250.0, 62500.0]\n",
       "5     (31250.0, 62500.0]\n",
       "6     (31250.0, 62500.0]\n",
       "7     (31250.0, 62500.0]\n",
       "8     (62500.0, 93750.0]\n",
       "9     (31250.0, 62500.0]\n",
       "10    (62500.0, 93750.0]\n",
       "11    (31250.0, 62500.0]\n",
       "Name: Income, dtype: category\n",
       "Categories (4, interval[float64]): [(0.0, 31250.0] < (31250.0, 62500.0] < (62500.0, 93750.0] < (93750.0, 125000.0]]"
      ]
     },
     "execution_count": 462,
     "metadata": {},
     "output_type": "execute_result"
    }
   ],
   "source": [
    "# Step 14:\n",
    "# Use numpy linspace function to compactly create bin ranges\n",
    "# OBSERVATION: linspace provides an array of evenly spaced numbers over a user defined range\n",
    "\n",
    "pd.cut(grouped['Income'], bins=np.linspace(0, 125000, 5))"
   ]
  },
  {
   "cell_type": "markdown",
   "metadata": {},
   "source": [
    "****"
   ]
  },
  {
   "cell_type": "code",
   "execution_count": 463,
   "metadata": {},
   "outputs": [
    {
     "data": {
      "text/plain": [
       "(43157.697, 55281.625]    9\n",
       "(55281.625, 67357.25]     1\n",
       "(67357.25, 79432.875]     0\n",
       "(79432.875, 91508.5]      2\n",
       "Name: Income, dtype: int64"
      ]
     },
     "execution_count": 463,
     "metadata": {},
     "output_type": "execute_result"
    }
   ],
   "source": [
    "# Step 15: \n",
    "# Display how the values are distributed across the evenly spaced bins\n",
    "# OBSERVATION: It's easier to see that 9 of the 12 aggregated income data objects fall within the first income range\n",
    "\n",
    "grouped['Income'].value_counts(bins=4, sort=False)"
   ]
  },
  {
   "cell_type": "markdown",
   "metadata": {},
   "source": [
    "****"
   ]
  },
  {
   "cell_type": "markdown",
   "metadata": {},
   "source": [
    "***"
   ]
  },
  {
   "cell_type": "markdown",
   "metadata": {},
   "source": [
    "****"
   ]
  },
  {
   "cell_type": "markdown",
   "metadata": {},
   "source": [
    "###  <span style=\"font-family: Arial; font-weight:bold;font-size:1.5em;color:#0e92ea\"> Miscellaneous Computations"
   ]
  },
  {
   "cell_type": "code",
   "execution_count": 19,
   "metadata": {},
   "outputs": [
    {
     "name": "stdout",
     "output_type": "stream",
     "text": [
      "37212.89355153916\n",
      "70226.2620040164\n"
     ]
    }
   ],
   "source": [
    "# Miscellaneous Cell\n",
    "# Income Standard Deviation (1-std)\n",
    "lowerSigma1 = df['Income'].mean() - df['Income'].std()\n",
    "upperSigma1 = df['Income'].mean() + df['Income'].std()\n",
    "print(lowerSigma1)\n",
    "print(upperSigma1)"
   ]
  },
  {
   "cell_type": "code",
   "execution_count": 435,
   "metadata": {},
   "outputs": [
    {
     "data": {
      "text/plain": [
       "Male      104\n",
       "Female     76\n",
       "Name: Gender, dtype: int64"
      ]
     },
     "execution_count": 435,
     "metadata": {},
     "output_type": "execute_result"
    }
   ],
   "source": [
    "# Miscellaneous Cell\n",
    "# Univariate Number of Values\n",
    "df['Gender'].value_counts()\n"
   ]
  },
  {
   "cell_type": "code",
   "execution_count": 154,
   "metadata": {},
   "outputs": [
    {
     "data": {
      "text/html": [
       "<div>\n",
       "<style scoped>\n",
       "    .dataframe tbody tr th:only-of-type {\n",
       "        vertical-align: middle;\n",
       "    }\n",
       "\n",
       "    .dataframe tbody tr th {\n",
       "        vertical-align: top;\n",
       "    }\n",
       "\n",
       "    .dataframe thead th {\n",
       "        text-align: right;\n",
       "    }\n",
       "</style>\n",
       "<table border=\"1\" class=\"dataframe\">\n",
       "  <thead>\n",
       "    <tr style=\"text-align: right;\">\n",
       "      <th></th>\n",
       "      <th>Age</th>\n",
       "      <th>Product</th>\n",
       "    </tr>\n",
       "  </thead>\n",
       "  <tbody>\n",
       "    <tr>\n",
       "      <th>0</th>\n",
       "      <td>18</td>\n",
       "      <td>TM195</td>\n",
       "    </tr>\n",
       "    <tr>\n",
       "      <th>1</th>\n",
       "      <td>19</td>\n",
       "      <td>TM195</td>\n",
       "    </tr>\n",
       "    <tr>\n",
       "      <th>2</th>\n",
       "      <td>19</td>\n",
       "      <td>TM195</td>\n",
       "    </tr>\n",
       "    <tr>\n",
       "      <th>3</th>\n",
       "      <td>19</td>\n",
       "      <td>TM195</td>\n",
       "    </tr>\n",
       "    <tr>\n",
       "      <th>4</th>\n",
       "      <td>20</td>\n",
       "      <td>TM195</td>\n",
       "    </tr>\n",
       "    <tr>\n",
       "      <th>...</th>\n",
       "      <td>...</td>\n",
       "      <td>...</td>\n",
       "    </tr>\n",
       "    <tr>\n",
       "      <th>175</th>\n",
       "      <td>40</td>\n",
       "      <td>TM798</td>\n",
       "    </tr>\n",
       "    <tr>\n",
       "      <th>176</th>\n",
       "      <td>42</td>\n",
       "      <td>TM798</td>\n",
       "    </tr>\n",
       "    <tr>\n",
       "      <th>177</th>\n",
       "      <td>45</td>\n",
       "      <td>TM798</td>\n",
       "    </tr>\n",
       "    <tr>\n",
       "      <th>178</th>\n",
       "      <td>47</td>\n",
       "      <td>TM798</td>\n",
       "    </tr>\n",
       "    <tr>\n",
       "      <th>179</th>\n",
       "      <td>48</td>\n",
       "      <td>TM798</td>\n",
       "    </tr>\n",
       "  </tbody>\n",
       "</table>\n",
       "<p>180 rows × 2 columns</p>\n",
       "</div>"
      ],
      "text/plain": [
       "     Age Product\n",
       "0     18   TM195\n",
       "1     19   TM195\n",
       "2     19   TM195\n",
       "3     19   TM195\n",
       "4     20   TM195\n",
       "..   ...     ...\n",
       "175   40   TM798\n",
       "176   42   TM798\n",
       "177   45   TM798\n",
       "178   47   TM798\n",
       "179   48   TM798\n",
       "\n",
       "[180 rows x 2 columns]"
      ]
     },
     "execution_count": 154,
     "metadata": {},
     "output_type": "execute_result"
    }
   ],
   "source": [
    "# Miscellaneous Cell\n",
    "# A simple dataframe of age and product\n",
    "\n",
    "age_vs_prduct = df[['Age', 'Product']]\n",
    "age_vs_prduct"
   ]
  },
  {
   "cell_type": "code",
   "execution_count": 17,
   "metadata": {},
   "outputs": [
    {
     "data": {
      "text/plain": [
       "97"
      ]
     },
     "execution_count": 17,
     "metadata": {},
     "output_type": "execute_result"
    }
   ],
   "source": [
    "# Miscellaneous Cell\n",
    "# Univariate Count of Self-Rated 3\n",
    "selfRated3 = df.loc[df['Fitness'] == 3, 'Fitness']\n",
    "selfRated3.count()"
   ]
  },
  {
   "cell_type": "code",
   "execution_count": 467,
   "metadata": {},
   "outputs": [
    {
     "data": {
      "text/html": [
       "<div>\n",
       "<style scoped>\n",
       "    .dataframe tbody tr th:only-of-type {\n",
       "        vertical-align: middle;\n",
       "    }\n",
       "\n",
       "    .dataframe tbody tr th {\n",
       "        vertical-align: top;\n",
       "    }\n",
       "\n",
       "    .dataframe thead th {\n",
       "        text-align: right;\n",
       "    }\n",
       "</style>\n",
       "<table border=\"1\" class=\"dataframe\">\n",
       "  <thead>\n",
       "    <tr style=\"text-align: right;\">\n",
       "      <th>col_0</th>\n",
       "      <th>Gender</th>\n",
       "      <th>Total</th>\n",
       "    </tr>\n",
       "    <tr>\n",
       "      <th>Age</th>\n",
       "      <th></th>\n",
       "      <th></th>\n",
       "    </tr>\n",
       "  </thead>\n",
       "  <tbody>\n",
       "    <tr>\n",
       "      <th>18</th>\n",
       "      <td>1</td>\n",
       "      <td>1</td>\n",
       "    </tr>\n",
       "    <tr>\n",
       "      <th>19</th>\n",
       "      <td>4</td>\n",
       "      <td>4</td>\n",
       "    </tr>\n",
       "    <tr>\n",
       "      <th>20</th>\n",
       "      <td>5</td>\n",
       "      <td>5</td>\n",
       "    </tr>\n",
       "    <tr>\n",
       "      <th>21</th>\n",
       "      <td>7</td>\n",
       "      <td>7</td>\n",
       "    </tr>\n",
       "    <tr>\n",
       "      <th>22</th>\n",
       "      <td>7</td>\n",
       "      <td>7</td>\n",
       "    </tr>\n",
       "    <tr>\n",
       "      <th>23</th>\n",
       "      <td>18</td>\n",
       "      <td>18</td>\n",
       "    </tr>\n",
       "    <tr>\n",
       "      <th>24</th>\n",
       "      <td>12</td>\n",
       "      <td>12</td>\n",
       "    </tr>\n",
       "    <tr>\n",
       "      <th>25</th>\n",
       "      <td>25</td>\n",
       "      <td>25</td>\n",
       "    </tr>\n",
       "    <tr>\n",
       "      <th>26</th>\n",
       "      <td>12</td>\n",
       "      <td>12</td>\n",
       "    </tr>\n",
       "    <tr>\n",
       "      <th>27</th>\n",
       "      <td>7</td>\n",
       "      <td>7</td>\n",
       "    </tr>\n",
       "    <tr>\n",
       "      <th>28</th>\n",
       "      <td>9</td>\n",
       "      <td>9</td>\n",
       "    </tr>\n",
       "    <tr>\n",
       "      <th>29</th>\n",
       "      <td>6</td>\n",
       "      <td>6</td>\n",
       "    </tr>\n",
       "    <tr>\n",
       "      <th>30</th>\n",
       "      <td>7</td>\n",
       "      <td>7</td>\n",
       "    </tr>\n",
       "    <tr>\n",
       "      <th>31</th>\n",
       "      <td>6</td>\n",
       "      <td>6</td>\n",
       "    </tr>\n",
       "    <tr>\n",
       "      <th>32</th>\n",
       "      <td>4</td>\n",
       "      <td>4</td>\n",
       "    </tr>\n",
       "    <tr>\n",
       "      <th>33</th>\n",
       "      <td>8</td>\n",
       "      <td>8</td>\n",
       "    </tr>\n",
       "    <tr>\n",
       "      <th>34</th>\n",
       "      <td>6</td>\n",
       "      <td>6</td>\n",
       "    </tr>\n",
       "    <tr>\n",
       "      <th>35</th>\n",
       "      <td>8</td>\n",
       "      <td>8</td>\n",
       "    </tr>\n",
       "    <tr>\n",
       "      <th>36</th>\n",
       "      <td>1</td>\n",
       "      <td>1</td>\n",
       "    </tr>\n",
       "    <tr>\n",
       "      <th>37</th>\n",
       "      <td>2</td>\n",
       "      <td>2</td>\n",
       "    </tr>\n",
       "    <tr>\n",
       "      <th>38</th>\n",
       "      <td>7</td>\n",
       "      <td>7</td>\n",
       "    </tr>\n",
       "    <tr>\n",
       "      <th>39</th>\n",
       "      <td>1</td>\n",
       "      <td>1</td>\n",
       "    </tr>\n",
       "    <tr>\n",
       "      <th>40</th>\n",
       "      <td>5</td>\n",
       "      <td>5</td>\n",
       "    </tr>\n",
       "    <tr>\n",
       "      <th>41</th>\n",
       "      <td>1</td>\n",
       "      <td>1</td>\n",
       "    </tr>\n",
       "    <tr>\n",
       "      <th>42</th>\n",
       "      <td>1</td>\n",
       "      <td>1</td>\n",
       "    </tr>\n",
       "    <tr>\n",
       "      <th>43</th>\n",
       "      <td>1</td>\n",
       "      <td>1</td>\n",
       "    </tr>\n",
       "    <tr>\n",
       "      <th>44</th>\n",
       "      <td>1</td>\n",
       "      <td>1</td>\n",
       "    </tr>\n",
       "    <tr>\n",
       "      <th>45</th>\n",
       "      <td>2</td>\n",
       "      <td>2</td>\n",
       "    </tr>\n",
       "    <tr>\n",
       "      <th>46</th>\n",
       "      <td>1</td>\n",
       "      <td>1</td>\n",
       "    </tr>\n",
       "    <tr>\n",
       "      <th>47</th>\n",
       "      <td>2</td>\n",
       "      <td>2</td>\n",
       "    </tr>\n",
       "    <tr>\n",
       "      <th>48</th>\n",
       "      <td>2</td>\n",
       "      <td>2</td>\n",
       "    </tr>\n",
       "    <tr>\n",
       "      <th>50</th>\n",
       "      <td>1</td>\n",
       "      <td>1</td>\n",
       "    </tr>\n",
       "    <tr>\n",
       "      <th>Total</th>\n",
       "      <td>180</td>\n",
       "      <td>180</td>\n",
       "    </tr>\n",
       "  </tbody>\n",
       "</table>\n",
       "</div>"
      ],
      "text/plain": [
       "col_0  Gender  Total\n",
       "Age                 \n",
       "18          1      1\n",
       "19          4      4\n",
       "20          5      5\n",
       "21          7      7\n",
       "22          7      7\n",
       "23         18     18\n",
       "24         12     12\n",
       "25         25     25\n",
       "26         12     12\n",
       "27          7      7\n",
       "28          9      9\n",
       "29          6      6\n",
       "30          7      7\n",
       "31          6      6\n",
       "32          4      4\n",
       "33          8      8\n",
       "34          6      6\n",
       "35          8      8\n",
       "36          1      1\n",
       "37          2      2\n",
       "38          7      7\n",
       "39          1      1\n",
       "40          5      5\n",
       "41          1      1\n",
       "42          1      1\n",
       "43          1      1\n",
       "44          1      1\n",
       "45          2      2\n",
       "46          1      1\n",
       "47          2      2\n",
       "48          2      2\n",
       "50          1      1\n",
       "Total     180    180"
      ]
     },
     "execution_count": 467,
     "metadata": {},
     "output_type": "execute_result"
    }
   ],
   "source": [
    "# Miscellaneous Cell\n",
    "# Bivariate crosstab for the frequency of every data object by age\n",
    "\n",
    "pd.crosstab(index=df['Age'],columns=\"Gender\",margins=True, margins_name=\"Total\")"
   ]
  },
  {
   "cell_type": "markdown",
   "metadata": {},
   "source": [
    "***"
   ]
  },
  {
   "cell_type": "markdown",
   "metadata": {},
   "source": [
    "****"
   ]
  },
  {
   "cell_type": "markdown",
   "metadata": {},
   "source": [
    "****"
   ]
  },
  {
   "cell_type": "markdown",
   "metadata": {},
   "source": [
    "###  <span style=\"font-family: Arial; font-weight:bold;font-size:1.5em;color:#0e92ea\"> Observations of Univariate Attributes\n",
    "\n",
    "<font color=darkblue>\n",
    "&nbsp;\n",
    "    \n",
    "1. Age - The average age of a treadmill customer is almost 29 years old. \n",
    "         Youngest: 18, Oldest: 50 \n",
    "         Median Age: 26 \n",
    "         Mean > Median (herein, age is positively skewed attribute)\n",
    "    \n",
    "2. Education - The average number of schooling years of a treadmill customer is 15.5 years.\n",
    "         Minimum: 12, Maximum: 21\n",
    "         Median Schooling: 16\n",
    "         Most treadmill customers have a college degree\n",
    "    \n",
    "3. Usage - The average number of times a treadmill customer expects to use the machine is 3.46 times per week.\n",
    "         Minimum: 2, Maximum 7\n",
    "         Median anticipated Usage: 3\n",
    "         Fewer treadmill customers plan to use the machine 5, 6, or 7 times each week.\n",
    "    \n",
    "4. Fitness - The average self-rated fitness level by a treadmill customer was 3.31 out of a possible ranking of 5.\n",
    "             Of the 180 treadmill customers, 97 ranked their fitness a 3.\n",
    "    \n",
    "5. Income -  The average income of a treadmill customer is 53,719.58 USD whereas the median income is 50,596.50 USD\n",
    "             Mean > Median (herein, income is a positively skewed attribute)\n",
    "             Approximately 68% of all treadmill customers have an income between $37,212.90 and $70,226.26\n",
    "    \n",
    "6. Miles -    The average number of miles that a treadmill customer expects to run each week is 103\n",
    "    \n",
    "             Minimum: 21, Maximum 360\n",
    "             Median anticipated miles: 94\n",
    "             Interquartile Range: 114.75 - 66.00 = 48.75\n",
    "            Median anticipated miles / Median anticipated usage: folks think that they can run 31.3 miles per session"
   ]
  },
  {
   "cell_type": "markdown",
   "metadata": {},
   "source": [
    "****"
   ]
  },
  {
   "cell_type": "markdown",
   "metadata": {},
   "source": [
    "###  <span style=\"font-family: Arial; font-weight:bold;font-size:1.5em;color:#0e92ea\"> Observations of Multivariate Attribute Relationships\n",
    "\n",
    "<font color=darkblue>\n",
    "&nbsp;\n",
    "    \n",
    "OBSERVATION: Income vs. Age --  in general, income values rise with age (positive relationship)\n",
    "    \n",
    "OBSERVATION: Covariances --  at this stage of my development, I have difficulty seeing/interpreting any relationships in a scatterplot other than linear relationships\n",
    "    \n",
    "OBSERVATION: Usage and miles -- Strong (High) positive correlation between usage and miles.\n",
    "    \n",
    "OBSERVATION: Miles and Fitness -- Strong (High) positive correlation between miles and fitness.\n",
    "    \n",
    "OBSERVATION: Usage and Age -- Weak (Low) correlation between usage and age.\n",
    "    \n",
    "OBSERVATION: Normalization by the corr() function decreases the \"units of measurements\" bias by creating a correlation coefficient\n",
    "    \n",
    "OBSERVATION: Age vs. Product -- median age for TM195 & TM498 are similar (26 y/o), while median age for TM798 is slightly  higher (27 y/o).\n",
    "    \n",
    "OBSERVATION:  Age vs. Product -- older folks tend to purchase treadmill model number TM798 (outliers are 1.5 times above the IQR)\n",
    "    \n",
    "OBSERVATION: Age vs. Product -- longer whiskers above the 75th percentile for TM195 and TM498\n",
    "    \n",
    "OBSERVATION: Gender vs Product -- few women have purchased TM798 (the treadmill favored by older customers)\n",
    "    \n",
    "OBSERVATION: Gender vs. Product -- TM195 is the most popular treadmill, and it is evenly favored by both genders\n",
    "    \n",
    "OBSERVATION: Gender vs.Product -- from a sales/marketing perspective, TM498 is basically favored equally by both genders\n",
    "    \n",
    "OBSERVATION: Gender vs. Product -- only 7 woman have purchased TM798 (the treadmill favored by older customers)\n",
    "    \n",
    "OBSERVATION: the median age for both genders is similar (~26 y/o)\n",
    "    \n",
    "OBSERVATION: although the male box is slightly bigger than the female box, both genders have a very similar IQR\n",
    "    \n",
    "OBSERVATION: there is an interesting female outlier is one of the oldest of all the treadmill customers\n",
    "    \n",
    "OBSERVATION: Product vs. Numeric Attributes -- five-number summary is described for each numeric attribute\n",
    "    \n",
    "OBSERVATION: Product vs. Numeric mean of Attributes -- older people who bought TM798 have higher average attributes overall\n",
    "    \n",
    "OBSERVATION: Product & Gender -- this groupby is similar to the bivariate crosstab for product & gender\n",
    "    \n",
    "OBSERVATION: product vs. gender vs. mean age -- comparing this groupby table with the describe() function, it becomes appearent that the overall mean age for the 180 customers (28.79) is fairly similar to all of the mean ages that are parceled out in this table. It might not be fair to assume that TM798 is only meant for \"older\" customers\n",
    "    \n",
    "OBSERVATION: product & gender -- this groupby indicates that, for each treadmill model, income averages do not vary much between males and females; in fact, for TM498 the female average income is more than the male average income\n",
    "    \n",
    "OBSERVATION: income vs. gender vs. product vs. marital status -- the income level of those customers who own TM798 noticably skews the boxplots upward for that product. However, the TM798 box that represents 50% of the 'single males' who use that treadmill and the TM798 box that represents 50% of the 'single females' who use that treadmill both have overall lower income levels (and median income levels) than the income levels of the 'partnered males' and 'partnered females'.   \n"
   ]
  },
  {
   "cell_type": "markdown",
   "metadata": {},
   "source": [
    "****"
   ]
  },
  {
   "cell_type": "markdown",
   "metadata": {},
   "source": [
    "###  <span style=\"font-family: Arial; font-weight:bold;font-size:1.5em;color:#0e92ea\"> Conclusion and Recommendations\n",
    "\n",
    "<font color=darkblue>\n",
    "&nbsp;\n",
    "    \n",
    "    1. Assumptions and Limitations: \n",
    "    \n",
    "    It is assumed that all 180 data objects represent a population from one (1) store.  We are limited in understanding the market value of each treadmill because we do not know the retail prices for each model (TM798 could be prohibitedly expensive).\n",
    "    \n",
    "    2. Insights: \n",
    "    \n",
    "    Self-ranking of Fitness levels were modest - 3.31 of 5.00. However, estimated usage rates per week and estimated exercise miles per week seem to be over-zealous (averaging 34.92 miles per use)\n",
    "    \n",
    "    2. Key Observations:\n",
    "    \n",
    "    The older clientele make more money on average (I have created various bins in my bin analysis to justify this observation), and model TM798 is preferred by older customers.  In fact, the median age for TM195 & TM498 are similar (26 y/o), while median age for TM798 is slightly higher (27 y/o). Again, older folks tend to purchase treadmill model number TM798 (for this model, five (5) noticable outliers are 1.5 times above the IQR). Few women have purchased TM798.\n",
    "    \n",
    "    3. Trends and Patterns:\n",
    "    \n",
    "    It is true that there are five (5) customers for product TM798 who exist as outliers beyond the highest whisker marker of 1.5*IQR, however the values of \"mean age\" for both male and female users of this product reveal that TM798 is not necessarily just intended for older fitness customers. The describe function that was run on the groupby table for product and age makes it appearent that the overall mean age for the 180 customers (28.79) is fairly similar to all of the mean ages that are parceled out in this particular grouped table. For now, I'll take a risky stance and say that the data suggests to sales staff that it might not be fair to assume that model TM798 is only meant for \"older\" customers.\n",
    "    \n",
    "    4. Sales/Marketing Suggestions:\n",
    "    \n",
    "    From a sales/marketing perspective, TM498 is basically favored equally by both genders, whereas TM798 is highly favored by men over women (only 7 woman have purchased TM798).  Overall, target partnered males and partnered females; they have more money overall. For example, the income level of customers who own TM798 noticably skews the boxplots upward for that product, however, the TM798 box that represents 50% of the 'single males' who use that treadmill and the TM798 box that represents 50% of the 'single females' who also use that treadmill both have overall lower income levels (and median income levels) than the income levels of the 'partnered males' and 'partnered females'. Again, as a sales and marketing strategy, I'd heavily target the 'partnered' customers between ages 24 and 33 (Q1 and Q3)."
   ]
  },
  {
   "cell_type": "markdown",
   "metadata": {},
   "source": [
    "****"
   ]
  },
  {
   "cell_type": "markdown",
   "metadata": {},
   "source": [
    "****"
   ]
  },
  {
   "cell_type": "markdown",
   "metadata": {},
   "source": [
    "****"
   ]
  },
  {
   "cell_type": "markdown",
   "metadata": {},
   "source": [
    "###  <span style=\"font-family: Arial; font-weight:bold;font-size:1.5em;color:#0e92ea\"> Pandas Profiling\n",
    "\n",
    "<font color=darkblue>\n",
    "&nbsp;\n",
    "    \n",
    "I know how to install and run pandas profiling on a dataset\n",
    "\n",
    "However, for this project, it wasn't clear if Pandas Profiling was required.\n",
    "\n",
    "For academic purposes, I opted to code EDA and Visualizations myself \n",
    "\n",
    "Pandas Profiling Installation step:\n",
    "    \n",
    "!pip install pandas-profiling\n",
    "\n",
    "or... \n",
    "\n",
    "import sys\n",
    "    \n",
    "!{sys.executable} -m pip install pandas-profiling\n",
    "\n",
    "Getting the pandas profiling report for CardioGoodFitness.csv \n",
    "    \n",
    "pandas_profiling.ProfileReport(df)"
   ]
  },
  {
   "cell_type": "markdown",
   "metadata": {},
   "source": [
    "****"
   ]
  },
  {
   "cell_type": "markdown",
   "metadata": {},
   "source": [
    "### NOTES FROM MLS (Sashi's) PROJECT REVIEW 19JUNE2021"
   ]
  },
  {
   "cell_type": "markdown",
   "metadata": {},
   "source": [
    "### Fixing Data Types (change to improve my memory size)\n",
    "### Product is categorical (object) - change to astype(category)\n",
    "### Gender is categorical - change to astype(category)\n",
    "### MaritalStatus is categorical - change to astype(category)\n",
    "### Fitness is categorical - change to astype(category)\n",
    "\n"
   ]
  },
  {
   "cell_type": "code",
   "execution_count": null,
   "metadata": {},
   "outputs": [],
   "source": []
  },
  {
   "cell_type": "markdown",
   "metadata": {},
   "source": [
    "### df.describe(include='category')"
   ]
  },
  {
   "cell_type": "code",
   "execution_count": null,
   "metadata": {},
   "outputs": [],
   "source": []
  },
  {
   "cell_type": "markdown",
   "metadata": {},
   "source": [
    "### Positive Skew (mean > median) -- right tail -- more larger values pull the mean to the right\n",
    "### Negative Skew (mean < median) -- left tail -- more smaller values pull the mean to the left"
   ]
  },
  {
   "cell_type": "code",
   "execution_count": null,
   "metadata": {},
   "outputs": [],
   "source": []
  },
  {
   "cell_type": "markdown",
   "metadata": {},
   "source": [
    "### df.groupby('dataset').describe()\n",
    "### show the results of a linear regression within each dataset"
   ]
  },
  {
   "cell_type": "code",
   "execution_count": null,
   "metadata": {},
   "outputs": [],
   "source": []
  },
  {
   "cell_type": "markdown",
   "metadata": {},
   "source": [
    "### cardio.isnull().sum()"
   ]
  },
  {
   "cell_type": "markdown",
   "metadata": {},
   "source": []
  },
  {
   "cell_type": "markdown",
   "metadata": {},
   "source": [
    "### Univariate: Checking Central Tendencies of numerical variables\n",
    "### Write a funciton so that it plots a graph on any variable\n",
    "### Observations on Age"
   ]
  },
  {
   "cell_type": "code",
   "execution_count": null,
   "metadata": {},
   "outputs": [],
   "source": []
  },
  {
   "cell_type": "markdown",
   "metadata": {},
   "source": [
    "### histogram_boxplot(cardio['Usage']\n",
    "### histogram_boxplot(cardio['Income']\n",
    "### histogram_boxplot(cardio['Miles']"
   ]
  },
  {
   "cell_type": "code",
   "execution_count": null,
   "metadata": {},
   "outputs": [],
   "source": []
  },
  {
   "cell_type": "markdown",
   "metadata": {},
   "source": [
    "### plt.figure(figsize=(15,5)\n",
    "### ax = sns.countplot(cardio['Product'],palette='winter)\n",
    "### perc_on_bar(ax,cardio['Product']);\n",
    "\n",
    "### also... try creating a pie plot on Product"
   ]
  },
  {
   "cell_type": "code",
   "execution_count": null,
   "metadata": {},
   "outputs": [],
   "source": []
  },
  {
   "cell_type": "markdown",
   "metadata": {},
   "source": [
    "### plt.figure(figsize=(15,5)\n",
    "### ax = sns.countplot(cardio['Gender'],palette='winter)\n",
    "### perc_on_bar(ax,cardio['Gender']);\n",
    "\n",
    "### also... try creating a pie plot on Product"
   ]
  },
  {
   "cell_type": "code",
   "execution_count": null,
   "metadata": {},
   "outputs": [],
   "source": []
  },
  {
   "cell_type": "markdown",
   "metadata": {},
   "source": [
    "### plt.figure(figsize=(15,5)\n",
    "### ax = sns.countplot(cardio['Fitnesst'],palette='winter)\n",
    "### perc_on_bar(ax,cardio['Fitness']);\n",
    "\n",
    "### also... try creating a pie plot on Product"
   ]
  },
  {
   "cell_type": "code",
   "execution_count": null,
   "metadata": {},
   "outputs": [],
   "source": []
  },
  {
   "cell_type": "markdown",
   "metadata": {},
   "source": [
    "### plt.figure(figsize=(15,5)\n",
    "### ax = sns.countplot(cardio['Education'],palette='winter)\n",
    "### perc_on_bar(ax,cardio['Education']);\n",
    "\n",
    "### also... try creating a pie plot on Product"
   ]
  },
  {
   "cell_type": "code",
   "execution_count": null,
   "metadata": {},
   "outputs": [],
   "source": []
  },
  {
   "cell_type": "markdown",
   "metadata": {},
   "source": [
    "### plt.figure(figsize=(15,5)\n",
    "### ax = sns.countplot(cardio['Usage'],palette='winter)\n",
    "### perc_on_bar(ax,cardio['Usage']);\n",
    "\n",
    "### also... try creating a pie plot on Product"
   ]
  },
  {
   "cell_type": "code",
   "execution_count": null,
   "metadata": {},
   "outputs": [],
   "source": []
  },
  {
   "cell_type": "markdown",
   "metadata": {},
   "source": [
    "### sns.pairplot(data=cardio.drop(['Fitness'],axis=1),hue='Product'"
   ]
  },
  {
   "cell_type": "code",
   "execution_count": null,
   "metadata": {},
   "outputs": [],
   "source": []
  },
  {
   "cell_type": "markdown",
   "metadata": {},
   "source": [
    "### x-axis vs. y-axis\n",
    "### independent vs. dependent\n"
   ]
  },
  {
   "cell_type": "code",
   "execution_count": null,
   "metadata": {},
   "outputs": [],
   "source": []
  },
  {
   "cell_type": "markdown",
   "metadata": {},
   "source": [
    "### grouping data w.r.t to products to build customer profile for each product\n",
    "### slice the data then run a describe function\n",
    "### cardio[cardio['Product']=='TM195'].describe(include='all')\n",
    "### cardio[cardio['Product']=='TM498'].describe(include='all')\n",
    "### cardio[cardio['Product']=='TM978'].describe(include='all')"
   ]
  },
  {
   "cell_type": "code",
   "execution_count": null,
   "metadata": {},
   "outputs": [],
   "source": []
  },
  {
   "cell_type": "markdown",
   "metadata": {},
   "source": [
    "### multivariate plotting\n",
    "### Faceting (4 variables -- x,y,hue, column -- a faceting variable)"
   ]
  },
  {
   "cell_type": "code",
   "execution_count": null,
   "metadata": {},
   "outputs": [],
   "source": []
  },
  {
   "cell_type": "markdown",
   "metadata": {},
   "source": [
    "### customer segementation\n",
    "### sns.boxplot(cardio['gender'], cardio['Usage'], hue=cardio['MaritalStatus'], palette='virdis\n",
    "### plt.legend(bbox_to_anchor=(1.00,1)"
   ]
  },
  {
   "cell_type": "code",
   "execution_count": null,
   "metadata": {},
   "outputs": [],
   "source": []
  },
  {
   "cell_type": "markdown",
   "metadata": {},
   "source": [
    "### Compare boxplots side-by-side by analyzing medians"
   ]
  },
  {
   "cell_type": "code",
   "execution_count": null,
   "metadata": {},
   "outputs": [],
   "source": []
  },
  {
   "cell_type": "markdown",
   "metadata": {},
   "source": [
    "### lineplot"
   ]
  },
  {
   "cell_type": "code",
   "execution_count": null,
   "metadata": {},
   "outputs": [],
   "source": []
  },
  {
   "cell_type": "markdown",
   "metadata": {},
   "source": [
    "### scatterplot (income, miles, educaiton)\n",
    "### scatterplot (income, miles, product)"
   ]
  },
  {
   "cell_type": "code",
   "execution_count": null,
   "metadata": {},
   "outputs": [],
   "source": []
  },
  {
   "cell_type": "markdown",
   "metadata": {},
   "source": [
    "### Key Insights TM195, TM495, TM798\n",
    "### Business Recommendations"
   ]
  }
 ],
 "metadata": {
  "kernelspec": {
   "display_name": "Python 3 (ipykernel)",
   "language": "python",
   "name": "python3"
  },
  "language_info": {
   "codemirror_mode": {
    "name": "ipython",
    "version": 3
   },
   "file_extension": ".py",
   "mimetype": "text/x-python",
   "name": "python",
   "nbconvert_exporter": "python",
   "pygments_lexer": "ipython3",
   "version": "3.9.9"
  }
 },
 "nbformat": 4,
 "nbformat_minor": 4
}
